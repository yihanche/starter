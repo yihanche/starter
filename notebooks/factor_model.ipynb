{
 "cells": [
  {
   "cell_type": "markdown",
   "metadata": {},
   "source": [
    "# Factor Model Estimator"
   ]
  },
  {
   "cell_type": "markdown",
   "metadata": {},
   "source": [
    "Factor Model impose a **structure** on asset's covariance matrix by using factors to explain their relationships.\n",
    "+ Reduce the dimensionality of estimation.\n",
    "+ Robust against noise\n",
    "+ Decompose risk into systematic and idiosyncratic components"
   ]
  },
  {
   "cell_type": "markdown",
   "metadata": {},
   "source": [
    "## Data"
   ]
  },
  {
   "cell_type": "markdown",
   "metadata": {},
   "source": [
    "Use 5 ETF's daily prices as common factors."
   ]
  },
  {
   "cell_type": "code",
   "execution_count": 3,
   "metadata": {},
   "outputs": [],
   "source": [
    "from plotly.io import show\n",
    "from sklearn.linear_model import RidgeCV\n",
    "from sklearn.model_selection import train_test_split\n",
    "\n",
    "from skfolio import Population, RiskMeasure\n",
    "from skfolio.datasets import load_factors_dataset, load_sp500_dataset\n",
    "from skfolio.moments import GerberCovariance, ShrunkMu\n",
    "from skfolio.optimization import MeanRisk, ObjectiveFunction\n",
    "from skfolio.preprocessing import prices_to_returns\n",
    "from skfolio.prior import EmpiricalPrior, FactorModel, LoadingMatrixRegression\n",
    "\n",
    "prices = load_sp500_dataset()\n",
    "factor_prices = load_factors_dataset()\n",
    "\n",
    "X, y = prices_to_returns(prices, factor_prices)\n",
    "X_train, X_test, y_train, y_test = train_test_split(X, y, test_size=0.33, shuffle=False)"
   ]
  },
  {
   "cell_type": "code",
   "execution_count": 6,
   "metadata": {},
   "outputs": [
    {
     "data": {
      "text/html": [
       "<div>\n",
       "<style scoped>\n",
       "    .dataframe tbody tr th:only-of-type {\n",
       "        vertical-align: middle;\n",
       "    }\n",
       "\n",
       "    .dataframe tbody tr th {\n",
       "        vertical-align: top;\n",
       "    }\n",
       "\n",
       "    .dataframe thead th {\n",
       "        text-align: right;\n",
       "    }\n",
       "</style>\n",
       "<table border=\"1\" class=\"dataframe\">\n",
       "  <thead>\n",
       "    <tr style=\"text-align: right;\">\n",
       "      <th></th>\n",
       "      <th>AAPL</th>\n",
       "      <th>AMD</th>\n",
       "      <th>BAC</th>\n",
       "      <th>BBY</th>\n",
       "      <th>CVX</th>\n",
       "      <th>GE</th>\n",
       "      <th>HD</th>\n",
       "      <th>JNJ</th>\n",
       "      <th>JPM</th>\n",
       "      <th>KO</th>\n",
       "      <th>LLY</th>\n",
       "      <th>MRK</th>\n",
       "      <th>MSFT</th>\n",
       "      <th>PEP</th>\n",
       "      <th>PFE</th>\n",
       "      <th>PG</th>\n",
       "      <th>RRC</th>\n",
       "      <th>UNH</th>\n",
       "      <th>WMT</th>\n",
       "      <th>XOM</th>\n",
       "    </tr>\n",
       "    <tr>\n",
       "      <th>Date</th>\n",
       "      <th></th>\n",
       "      <th></th>\n",
       "      <th></th>\n",
       "      <th></th>\n",
       "      <th></th>\n",
       "      <th></th>\n",
       "      <th></th>\n",
       "      <th></th>\n",
       "      <th></th>\n",
       "      <th></th>\n",
       "      <th></th>\n",
       "      <th></th>\n",
       "      <th></th>\n",
       "      <th></th>\n",
       "      <th></th>\n",
       "      <th></th>\n",
       "      <th></th>\n",
       "      <th></th>\n",
       "      <th></th>\n",
       "      <th></th>\n",
       "    </tr>\n",
       "  </thead>\n",
       "  <tbody>\n",
       "    <tr>\n",
       "      <th>2014-01-03</th>\n",
       "      <td>-0.021941</td>\n",
       "      <td>0.012658</td>\n",
       "      <td>0.019298</td>\n",
       "      <td>0.004423</td>\n",
       "      <td>0.001694</td>\n",
       "      <td>-0.000724</td>\n",
       "      <td>-0.001591</td>\n",
       "      <td>0.009005</td>\n",
       "      <td>0.007727</td>\n",
       "      <td>-0.004921</td>\n",
       "      <td>0.007290</td>\n",
       "      <td>0.004831</td>\n",
       "      <td>-0.006747</td>\n",
       "      <td>0.001696</td>\n",
       "      <td>0.001976</td>\n",
       "      <td>-0.001119</td>\n",
       "      <td>-0.014801</td>\n",
       "      <td>0.007104</td>\n",
       "      <td>-0.003300</td>\n",
       "      <td>-0.002409</td>\n",
       "    </tr>\n",
       "    <tr>\n",
       "      <th>2014-01-06</th>\n",
       "      <td>0.005417</td>\n",
       "      <td>0.032500</td>\n",
       "      <td>0.015233</td>\n",
       "      <td>-0.031223</td>\n",
       "      <td>-0.002663</td>\n",
       "      <td>-0.008007</td>\n",
       "      <td>-0.009639</td>\n",
       "      <td>0.005223</td>\n",
       "      <td>0.005801</td>\n",
       "      <td>-0.004678</td>\n",
       "      <td>0.008424</td>\n",
       "      <td>0.000198</td>\n",
       "      <td>-0.021116</td>\n",
       "      <td>0.000495</td>\n",
       "      <td>0.000986</td>\n",
       "      <td>0.002372</td>\n",
       "      <td>0.006461</td>\n",
       "      <td>-0.011444</td>\n",
       "      <td>-0.005591</td>\n",
       "      <td>0.001503</td>\n",
       "    </tr>\n",
       "    <tr>\n",
       "      <th>2014-01-07</th>\n",
       "      <td>-0.007145</td>\n",
       "      <td>0.012107</td>\n",
       "      <td>-0.009646</td>\n",
       "      <td>-0.026135</td>\n",
       "      <td>0.008466</td>\n",
       "      <td>0.001096</td>\n",
       "      <td>0.004920</td>\n",
       "      <td>0.021230</td>\n",
       "      <td>-0.011535</td>\n",
       "      <td>0.002954</td>\n",
       "      <td>-0.006601</td>\n",
       "      <td>0.007464</td>\n",
       "      <td>0.007758</td>\n",
       "      <td>0.014579</td>\n",
       "      <td>0.006206</td>\n",
       "      <td>0.009661</td>\n",
       "      <td>0.017028</td>\n",
       "      <td>0.030569</td>\n",
       "      <td>0.003078</td>\n",
       "      <td>0.014147</td>\n",
       "    </tr>\n",
       "    <tr>\n",
       "      <th>2014-01-08</th>\n",
       "      <td>0.006311</td>\n",
       "      <td>0.000000</td>\n",
       "      <td>0.004834</td>\n",
       "      <td>-0.014072</td>\n",
       "      <td>-0.014226</td>\n",
       "      <td>-0.002926</td>\n",
       "      <td>0.005277</td>\n",
       "      <td>-0.001371</td>\n",
       "      <td>0.009434</td>\n",
       "      <td>-0.011147</td>\n",
       "      <td>-0.001571</td>\n",
       "      <td>-0.006399</td>\n",
       "      <td>-0.017865</td>\n",
       "      <td>-0.002880</td>\n",
       "      <td>0.006853</td>\n",
       "      <td>-0.014483</td>\n",
       "      <td>0.001090</td>\n",
       "      <td>-0.011626</td>\n",
       "      <td>-0.007907</td>\n",
       "      <td>-0.003259</td>\n",
       "    </tr>\n",
       "    <tr>\n",
       "      <th>2014-01-09</th>\n",
       "      <td>-0.012719</td>\n",
       "      <td>-0.021531</td>\n",
       "      <td>0.015078</td>\n",
       "      <td>-0.008176</td>\n",
       "      <td>0.000000</td>\n",
       "      <td>0.000366</td>\n",
       "      <td>-0.004385</td>\n",
       "      <td>0.006056</td>\n",
       "      <td>-0.001860</td>\n",
       "      <td>-0.005247</td>\n",
       "      <td>0.011157</td>\n",
       "      <td>-0.005423</td>\n",
       "      <td>-0.006449</td>\n",
       "      <td>-0.004688</td>\n",
       "      <td>-0.000681</td>\n",
       "      <td>0.002246</td>\n",
       "      <td>-0.015635</td>\n",
       "      <td>0.006088</td>\n",
       "      <td>0.003346</td>\n",
       "      <td>-0.009735</td>\n",
       "    </tr>\n",
       "  </tbody>\n",
       "</table>\n",
       "</div>"
      ],
      "text/plain": [
       "                AAPL       AMD       BAC       BBY       CVX        GE  \\\n",
       "Date                                                                     \n",
       "2014-01-03 -0.021941  0.012658  0.019298  0.004423  0.001694 -0.000724   \n",
       "2014-01-06  0.005417  0.032500  0.015233 -0.031223 -0.002663 -0.008007   \n",
       "2014-01-07 -0.007145  0.012107 -0.009646 -0.026135  0.008466  0.001096   \n",
       "2014-01-08  0.006311  0.000000  0.004834 -0.014072 -0.014226 -0.002926   \n",
       "2014-01-09 -0.012719 -0.021531  0.015078 -0.008176  0.000000  0.000366   \n",
       "\n",
       "                  HD       JNJ       JPM        KO       LLY       MRK  \\\n",
       "Date                                                                     \n",
       "2014-01-03 -0.001591  0.009005  0.007727 -0.004921  0.007290  0.004831   \n",
       "2014-01-06 -0.009639  0.005223  0.005801 -0.004678  0.008424  0.000198   \n",
       "2014-01-07  0.004920  0.021230 -0.011535  0.002954 -0.006601  0.007464   \n",
       "2014-01-08  0.005277 -0.001371  0.009434 -0.011147 -0.001571 -0.006399   \n",
       "2014-01-09 -0.004385  0.006056 -0.001860 -0.005247  0.011157 -0.005423   \n",
       "\n",
       "                MSFT       PEP       PFE        PG       RRC       UNH  \\\n",
       "Date                                                                     \n",
       "2014-01-03 -0.006747  0.001696  0.001976 -0.001119 -0.014801  0.007104   \n",
       "2014-01-06 -0.021116  0.000495  0.000986  0.002372  0.006461 -0.011444   \n",
       "2014-01-07  0.007758  0.014579  0.006206  0.009661  0.017028  0.030569   \n",
       "2014-01-08 -0.017865 -0.002880  0.006853 -0.014483  0.001090 -0.011626   \n",
       "2014-01-09 -0.006449 -0.004688 -0.000681  0.002246 -0.015635  0.006088   \n",
       "\n",
       "                 WMT       XOM  \n",
       "Date                            \n",
       "2014-01-03 -0.003300 -0.002409  \n",
       "2014-01-06 -0.005591  0.001503  \n",
       "2014-01-07  0.003078  0.014147  \n",
       "2014-01-08 -0.007907 -0.003259  \n",
       "2014-01-09  0.003346 -0.009735  "
      ]
     },
     "execution_count": 6,
     "metadata": {},
     "output_type": "execute_result"
    }
   ],
   "source": [
    "X_train.head()"
   ]
  },
  {
   "cell_type": "code",
   "execution_count": 7,
   "metadata": {},
   "outputs": [
    {
     "data": {
      "text/html": [
       "<div>\n",
       "<style scoped>\n",
       "    .dataframe tbody tr th:only-of-type {\n",
       "        vertical-align: middle;\n",
       "    }\n",
       "\n",
       "    .dataframe tbody tr th {\n",
       "        vertical-align: top;\n",
       "    }\n",
       "\n",
       "    .dataframe thead th {\n",
       "        text-align: right;\n",
       "    }\n",
       "</style>\n",
       "<table border=\"1\" class=\"dataframe\">\n",
       "  <thead>\n",
       "    <tr style=\"text-align: right;\">\n",
       "      <th></th>\n",
       "      <th>MTUM</th>\n",
       "      <th>QUAL</th>\n",
       "      <th>SIZE</th>\n",
       "      <th>USMV</th>\n",
       "      <th>VLUE</th>\n",
       "    </tr>\n",
       "    <tr>\n",
       "      <th>Date</th>\n",
       "      <th></th>\n",
       "      <th></th>\n",
       "      <th></th>\n",
       "      <th></th>\n",
       "      <th></th>\n",
       "    </tr>\n",
       "  </thead>\n",
       "  <tbody>\n",
       "    <tr>\n",
       "      <th>2014-01-03</th>\n",
       "      <td>0.001670</td>\n",
       "      <td>-0.001965</td>\n",
       "      <td>-0.005389</td>\n",
       "      <td>-0.000273</td>\n",
       "      <td>-0.001169</td>\n",
       "    </tr>\n",
       "    <tr>\n",
       "      <th>2014-01-06</th>\n",
       "      <td>-0.002178</td>\n",
       "      <td>-0.003917</td>\n",
       "      <td>0.000000</td>\n",
       "      <td>-0.002284</td>\n",
       "      <td>-0.000170</td>\n",
       "    </tr>\n",
       "    <tr>\n",
       "      <th>2014-01-07</th>\n",
       "      <td>0.008258</td>\n",
       "      <td>0.008072</td>\n",
       "      <td>0.000185</td>\n",
       "      <td>0.005707</td>\n",
       "      <td>0.005576</td>\n",
       "    </tr>\n",
       "    <tr>\n",
       "      <th>2014-01-08</th>\n",
       "      <td>0.007343</td>\n",
       "      <td>-0.000371</td>\n",
       "      <td>0.000000</td>\n",
       "      <td>-0.000272</td>\n",
       "      <td>0.000000</td>\n",
       "    </tr>\n",
       "    <tr>\n",
       "      <th>2014-01-09</th>\n",
       "      <td>0.001832</td>\n",
       "      <td>-0.000537</td>\n",
       "      <td>-0.002093</td>\n",
       "      <td>0.001428</td>\n",
       "      <td>-0.002180</td>\n",
       "    </tr>\n",
       "  </tbody>\n",
       "</table>\n",
       "</div>"
      ],
      "text/plain": [
       "                MTUM      QUAL      SIZE      USMV      VLUE\n",
       "Date                                                        \n",
       "2014-01-03  0.001670 -0.001965 -0.005389 -0.000273 -0.001169\n",
       "2014-01-06 -0.002178 -0.003917  0.000000 -0.002284 -0.000170\n",
       "2014-01-07  0.008258  0.008072  0.000185  0.005707  0.005576\n",
       "2014-01-08  0.007343 -0.000371  0.000000 -0.000272  0.000000\n",
       "2014-01-09  0.001832 -0.000537 -0.002093  0.001428 -0.002180"
      ]
     },
     "execution_count": 7,
     "metadata": {},
     "output_type": "execute_result"
    }
   ],
   "source": [
    "y_train.head()"
   ]
  },
  {
   "cell_type": "markdown",
   "metadata": {},
   "source": [
    "## Model"
   ]
  },
  {
   "cell_type": "code",
   "execution_count": 8,
   "metadata": {},
   "outputs": [
    {
     "data": {
      "text/plain": [
       "array([1.03294289e-06, 1.27482685e-03, 4.19682803e-07, 3.34130825e-06,\n",
       "       7.36838286e-07, 1.28824408e-06, 5.13031432e-02, 6.35619183e-02,\n",
       "       6.14804833e-07, 1.79106051e-01, 5.03130911e-02, 7.13734379e-02,\n",
       "       4.13002526e-02, 2.27978407e-01, 5.13348034e-02, 1.44130375e-01,\n",
       "       2.99026116e-07, 6.19737850e-02, 5.63413085e-02, 8.67773196e-07])"
      ]
     },
     "execution_count": 8,
     "metadata": {},
     "output_type": "execute_result"
    }
   ],
   "source": [
    "max_sharpe_model_factor_1 = MeanRisk(\n",
    "    risk_measure=RiskMeasure.VARIANCE,\n",
    "    objective_function=ObjectiveFunction.MAXIMIZE_RATIO,\n",
    "    prior_estimator=FactorModel(),\n",
    "    portfolio_params=dict(name=\"Factor Model 1\")\n",
    ")\n",
    "max_sharpe_model_factor_1.fit(X_train, y_train)\n",
    "max_sharpe_model_factor_1.weights_"
   ]
  },
  {
   "cell_type": "code",
   "execution_count": 9,
   "metadata": {},
   "outputs": [
    {
     "data": {
      "text/plain": [
       "array([3.97758339e-02, 6.57843874e-03, 2.18405141e-02, 8.98258882e-03,\n",
       "       3.16197378e-02, 1.42391168e-02, 8.00124906e-02, 8.32090802e-02,\n",
       "       4.74782930e-02, 8.59470407e-02, 4.59776221e-02, 5.91778878e-02,\n",
       "       8.42236770e-02, 1.05684777e-01, 6.43841778e-02, 7.94729901e-02,\n",
       "       3.76786711e-05, 5.23695742e-02, 4.35215146e-02, 4.54669667e-02])"
      ]
     },
     "execution_count": 9,
     "metadata": {},
     "output_type": "execute_result"
    }
   ],
   "source": [
    "max_sharpe_model_factor_2 = MeanRisk(\n",
    "    risk_measure=RiskMeasure.VARIANCE,\n",
    "    objective_function=ObjectiveFunction.MAXIMIZE_RATIO,\n",
    "    prior_estimator=FactorModel(\n",
    "        loading_matrix_estimator=LoadingMatrixRegression(\n",
    "            linear_regressor=RidgeCV(fit_intercept=False), n_jobs=-1\n",
    "        )\n",
    "    ),\n",
    "    portfolio_params=dict(name=\"Factor Model 2\")\n",
    ")\n",
    "max_sharpe_model_factor_2.fit(X_train, y_train)\n",
    "max_sharpe_model_factor_2.weights_"
   ]
  },
  {
   "cell_type": "markdown",
   "metadata": {},
   "source": [
    "Empirical prior estimator of factors."
   ]
  },
  {
   "cell_type": "code",
   "execution_count": 10,
   "metadata": {},
   "outputs": [
    {
     "data": {
      "text/plain": [
       "array([4.86490688e-07, 4.38230191e-07, 4.24408219e-08, 6.69653310e-08,\n",
       "       5.11878211e-08, 6.14581598e-08, 1.68436387e-02, 2.08439608e-06,\n",
       "       5.27854151e-08, 6.45513596e-02, 6.24004728e-02, 9.61498232e-02,\n",
       "       3.68209826e-01, 2.44692220e-01, 5.86512134e-07, 9.30385158e-06,\n",
       "       2.19939734e-08, 1.47139096e-01, 3.09340377e-07, 5.81316429e-08])"
      ]
     },
     "execution_count": 10,
     "metadata": {},
     "output_type": "execute_result"
    }
   ],
   "source": [
    "max_sharpe_model_factor_3 = MeanRisk(\n",
    "    risk_measure=RiskMeasure.VARIANCE,\n",
    "    objective_function=ObjectiveFunction.MAXIMIZE_RATIO,\n",
    "    prior_estimator=FactorModel(\n",
    "        factor_prior_estimator=EmpiricalPrior(\n",
    "            mu_estimator=ShrunkMu(), covariance_estimator=GerberCovariance()\n",
    "        )\n",
    "    ),\n",
    "    portfolio_params=dict(name=\"Factor Model 3\")\n",
    ")\n",
    "max_sharpe_model_factor_3.fit(X_train, y_train)\n",
    "max_sharpe_model_factor_3.weights_"
   ]
  },
  {
   "cell_type": "code",
   "execution_count": 18,
   "metadata": {},
   "outputs": [
    {
     "data": {
      "text/html": [
       "<style>#sk-container-id-3 {\n",
       "  /* Definition of color scheme common for light and dark mode */\n",
       "  --sklearn-color-text: #000;\n",
       "  --sklearn-color-text-muted: #666;\n",
       "  --sklearn-color-line: gray;\n",
       "  /* Definition of color scheme for unfitted estimators */\n",
       "  --sklearn-color-unfitted-level-0: #fff5e6;\n",
       "  --sklearn-color-unfitted-level-1: #f6e4d2;\n",
       "  --sklearn-color-unfitted-level-2: #ffe0b3;\n",
       "  --sklearn-color-unfitted-level-3: chocolate;\n",
       "  /* Definition of color scheme for fitted estimators */\n",
       "  --sklearn-color-fitted-level-0: #f0f8ff;\n",
       "  --sklearn-color-fitted-level-1: #d4ebff;\n",
       "  --sklearn-color-fitted-level-2: #b3dbfd;\n",
       "  --sklearn-color-fitted-level-3: cornflowerblue;\n",
       "\n",
       "  /* Specific color for light theme */\n",
       "  --sklearn-color-text-on-default-background: var(--sg-text-color, var(--theme-code-foreground, var(--jp-content-font-color1, black)));\n",
       "  --sklearn-color-background: var(--sg-background-color, var(--theme-background, var(--jp-layout-color0, white)));\n",
       "  --sklearn-color-border-box: var(--sg-text-color, var(--theme-code-foreground, var(--jp-content-font-color1, black)));\n",
       "  --sklearn-color-icon: #696969;\n",
       "\n",
       "  @media (prefers-color-scheme: dark) {\n",
       "    /* Redefinition of color scheme for dark theme */\n",
       "    --sklearn-color-text-on-default-background: var(--sg-text-color, var(--theme-code-foreground, var(--jp-content-font-color1, white)));\n",
       "    --sklearn-color-background: var(--sg-background-color, var(--theme-background, var(--jp-layout-color0, #111)));\n",
       "    --sklearn-color-border-box: var(--sg-text-color, var(--theme-code-foreground, var(--jp-content-font-color1, white)));\n",
       "    --sklearn-color-icon: #878787;\n",
       "  }\n",
       "}\n",
       "\n",
       "#sk-container-id-3 {\n",
       "  color: var(--sklearn-color-text);\n",
       "}\n",
       "\n",
       "#sk-container-id-3 pre {\n",
       "  padding: 0;\n",
       "}\n",
       "\n",
       "#sk-container-id-3 input.sk-hidden--visually {\n",
       "  border: 0;\n",
       "  clip: rect(1px 1px 1px 1px);\n",
       "  clip: rect(1px, 1px, 1px, 1px);\n",
       "  height: 1px;\n",
       "  margin: -1px;\n",
       "  overflow: hidden;\n",
       "  padding: 0;\n",
       "  position: absolute;\n",
       "  width: 1px;\n",
       "}\n",
       "\n",
       "#sk-container-id-3 div.sk-dashed-wrapped {\n",
       "  border: 1px dashed var(--sklearn-color-line);\n",
       "  margin: 0 0.4em 0.5em 0.4em;\n",
       "  box-sizing: border-box;\n",
       "  padding-bottom: 0.4em;\n",
       "  background-color: var(--sklearn-color-background);\n",
       "}\n",
       "\n",
       "#sk-container-id-3 div.sk-container {\n",
       "  /* jupyter's `normalize.less` sets `[hidden] { display: none; }`\n",
       "     but bootstrap.min.css set `[hidden] { display: none !important; }`\n",
       "     so we also need the `!important` here to be able to override the\n",
       "     default hidden behavior on the sphinx rendered scikit-learn.org.\n",
       "     See: https://github.com/scikit-learn/scikit-learn/issues/21755 */\n",
       "  display: inline-block !important;\n",
       "  position: relative;\n",
       "}\n",
       "\n",
       "#sk-container-id-3 div.sk-text-repr-fallback {\n",
       "  display: none;\n",
       "}\n",
       "\n",
       "div.sk-parallel-item,\n",
       "div.sk-serial,\n",
       "div.sk-item {\n",
       "  /* draw centered vertical line to link estimators */\n",
       "  background-image: linear-gradient(var(--sklearn-color-text-on-default-background), var(--sklearn-color-text-on-default-background));\n",
       "  background-size: 2px 100%;\n",
       "  background-repeat: no-repeat;\n",
       "  background-position: center center;\n",
       "}\n",
       "\n",
       "/* Parallel-specific style estimator block */\n",
       "\n",
       "#sk-container-id-3 div.sk-parallel-item::after {\n",
       "  content: \"\";\n",
       "  width: 100%;\n",
       "  border-bottom: 2px solid var(--sklearn-color-text-on-default-background);\n",
       "  flex-grow: 1;\n",
       "}\n",
       "\n",
       "#sk-container-id-3 div.sk-parallel {\n",
       "  display: flex;\n",
       "  align-items: stretch;\n",
       "  justify-content: center;\n",
       "  background-color: var(--sklearn-color-background);\n",
       "  position: relative;\n",
       "}\n",
       "\n",
       "#sk-container-id-3 div.sk-parallel-item {\n",
       "  display: flex;\n",
       "  flex-direction: column;\n",
       "}\n",
       "\n",
       "#sk-container-id-3 div.sk-parallel-item:first-child::after {\n",
       "  align-self: flex-end;\n",
       "  width: 50%;\n",
       "}\n",
       "\n",
       "#sk-container-id-3 div.sk-parallel-item:last-child::after {\n",
       "  align-self: flex-start;\n",
       "  width: 50%;\n",
       "}\n",
       "\n",
       "#sk-container-id-3 div.sk-parallel-item:only-child::after {\n",
       "  width: 0;\n",
       "}\n",
       "\n",
       "/* Serial-specific style estimator block */\n",
       "\n",
       "#sk-container-id-3 div.sk-serial {\n",
       "  display: flex;\n",
       "  flex-direction: column;\n",
       "  align-items: center;\n",
       "  background-color: var(--sklearn-color-background);\n",
       "  padding-right: 1em;\n",
       "  padding-left: 1em;\n",
       "}\n",
       "\n",
       "\n",
       "/* Toggleable style: style used for estimator/Pipeline/ColumnTransformer box that is\n",
       "clickable and can be expanded/collapsed.\n",
       "- Pipeline and ColumnTransformer use this feature and define the default style\n",
       "- Estimators will overwrite some part of the style using the `sk-estimator` class\n",
       "*/\n",
       "\n",
       "/* Pipeline and ColumnTransformer style (default) */\n",
       "\n",
       "#sk-container-id-3 div.sk-toggleable {\n",
       "  /* Default theme specific background. It is overwritten whether we have a\n",
       "  specific estimator or a Pipeline/ColumnTransformer */\n",
       "  background-color: var(--sklearn-color-background);\n",
       "}\n",
       "\n",
       "/* Toggleable label */\n",
       "#sk-container-id-3 label.sk-toggleable__label {\n",
       "  cursor: pointer;\n",
       "  display: flex;\n",
       "  width: 100%;\n",
       "  margin-bottom: 0;\n",
       "  padding: 0.5em;\n",
       "  box-sizing: border-box;\n",
       "  text-align: center;\n",
       "  align-items: start;\n",
       "  justify-content: space-between;\n",
       "  gap: 0.5em;\n",
       "}\n",
       "\n",
       "#sk-container-id-3 label.sk-toggleable__label .caption {\n",
       "  font-size: 0.6rem;\n",
       "  font-weight: lighter;\n",
       "  color: var(--sklearn-color-text-muted);\n",
       "}\n",
       "\n",
       "#sk-container-id-3 label.sk-toggleable__label-arrow:before {\n",
       "  /* Arrow on the left of the label */\n",
       "  content: \"▸\";\n",
       "  float: left;\n",
       "  margin-right: 0.25em;\n",
       "  color: var(--sklearn-color-icon);\n",
       "}\n",
       "\n",
       "#sk-container-id-3 label.sk-toggleable__label-arrow:hover:before {\n",
       "  color: var(--sklearn-color-text);\n",
       "}\n",
       "\n",
       "/* Toggleable content - dropdown */\n",
       "\n",
       "#sk-container-id-3 div.sk-toggleable__content {\n",
       "  max-height: 0;\n",
       "  max-width: 0;\n",
       "  overflow: hidden;\n",
       "  text-align: left;\n",
       "  /* unfitted */\n",
       "  background-color: var(--sklearn-color-unfitted-level-0);\n",
       "}\n",
       "\n",
       "#sk-container-id-3 div.sk-toggleable__content.fitted {\n",
       "  /* fitted */\n",
       "  background-color: var(--sklearn-color-fitted-level-0);\n",
       "}\n",
       "\n",
       "#sk-container-id-3 div.sk-toggleable__content pre {\n",
       "  margin: 0.2em;\n",
       "  border-radius: 0.25em;\n",
       "  color: var(--sklearn-color-text);\n",
       "  /* unfitted */\n",
       "  background-color: var(--sklearn-color-unfitted-level-0);\n",
       "}\n",
       "\n",
       "#sk-container-id-3 div.sk-toggleable__content.fitted pre {\n",
       "  /* unfitted */\n",
       "  background-color: var(--sklearn-color-fitted-level-0);\n",
       "}\n",
       "\n",
       "#sk-container-id-3 input.sk-toggleable__control:checked~div.sk-toggleable__content {\n",
       "  /* Expand drop-down */\n",
       "  max-height: 200px;\n",
       "  max-width: 100%;\n",
       "  overflow: auto;\n",
       "}\n",
       "\n",
       "#sk-container-id-3 input.sk-toggleable__control:checked~label.sk-toggleable__label-arrow:before {\n",
       "  content: \"▾\";\n",
       "}\n",
       "\n",
       "/* Pipeline/ColumnTransformer-specific style */\n",
       "\n",
       "#sk-container-id-3 div.sk-label input.sk-toggleable__control:checked~label.sk-toggleable__label {\n",
       "  color: var(--sklearn-color-text);\n",
       "  background-color: var(--sklearn-color-unfitted-level-2);\n",
       "}\n",
       "\n",
       "#sk-container-id-3 div.sk-label.fitted input.sk-toggleable__control:checked~label.sk-toggleable__label {\n",
       "  background-color: var(--sklearn-color-fitted-level-2);\n",
       "}\n",
       "\n",
       "/* Estimator-specific style */\n",
       "\n",
       "/* Colorize estimator box */\n",
       "#sk-container-id-3 div.sk-estimator input.sk-toggleable__control:checked~label.sk-toggleable__label {\n",
       "  /* unfitted */\n",
       "  background-color: var(--sklearn-color-unfitted-level-2);\n",
       "}\n",
       "\n",
       "#sk-container-id-3 div.sk-estimator.fitted input.sk-toggleable__control:checked~label.sk-toggleable__label {\n",
       "  /* fitted */\n",
       "  background-color: var(--sklearn-color-fitted-level-2);\n",
       "}\n",
       "\n",
       "#sk-container-id-3 div.sk-label label.sk-toggleable__label,\n",
       "#sk-container-id-3 div.sk-label label {\n",
       "  /* The background is the default theme color */\n",
       "  color: var(--sklearn-color-text-on-default-background);\n",
       "}\n",
       "\n",
       "/* On hover, darken the color of the background */\n",
       "#sk-container-id-3 div.sk-label:hover label.sk-toggleable__label {\n",
       "  color: var(--sklearn-color-text);\n",
       "  background-color: var(--sklearn-color-unfitted-level-2);\n",
       "}\n",
       "\n",
       "/* Label box, darken color on hover, fitted */\n",
       "#sk-container-id-3 div.sk-label.fitted:hover label.sk-toggleable__label.fitted {\n",
       "  color: var(--sklearn-color-text);\n",
       "  background-color: var(--sklearn-color-fitted-level-2);\n",
       "}\n",
       "\n",
       "/* Estimator label */\n",
       "\n",
       "#sk-container-id-3 div.sk-label label {\n",
       "  font-family: monospace;\n",
       "  font-weight: bold;\n",
       "  display: inline-block;\n",
       "  line-height: 1.2em;\n",
       "}\n",
       "\n",
       "#sk-container-id-3 div.sk-label-container {\n",
       "  text-align: center;\n",
       "}\n",
       "\n",
       "/* Estimator-specific */\n",
       "#sk-container-id-3 div.sk-estimator {\n",
       "  font-family: monospace;\n",
       "  border: 1px dotted var(--sklearn-color-border-box);\n",
       "  border-radius: 0.25em;\n",
       "  box-sizing: border-box;\n",
       "  margin-bottom: 0.5em;\n",
       "  /* unfitted */\n",
       "  background-color: var(--sklearn-color-unfitted-level-0);\n",
       "}\n",
       "\n",
       "#sk-container-id-3 div.sk-estimator.fitted {\n",
       "  /* fitted */\n",
       "  background-color: var(--sklearn-color-fitted-level-0);\n",
       "}\n",
       "\n",
       "/* on hover */\n",
       "#sk-container-id-3 div.sk-estimator:hover {\n",
       "  /* unfitted */\n",
       "  background-color: var(--sklearn-color-unfitted-level-2);\n",
       "}\n",
       "\n",
       "#sk-container-id-3 div.sk-estimator.fitted:hover {\n",
       "  /* fitted */\n",
       "  background-color: var(--sklearn-color-fitted-level-2);\n",
       "}\n",
       "\n",
       "/* Specification for estimator info (e.g. \"i\" and \"?\") */\n",
       "\n",
       "/* Common style for \"i\" and \"?\" */\n",
       "\n",
       ".sk-estimator-doc-link,\n",
       "a:link.sk-estimator-doc-link,\n",
       "a:visited.sk-estimator-doc-link {\n",
       "  float: right;\n",
       "  font-size: smaller;\n",
       "  line-height: 1em;\n",
       "  font-family: monospace;\n",
       "  background-color: var(--sklearn-color-background);\n",
       "  border-radius: 1em;\n",
       "  height: 1em;\n",
       "  width: 1em;\n",
       "  text-decoration: none !important;\n",
       "  margin-left: 0.5em;\n",
       "  text-align: center;\n",
       "  /* unfitted */\n",
       "  border: var(--sklearn-color-unfitted-level-1) 1pt solid;\n",
       "  color: var(--sklearn-color-unfitted-level-1);\n",
       "}\n",
       "\n",
       ".sk-estimator-doc-link.fitted,\n",
       "a:link.sk-estimator-doc-link.fitted,\n",
       "a:visited.sk-estimator-doc-link.fitted {\n",
       "  /* fitted */\n",
       "  border: var(--sklearn-color-fitted-level-1) 1pt solid;\n",
       "  color: var(--sklearn-color-fitted-level-1);\n",
       "}\n",
       "\n",
       "/* On hover */\n",
       "div.sk-estimator:hover .sk-estimator-doc-link:hover,\n",
       ".sk-estimator-doc-link:hover,\n",
       "div.sk-label-container:hover .sk-estimator-doc-link:hover,\n",
       ".sk-estimator-doc-link:hover {\n",
       "  /* unfitted */\n",
       "  background-color: var(--sklearn-color-unfitted-level-3);\n",
       "  color: var(--sklearn-color-background);\n",
       "  text-decoration: none;\n",
       "}\n",
       "\n",
       "div.sk-estimator.fitted:hover .sk-estimator-doc-link.fitted:hover,\n",
       ".sk-estimator-doc-link.fitted:hover,\n",
       "div.sk-label-container:hover .sk-estimator-doc-link.fitted:hover,\n",
       ".sk-estimator-doc-link.fitted:hover {\n",
       "  /* fitted */\n",
       "  background-color: var(--sklearn-color-fitted-level-3);\n",
       "  color: var(--sklearn-color-background);\n",
       "  text-decoration: none;\n",
       "}\n",
       "\n",
       "/* Span, style for the box shown on hovering the info icon */\n",
       ".sk-estimator-doc-link span {\n",
       "  display: none;\n",
       "  z-index: 9999;\n",
       "  position: relative;\n",
       "  font-weight: normal;\n",
       "  right: .2ex;\n",
       "  padding: .5ex;\n",
       "  margin: .5ex;\n",
       "  width: min-content;\n",
       "  min-width: 20ex;\n",
       "  max-width: 50ex;\n",
       "  color: var(--sklearn-color-text);\n",
       "  box-shadow: 2pt 2pt 4pt #999;\n",
       "  /* unfitted */\n",
       "  background: var(--sklearn-color-unfitted-level-0);\n",
       "  border: .5pt solid var(--sklearn-color-unfitted-level-3);\n",
       "}\n",
       "\n",
       ".sk-estimator-doc-link.fitted span {\n",
       "  /* fitted */\n",
       "  background: var(--sklearn-color-fitted-level-0);\n",
       "  border: var(--sklearn-color-fitted-level-3);\n",
       "}\n",
       "\n",
       ".sk-estimator-doc-link:hover span {\n",
       "  display: block;\n",
       "}\n",
       "\n",
       "/* \"?\"-specific style due to the `<a>` HTML tag */\n",
       "\n",
       "#sk-container-id-3 a.estimator_doc_link {\n",
       "  float: right;\n",
       "  font-size: 1rem;\n",
       "  line-height: 1em;\n",
       "  font-family: monospace;\n",
       "  background-color: var(--sklearn-color-background);\n",
       "  border-radius: 1rem;\n",
       "  height: 1rem;\n",
       "  width: 1rem;\n",
       "  text-decoration: none;\n",
       "  /* unfitted */\n",
       "  color: var(--sklearn-color-unfitted-level-1);\n",
       "  border: var(--sklearn-color-unfitted-level-1) 1pt solid;\n",
       "}\n",
       "\n",
       "#sk-container-id-3 a.estimator_doc_link.fitted {\n",
       "  /* fitted */\n",
       "  border: var(--sklearn-color-fitted-level-1) 1pt solid;\n",
       "  color: var(--sklearn-color-fitted-level-1);\n",
       "}\n",
       "\n",
       "/* On hover */\n",
       "#sk-container-id-3 a.estimator_doc_link:hover {\n",
       "  /* unfitted */\n",
       "  background-color: var(--sklearn-color-unfitted-level-3);\n",
       "  color: var(--sklearn-color-background);\n",
       "  text-decoration: none;\n",
       "}\n",
       "\n",
       "#sk-container-id-3 a.estimator_doc_link.fitted:hover {\n",
       "  /* fitted */\n",
       "  background-color: var(--sklearn-color-fitted-level-3);\n",
       "}\n",
       "</style><div id=\"sk-container-id-3\" class=\"sk-top-container\"><div class=\"sk-text-repr-fallback\"><pre>FactorModel(factor_prior_estimator=EmpiricalPrior(covariance_estimator=GerberCovariance(),\n",
       "                                                  mu_estimator=ShrunkMu()))</pre><b>In a Jupyter environment, please rerun this cell to show the HTML representation or trust the notebook. <br />On GitHub, the HTML representation is unable to render, please try loading this page with nbviewer.org.</b></div><div class=\"sk-container\" hidden><div class=\"sk-item sk-dashed-wrapped\"><div class=\"sk-label-container\"><div class=\"sk-label fitted sk-toggleable\"><input class=\"sk-toggleable__control sk-hidden--visually\" id=\"sk-estimator-id-13\" type=\"checkbox\" ><label for=\"sk-estimator-id-13\" class=\"sk-toggleable__label fitted sk-toggleable__label-arrow\"><div><div>FactorModel</div></div><div><span class=\"sk-estimator-doc-link fitted\">i<span>Fitted</span></span></div></label><div class=\"sk-toggleable__content fitted\"><pre>FactorModel(factor_prior_estimator=EmpiricalPrior(covariance_estimator=GerberCovariance(),\n",
       "                                                  mu_estimator=ShrunkMu()))</pre></div> </div></div><div class=\"sk-parallel\"><div class=\"sk-parallel-item\"><div class=\"sk-item\"><div class=\"sk-label-container\"><div class=\"sk-label fitted sk-toggleable\"><input class=\"sk-toggleable__control sk-hidden--visually\" id=\"sk-estimator-id-14\" type=\"checkbox\" ><label for=\"sk-estimator-id-14\" class=\"sk-toggleable__label fitted sk-toggleable__label-arrow\"><div><div>factor_prior_estimator: EmpiricalPrior</div></div></label><div class=\"sk-toggleable__content fitted\"><pre>EmpiricalPrior(covariance_estimator=GerberCovariance(), mu_estimator=ShrunkMu())</pre></div> </div></div><div class=\"sk-serial\"><div class=\"sk-item sk-dashed-wrapped\"><div class=\"sk-parallel\"><div class=\"sk-parallel-item\"><div class=\"sk-item\"><div class=\"sk-label-container\"><div class=\"sk-label fitted sk-toggleable\"><input class=\"sk-toggleable__control sk-hidden--visually\" id=\"sk-estimator-id-15\" type=\"checkbox\" ><label for=\"sk-estimator-id-15\" class=\"sk-toggleable__label fitted sk-toggleable__label-arrow\"><div><div>covariance_estimator: GerberCovariance</div></div></label><div class=\"sk-toggleable__content fitted\"><pre>GerberCovariance()</pre></div> </div></div><div class=\"sk-serial\"><div class=\"sk-item\"><div class=\"sk-estimator fitted sk-toggleable\"><input class=\"sk-toggleable__control sk-hidden--visually\" id=\"sk-estimator-id-16\" type=\"checkbox\" ><label for=\"sk-estimator-id-16\" class=\"sk-toggleable__label fitted sk-toggleable__label-arrow\"><div><div>GerberCovariance</div></div></label><div class=\"sk-toggleable__content fitted\"><pre>GerberCovariance()</pre></div> </div></div></div></div></div><div class=\"sk-parallel-item\"><div class=\"sk-item\"><div class=\"sk-label-container\"><div class=\"sk-label fitted sk-toggleable\"><input class=\"sk-toggleable__control sk-hidden--visually\" id=\"sk-estimator-id-17\" type=\"checkbox\" ><label for=\"sk-estimator-id-17\" class=\"sk-toggleable__label fitted sk-toggleable__label-arrow\"><div><div>mu_estimator: ShrunkMu</div></div></label><div class=\"sk-toggleable__content fitted\"><pre>ShrunkMu()</pre></div> </div></div><div class=\"sk-serial\"><div class=\"sk-item\"><div class=\"sk-estimator fitted sk-toggleable\"><input class=\"sk-toggleable__control sk-hidden--visually\" id=\"sk-estimator-id-18\" type=\"checkbox\" ><label for=\"sk-estimator-id-18\" class=\"sk-toggleable__label fitted sk-toggleable__label-arrow\"><div><div>ShrunkMu</div></div></label><div class=\"sk-toggleable__content fitted\"><pre>ShrunkMu()</pre></div> </div></div></div></div></div></div></div></div></div></div></div></div></div></div>"
      ],
      "text/plain": [
       "FactorModel(factor_prior_estimator=EmpiricalPrior(covariance_estimator=GerberCovariance(),\n",
       "                                                  mu_estimator=ShrunkMu()))"
      ]
     },
     "execution_count": 18,
     "metadata": {},
     "output_type": "execute_result"
    }
   ],
   "source": [
    "prior_estimator = max_sharpe_model_factor_3.prior_estimator_\n",
    "prior_estimator\n"
   ]
  },
  {
   "cell_type": "code",
   "execution_count": 19,
   "metadata": {},
   "outputs": [
    {
     "data": {
      "text/plain": [
       "PriorModel(mu=array([ 0.00059752,  0.00078836, -0.00053323, -0.00012697, -0.00033297,\n",
       "       -0.00021685,  0.00061879,  0.00054947, -0.00029846,  0.00050157,\n",
       "        0.00068264,  0.00069036,  0.00125097,  0.00065547,  0.00045871,\n",
       "        0.00049221, -0.00175945,  0.00081062,  0.00033362, -0.00023231]), covariance=array([[ 2.75022074e-04,  1.29310397e-04,  1.14094740e-04,\n",
       "         6.75191637e-05,  7.20639440e-05,  7.33237546e-05,\n",
       "         6.16476554e-05,  4.68291134e-05,  9.48837814e-05,\n",
       "        -5.26599038e-06,  3.48607146e-05,  3.01473788e-05,\n",
       "         1.15046221e-04,  1.40148901e-07,  3.44889698e-05,\n",
       "         8.52261680e-07,  1.05781045e-04,  2.90934542e-05,\n",
       "         3.88259728e-06,  7.75978321e-05],\n",
       "       [ 1.29310397e-04,  1.45566967e-03,  1.55981389e-04,\n",
       "         1.10954429e-04,  7.64768830e-05,  8.67241392e-05,\n",
       "         8.08813989e-05,  3.05345368e-05,  1.21105046e-04,\n",
       "        -4.89395055e-06,  4.82541428e-05,  4.51634980e-05,\n",
       "         1.27995691e-04, -4.55732351e-06,  5.66555704e-05,\n",
       "        -4.09562521e-06,  1.42304632e-04,  8.63190912e-05,\n",
       "         2.37363066e-05,  5.57555261e-05],\n",
       "       [ 1.14094740e-04,  1.55981389e-04,  2.69090256e-04,\n",
       "         1.01689654e-04,  9.49504435e-05,  9.35432817e-05,\n",
       "         5.78640096e-05,  2.91954895e-05,  1.24269576e-04,\n",
       "        -9.08347887e-06,  2.85402761e-05,  2.47993513e-05,\n",
       "         8.38345197e-05, -1.06712866e-05,  4.09363935e-05,\n",
       "        -4.57836762e-06,  1.84647624e-04,  4.28713997e-05,\n",
       "         1.66612855e-05,  8.13387650e-05],\n",
       "       [ 6.75191637e-05,  1.10954429e-04,  1.01689654e-04,\n",
       "         5.21322344e-04,  7.08593403e-05,  6.81915115e-05,\n",
       "         4.94184022e-05,  3.16221718e-05,  8.53304343e-05,\n",
       "         1.60443423e-05,  3.53552203e-05,  3.36832304e-05,\n",
       "         6.01253120e-05,  1.57659995e-05,  4.20884042e-05,\n",
       "         1.87708673e-05,  1.18332703e-04,  4.69483904e-05,\n",
       "         3.17546971e-05,  5.96513909e-05],\n",
       "       [ 7.20639440e-05,  7.64768830e-05,  9.49504435e-05,\n",
       "         7.08593403e-05,  1.90825444e-04,  7.36024262e-05,\n",
       "         4.80112810e-05,  4.65744597e-05,  8.59258701e-05,\n",
       "         2.74723752e-05,  3.80836430e-05,  3.59814776e-05,\n",
       "         5.52114817e-05,  2.92016372e-05,  4.28462937e-05,\n",
       "         3.32346073e-05,  1.20270398e-04,  3.22112357e-05,\n",
       "         3.69812877e-05,  8.06298282e-05],\n",
       "       [ 7.33237546e-05,  8.67241392e-05,  9.35432817e-05,\n",
       "         6.81915115e-05,  7.36024262e-05,  3.06004528e-04,\n",
       "         4.61879786e-05,  3.84574483e-05,  8.15190862e-05,\n",
       "         1.86642816e-05,  3.38999830e-05,  3.17542249e-05,\n",
       "         5.74139807e-05,  1.97327963e-05,  3.81902046e-05,\n",
       "         2.29821149e-05,  1.14392836e-04,  3.26251338e-05,\n",
       "         2.89936200e-05,  6.96063575e-05],\n",
       "       [ 6.16476554e-05,  8.08813989e-05,  5.78640096e-05,\n",
       "         4.94184022e-05,  4.80112810e-05,  4.61879786e-05,\n",
       "         1.21041183e-04,  3.94231192e-05,  5.40731034e-05,\n",
       "         2.66659333e-05,  4.02859024e-05,  3.90848323e-05,\n",
       "         6.54442932e-05,  3.02615048e-05,  3.91432709e-05,\n",
       "         2.93555944e-05,  4.96897755e-05,  4.33380200e-05,\n",
       "         3.12123954e-05,  4.59021175e-05],\n",
       "       [ 4.68291134e-05,  3.05345368e-05,  2.91954895e-05,\n",
       "         3.16221718e-05,  4.65744597e-05,  3.84574483e-05,\n",
       "         3.94231192e-05,  1.08304653e-04,  3.71734414e-05,\n",
       "         4.18030338e-05,  4.14191985e-05,  4.05650429e-05,\n",
       "         4.93432671e-05,  4.73678463e-05,  3.65906540e-05,\n",
       "         4.62952095e-05,  2.45801578e-05,  2.81081500e-05,\n",
       "         3.71767797e-05,  5.28333969e-05],\n",
       "       [ 9.48837814e-05,  1.21105046e-04,  1.24269576e-04,\n",
       "         8.53304343e-05,  8.59258701e-05,  8.15190862e-05,\n",
       "         5.40731034e-05,  3.71734414e-05,  1.70717343e-04,\n",
       "         8.07713480e-06,  3.39471416e-05,  3.10414132e-05,\n",
       "         7.34839631e-05,  8.39736851e-06,  4.19903070e-05,\n",
       "         1.28630070e-05,  1.46159436e-04,  4.00187093e-05,\n",
       "         2.57013528e-05,  7.74224660e-05],\n",
       "       [-5.26599038e-06, -4.89395055e-06, -9.08347887e-06,\n",
       "         1.60443423e-05,  2.74723752e-05,  1.86642816e-05,\n",
       "         2.66659333e-05,  4.18030338e-05,  8.07713480e-06,\n",
       "         1.05253169e-04,  4.06544494e-05,  4.18397599e-05,\n",
       "         1.49114467e-05,  6.14701296e-05,  3.46402138e-05,\n",
       "         5.93790744e-05, -1.13617568e-05,  3.05904270e-05,\n",
       "         4.86306807e-05,  3.06495654e-05],\n",
       "       [ 3.48607146e-05,  4.82541428e-05,  2.85402761e-05,\n",
       "         3.53552203e-05,  3.80836430e-05,  3.38999830e-05,\n",
       "         4.02859024e-05,  4.14191985e-05,  3.39471416e-05,\n",
       "         4.06544494e-05,  1.75693820e-04,  4.21282005e-05,\n",
       "         4.77174524e-05,  4.48074434e-05,  3.85539582e-05,\n",
       "         4.29237546e-05,  1.92926406e-05,  4.08145780e-05,\n",
       "         3.93913623e-05,  3.81468082e-05],\n",
       "       [ 3.01473788e-05,  4.51634980e-05,  2.47993513e-05,\n",
       "         3.36832304e-05,  3.59814776e-05,  3.17542249e-05,\n",
       "         3.90848323e-05,  4.05650429e-05,  3.10414132e-05,\n",
       "         4.18397599e-05,  4.21282005e-05,  1.42043162e-04,\n",
       "         4.48571748e-05,  4.59019476e-05,  3.83176610e-05,\n",
       "         4.38899693e-05,  1.51241945e-05,  4.11898710e-05,\n",
       "         4.02710437e-05,  3.57024723e-05],\n",
       "       [ 1.15046221e-04,  1.27995691e-04,  8.38345197e-05,\n",
       "         6.01253120e-05,  5.52114817e-05,  5.74139807e-05,\n",
       "         6.54442932e-05,  4.93432671e-05,  7.34839631e-05,\n",
       "         1.49114467e-05,  4.77174524e-05,  4.48571748e-05,\n",
       "         2.02142203e-04,  2.15162449e-05,  4.49078328e-05,\n",
       "         1.90049852e-05,  5.37436081e-05,  5.30950647e-05,\n",
       "         2.18979823e-05,  5.59398694e-05],\n",
       "       [ 1.40148901e-07, -4.55732351e-06, -1.06712866e-05,\n",
       "         1.57659995e-05,  2.92016372e-05,  1.97327963e-05,\n",
       "         3.02615048e-05,  4.73678463e-05,  8.39736851e-06,\n",
       "         6.14701296e-05,  4.48074434e-05,  4.59019476e-05,\n",
       "         2.15162449e-05,  1.07625755e-04,  3.75343952e-05,\n",
       "         6.40286709e-05, -1.72798120e-05,  3.26763167e-05,\n",
       "         5.12581307e-05,  3.40666183e-05],\n",
       "       [ 3.44889698e-05,  5.66555704e-05,  4.09363935e-05,\n",
       "         4.20884042e-05,  4.28462937e-05,  3.81902046e-05,\n",
       "         3.91432709e-05,  3.65906540e-05,  4.19903070e-05,\n",
       "         3.46402138e-05,  3.85539582e-05,  3.83176610e-05,\n",
       "         4.49078328e-05,  3.75343952e-05,  1.15877589e-04,\n",
       "         3.69584016e-05,  3.68692997e-05,  4.17271572e-05,\n",
       "         3.79004402e-05,  3.90792631e-05],\n",
       "       [ 8.52261680e-07, -4.09562521e-06, -4.57836762e-06,\n",
       "         1.87708673e-05,  3.32346073e-05,  2.29821149e-05,\n",
       "         2.93555944e-05,  4.62952095e-05,  1.28630070e-05,\n",
       "         5.93790744e-05,  4.29237546e-05,  4.38899693e-05,\n",
       "         1.90049852e-05,  6.40286709e-05,  3.69584016e-05,\n",
       "         1.15957585e-04, -6.14105349e-06,  3.06567550e-05,\n",
       "         5.05747377e-05,  3.73325252e-05],\n",
       "       [ 1.05781045e-04,  1.42304632e-04,  1.84647624e-04,\n",
       "         1.18332703e-04,  1.20270398e-04,  1.14392836e-04,\n",
       "         4.96897755e-05,  2.45801578e-05,  1.46159436e-04,\n",
       "        -1.13617568e-05,  1.92926406e-05,  1.51241945e-05,\n",
       "         5.37436081e-05, -1.72798120e-05,  3.68692997e-05,\n",
       "        -6.14105349e-06,  1.13240765e-03,  2.49017180e-05,\n",
       "         1.78092500e-05,  1.05120734e-04],\n",
       "       [ 2.90934542e-05,  8.63190912e-05,  4.28713997e-05,\n",
       "         4.69483904e-05,  3.22112357e-05,  3.26251338e-05,\n",
       "         4.33380200e-05,  2.81081500e-05,  4.00187093e-05,\n",
       "         3.05904270e-05,  4.08145780e-05,  4.11898710e-05,\n",
       "         5.30950647e-05,  3.26763167e-05,  4.17271572e-05,\n",
       "         3.06567550e-05,  2.49017180e-05,  1.76762783e-04,\n",
       "         3.88397853e-05,  2.09515222e-05],\n",
       "       [ 3.88259728e-06,  2.37363066e-05,  1.66612855e-05,\n",
       "         3.17546971e-05,  3.69812877e-05,  2.89936200e-05,\n",
       "         3.12123954e-05,  3.71767797e-05,  2.57013528e-05,\n",
       "         4.86306807e-05,  3.93913623e-05,  4.02710437e-05,\n",
       "         2.18979823e-05,  5.12581307e-05,  3.79004402e-05,\n",
       "         5.05747377e-05,  1.78092500e-05,  3.88397853e-05,\n",
       "         1.49113824e-04,  3.37187088e-05],\n",
       "       [ 7.75978321e-05,  5.57555261e-05,  8.13387650e-05,\n",
       "         5.96513909e-05,  8.06298282e-05,  6.96063575e-05,\n",
       "         4.59021175e-05,  5.28333969e-05,  7.74224660e-05,\n",
       "         3.06495654e-05,  3.81468082e-05,  3.57024723e-05,\n",
       "         5.59398694e-05,  3.40666183e-05,  3.90792631e-05,\n",
       "         3.73325252e-05,  1.05120734e-04,  2.09515222e-05,\n",
       "         3.37187088e-05,  1.59523910e-04]]), returns=array([[-0.00199817, -0.00042477, -0.00237797, ...,  0.00139911,\n",
       "        -0.00020712, -0.00320953],\n",
       "       [-0.00472448, -0.00080819, -0.00096952, ..., -0.00095927,\n",
       "        -0.00169727, -0.00375446],\n",
       "       [ 0.01005251,  0.01010583,  0.00749449, ...,  0.00651126,\n",
       "         0.00495531,  0.00725569],\n",
       "       ...,\n",
       "       [ 0.00601832,  0.00745974,  0.00385279, ...,  0.00294314,\n",
       "         0.00077309,  0.00209029],\n",
       "       [ 0.0095716 ,  0.00791312,  0.00261701, ...,  0.00535552,\n",
       "         0.00408997,  0.00540137],\n",
       "       [-0.00155016, -0.00451996, -0.00553801, ..., -0.001108  ,\n",
       "        -0.00101758, -0.00272778]]), cholesky=array([[ 0.0076512 ,  0.00791537, -0.00124936, -0.00473785,  0.        ,\n",
       "         0.01139386,  0.        ,  0.        ,  0.        ,  0.        ,\n",
       "         0.        ,  0.        ,  0.        ,  0.        ,  0.        ,\n",
       "         0.        ,  0.        ,  0.        ,  0.        ,  0.        ,\n",
       "         0.        ,  0.        ,  0.        ,  0.        ,  0.        ],\n",
       "       [ 0.01267863,  0.00230907,  0.0028551 , -0.00371341,  0.00608266,\n",
       "         0.        ,  0.03508063,  0.        ,  0.        ,  0.        ,\n",
       "         0.        ,  0.        ,  0.        ,  0.        ,  0.        ,\n",
       "         0.        ,  0.        ,  0.        ,  0.        ,  0.        ,\n",
       "         0.        ,  0.        ,  0.        ,  0.        ,  0.        ],\n",
       "       [ 0.00584882,  0.00659974,  0.00153833, -0.00401594,  0.00777328,\n",
       "         0.        ,  0.        ,  0.01060222,  0.        ,  0.        ,\n",
       "         0.        ,  0.        ,  0.        ,  0.        ,  0.        ,\n",
       "         0.        ,  0.        ,  0.        ,  0.        ,  0.        ,\n",
       "         0.        ,  0.        ,  0.        ,  0.        ,  0.        ],\n",
       "       [ 0.00493489,  0.00423128,  0.00218133,  0.00021223,  0.00545429,\n",
       "         0.        ,  0.        ,  0.        ,  0.02108348,  0.        ,\n",
       "         0.        ,  0.        ,  0.        ,  0.        ,  0.        ,\n",
       "         0.        ,  0.        ,  0.        ,  0.        ,  0.        ,\n",
       "         0.        ,  0.        ,  0.        ,  0.        ,  0.        ],\n",
       "       [ 0.00282127,  0.00729264,  0.00056355,  0.00138079,  0.00450236,\n",
       "         0.        ,  0.        ,  0.        ,  0.        ,  0.01035316,\n",
       "         0.        ,  0.        ,  0.        ,  0.        ,  0.        ,\n",
       "         0.        ,  0.        ,  0.        ,  0.        ,  0.        ,\n",
       "         0.        ,  0.        ,  0.        ,  0.        ,  0.        ],\n",
       "       [ 0.00355227,  0.00615007,  0.00144922,  0.00015299,  0.00393178,\n",
       "         0.        ,  0.        ,  0.        ,  0.        ,  0.        ,\n",
       "         0.0154266 ,  0.        ,  0.        ,  0.        ,  0.        ,\n",
       "         0.        ,  0.        ,  0.        ,  0.        ,  0.        ,\n",
       "         0.        ,  0.        ,  0.        ,  0.        ,  0.        ],\n",
       "       [ 0.00559007,  0.00344247,  0.00063832,  0.00159862,  0.00101467,\n",
       "         0.        ,  0.        ,  0.        ,  0.        ,  0.        ,\n",
       "         0.        ,  0.00859937,  0.        ,  0.        ,  0.        ,\n",
       "         0.        ,  0.        ,  0.        ,  0.        ,  0.        ,\n",
       "         0.        ,  0.        ,  0.        ,  0.        ,  0.        ],\n",
       "       [ 0.00311079,  0.00503293, -0.00062074,  0.00371165, -0.00081746,\n",
       "         0.        ,  0.        ,  0.        ,  0.        ,  0.        ,\n",
       "         0.        ,  0.        ,  0.00764639,  0.        ,  0.        ,\n",
       "         0.        ,  0.        ,  0.        ,  0.        ,  0.        ,\n",
       "         0.        ,  0.        ,  0.        ,  0.        ,  0.        ],\n",
       "       [ 0.00492347,  0.00650322,  0.00102714, -0.00148195,  0.0057919 ,\n",
       "         0.        ,  0.        ,  0.        ,  0.        ,  0.        ,\n",
       "         0.        ,  0.        ,  0.        ,  0.008209  ,  0.        ,\n",
       "         0.        ,  0.        ,  0.        ,  0.        ,  0.        ,\n",
       "         0.        ,  0.        ,  0.        ,  0.        ,  0.        ],\n",
       "       [ 0.00137125,  0.00233393,  0.00105064,  0.00694809, -0.0008002 ,\n",
       "         0.        ,  0.        ,  0.        ,  0.        ,  0.        ,\n",
       "         0.        ,  0.        ,  0.        ,  0.        ,  0.00692138,\n",
       "         0.        ,  0.        ,  0.        ,  0.        ,  0.        ,\n",
       "         0.        ,  0.        ,  0.        ,  0.        ,  0.        ],\n",
       "       [ 0.00428975,  0.00275223,  0.00077908,  0.00396225,  0.        ,\n",
       "         0.        ,  0.        ,  0.        ,  0.        ,  0.        ,\n",
       "         0.        ,  0.        ,  0.        ,  0.        ,  0.        ,\n",
       "         0.01155036,  0.        ,  0.        ,  0.        ,  0.        ,\n",
       "         0.        ,  0.        ,  0.        ,  0.        ,  0.        ],\n",
       "       [ 0.0041721 ,  0.00245088,  0.00083541,  0.00424877,  0.        ,\n",
       "         0.        ,  0.        ,  0.        ,  0.        ,  0.        ,\n",
       "         0.        ,  0.        ,  0.        ,  0.        ,  0.        ,\n",
       "         0.        ,  0.009994  ,  0.        ,  0.        ,  0.        ,\n",
       "         0.        ,  0.        ,  0.        ,  0.        ,  0.        ],\n",
       "       [ 0.00948544,  0.00450157, -0.00134661, -0.00108852, -0.00046996,\n",
       "         0.        ,  0.        ,  0.        ,  0.        ,  0.        ,\n",
       "         0.        ,  0.        ,  0.        ,  0.        ,  0.        ,\n",
       "         0.        ,  0.        ,  0.00941729,  0.        ,  0.        ,\n",
       "         0.        ,  0.        ,  0.        ,  0.        ,  0.        ],\n",
       "       [ 0.00182792,  0.00272511,  0.00057269,  0.00732407, -0.00139136,\n",
       "         0.        ,  0.        ,  0.        ,  0.        ,  0.        ,\n",
       "         0.        ,  0.        ,  0.        ,  0.        ,  0.        ,\n",
       "         0.        ,  0.        ,  0.        ,  0.0063994 ,  0.        ,\n",
       "         0.        ,  0.        ,  0.        ,  0.        ,  0.        ],\n",
       "       [ 0.00407386,  0.00256053,  0.00053825,  0.00343532,  0.00169533,\n",
       "         0.        ,  0.        ,  0.        ,  0.        ,  0.        ,\n",
       "         0.        ,  0.        ,  0.        ,  0.        ,  0.        ,\n",
       "         0.        ,  0.        ,  0.        ,  0.        ,  0.00881814,\n",
       "         0.        ,  0.        ,  0.        ,  0.        ,  0.        ],\n",
       "       [ 0.00140164,  0.00307377,  0.00057097,  0.00706833, -0.0007146 ,\n",
       "         0.        ,  0.        ,  0.        ,  0.        ,  0.        ,\n",
       "         0.        ,  0.        ,  0.        ,  0.        ,  0.        ,\n",
       "         0.        ,  0.        ,  0.        ,  0.        ,  0.        ,\n",
       "         0.00733123,  0.        ,  0.        ,  0.        ,  0.        ],\n",
       "       [ 0.00180274,  0.00957744,  0.00477689, -0.0046745 ,  0.01090585,\n",
       "         0.        ,  0.        ,  0.        ,  0.        ,  0.        ,\n",
       "         0.        ,  0.        ,  0.        ,  0.        ,  0.        ,\n",
       "         0.        ,  0.        ,  0.        ,  0.        ,  0.        ,\n",
       "         0.        ,  0.0295605 ,  0.        ,  0.        ,  0.        ],\n",
       "       [ 0.00641985, -0.00034107,  0.00103944,  0.00338291,  0.00251636,\n",
       "         0.        ,  0.        ,  0.        ,  0.        ,  0.        ,\n",
       "         0.        ,  0.        ,  0.        ,  0.        ,  0.        ,\n",
       "         0.        ,  0.        ,  0.        ,  0.        ,  0.        ,\n",
       "         0.        ,  0.        ,  0.01079701,  0.        ,  0.        ],\n",
       "       [ 0.00225012,  0.00201069,  0.00096232,  0.00591969,  0.00161108,\n",
       "         0.        ,  0.        ,  0.        ,  0.        ,  0.        ,\n",
       "         0.        ,  0.        ,  0.        ,  0.        ,  0.        ,\n",
       "         0.        ,  0.        ,  0.        ,  0.        ,  0.        ,\n",
       "         0.        ,  0.        ,  0.        ,  0.01007192,  0.        ],\n",
       "       [ 0.00210995,  0.00859385,  0.00018985,  0.00133649,  0.00223279,\n",
       "         0.        ,  0.        ,  0.        ,  0.        ,  0.        ,\n",
       "         0.        ,  0.        ,  0.        ,  0.        ,  0.        ,\n",
       "         0.        ,  0.        ,  0.        ,  0.        ,  0.        ,\n",
       "         0.        ,  0.        ,  0.        ,  0.        ,  0.00862613]]))"
      ]
     },
     "execution_count": 19,
     "metadata": {},
     "output_type": "execute_result"
    }
   ],
   "source": [
    "prior_model = prior_estimator.prior_model_\n",
    "prior_model"
   ]
  },
  {
   "cell_type": "code",
   "execution_count": 20,
   "metadata": {},
   "outputs": [
    {
     "data": {
      "text/plain": [
       "array([[ 0.34905954,  1.59051502, -0.05077361, -0.99167193, -0.        ],\n",
       "       [ 1.16592858,  0.        ,  0.28177423, -0.82678691,  0.92261137],\n",
       "       [ 0.06342149,  0.68820926, -0.        , -0.90387695,  1.17904377],\n",
       "       [ 0.        ,  0.19084808,  0.08086552, -0.        ,  0.82730174],\n",
       "       [-0.51036765,  0.78697298, -0.16877212,  0.25234305,  0.6829133 ],\n",
       "       [-0.28101136,  0.64151033,  0.03860762, -0.        ,  0.59636878],\n",
       "       [ 0.17691041,  0.36515599,  0.00321386,  0.32634051,  0.15390387],\n",
       "       [-0.278366  ,  0.70692514, -0.17666442,  0.78353708, -0.12399197],\n",
       "       [-0.10659571,  0.69754112, -0.06647323, -0.35735584,  0.8785099 ],\n",
       "       [-0.41056254, -0.00260142, -0.01212348,  1.46081088, -0.12137341],\n",
       "       [ 0.        ,  0.18620599, -0.        ,  0.82933288, -0.        ],\n",
       "       [-0.        ,  0.11966633,  0.        ,  0.88930418,  0.        ],\n",
       "       [ 0.69202998,  0.89393433, -0.15846805, -0.22400802, -0.07128371],\n",
       "       [-0.3957795 ,  0.10853663, -0.07201061,  1.54432198, -0.21104045],\n",
       "       [ 0.        ,  0.09651092, -0.10304305,  0.70523413,  0.25714621],\n",
       "       [-0.47097164,  0.13667695, -0.09663336,  1.48528068, -0.10839054],\n",
       "       [-0.73003654,  0.79154733,  0.38823075, -1.0672316 ,  1.65418823],\n",
       "       [ 0.49477073, -0.44787587, -0.06060629,  0.68757756,  0.38167972],\n",
       "       [-0.27169002, -0.14117267, -0.1093039 ,  1.22591944,  0.2443677 ],\n",
       "       [-0.66103932,  1.15899118, -0.1184898 ,  0.2615538 ,  0.33866742]])"
      ]
     },
     "execution_count": 20,
     "metadata": {},
     "output_type": "execute_result"
    }
   ],
   "source": [
    "loading_matrix = prior_estimator.loading_matrix_estimator_.loading_matrix_\n",
    "loading_matrix"
   ]
  },
  {
   "cell_type": "code",
   "execution_count": 21,
   "metadata": {},
   "outputs": [
    {
     "data": {
      "text/plain": [
       "array([1.01561518e-01, 7.81165193e-02, 6.29030036e-07, 1.89005488e-02,\n",
       "       3.05610119e-07, 1.55770502e-07, 1.10594710e-01, 1.22328443e-06,\n",
       "       1.56471742e-06, 3.39453276e-06, 1.62631058e-01, 1.92171374e-06,\n",
       "       1.77783711e-01, 9.61805760e-02, 4.64493062e-07, 9.68566446e-03,\n",
       "       7.41771352e-08, 2.44533886e-01, 1.83984287e-06, 2.34178301e-07])"
      ]
     },
     "execution_count": 21,
     "metadata": {},
     "output_type": "execute_result"
    }
   ],
   "source": [
    "benchmark_model = MeanRisk(\n",
    "    risk_measure=RiskMeasure.VARIANCE,\n",
    "    objective_function=ObjectiveFunction.MAXIMIZE_RATIO,\n",
    "    portfolio_params=dict(name=\"Empirical\")\n",
    ")\n",
    "benchmark_model.fit(X_train)\n",
    "benchmark_model.weights_"
   ]
  },
  {
   "cell_type": "markdown",
   "metadata": {},
   "source": [
    "## Prediction"
   ]
  },
  {
   "cell_type": "code",
   "execution_count": 22,
   "metadata": {},
   "outputs": [],
   "source": [
    "pred_factor_1 = max_sharpe_model_factor_1.predict(X_test)\n",
    "pred_factor_2 = max_sharpe_model_factor_2.predict(X_test)\n",
    "pred_factor_3 = max_sharpe_model_factor_3.predict(X_test)\n",
    "pred_benchmark = benchmark_model.predict(X_test)"
   ]
  },
  {
   "cell_type": "markdown",
   "metadata": {},
   "source": [
    "## Analysis"
   ]
  },
  {
   "cell_type": "code",
   "execution_count": 24,
   "metadata": {},
   "outputs": [
    {
     "data": {
      "application/vnd.plotly.v1+json": {
       "config": {
        "plotlyServerURL": "https://plot.ly"
       },
       "data": [
        {
         "hovertemplate": "variable=Factor Model 1<br>index=%{x}<br>value=%{y}<extra></extra>",
         "legendgroup": "Factor Model 1",
         "line": {
          "color": "#636efa",
          "dash": "solid"
         },
         "marker": {
          "symbol": "circle"
         },
         "mode": "lines",
         "name": "Factor Model 1",
         "showlegend": true,
         "type": "scattergl",
         "x": [
          "2020-01-13T00:00:00.000000000",
          "2020-01-14T00:00:00.000000000",
          "2020-01-15T00:00:00.000000000",
          "2020-01-16T00:00:00.000000000",
          "2020-01-17T00:00:00.000000000",
          "2020-01-21T00:00:00.000000000",
          "2020-01-22T00:00:00.000000000",
          "2020-01-23T00:00:00.000000000",
          "2020-01-24T00:00:00.000000000",
          "2020-01-27T00:00:00.000000000",
          "2020-01-28T00:00:00.000000000",
          "2020-01-29T00:00:00.000000000",
          "2020-01-30T00:00:00.000000000",
          "2020-01-31T00:00:00.000000000",
          "2020-02-03T00:00:00.000000000",
          "2020-02-04T00:00:00.000000000",
          "2020-02-05T00:00:00.000000000",
          "2020-02-06T00:00:00.000000000",
          "2020-02-07T00:00:00.000000000",
          "2020-02-10T00:00:00.000000000",
          "2020-02-11T00:00:00.000000000",
          "2020-02-12T00:00:00.000000000",
          "2020-02-13T00:00:00.000000000",
          "2020-02-14T00:00:00.000000000",
          "2020-02-18T00:00:00.000000000",
          "2020-02-19T00:00:00.000000000",
          "2020-02-20T00:00:00.000000000",
          "2020-02-21T00:00:00.000000000",
          "2020-02-24T00:00:00.000000000",
          "2020-02-25T00:00:00.000000000",
          "2020-02-26T00:00:00.000000000",
          "2020-02-27T00:00:00.000000000",
          "2020-02-28T00:00:00.000000000",
          "2020-03-02T00:00:00.000000000",
          "2020-03-03T00:00:00.000000000",
          "2020-03-04T00:00:00.000000000",
          "2020-03-05T00:00:00.000000000",
          "2020-03-06T00:00:00.000000000",
          "2020-03-09T00:00:00.000000000",
          "2020-03-10T00:00:00.000000000",
          "2020-03-11T00:00:00.000000000",
          "2020-03-12T00:00:00.000000000",
          "2020-03-13T00:00:00.000000000",
          "2020-03-16T00:00:00.000000000",
          "2020-03-17T00:00:00.000000000",
          "2020-03-18T00:00:00.000000000",
          "2020-03-19T00:00:00.000000000",
          "2020-03-20T00:00:00.000000000",
          "2020-03-23T00:00:00.000000000",
          "2020-03-24T00:00:00.000000000",
          "2020-03-25T00:00:00.000000000",
          "2020-03-26T00:00:00.000000000",
          "2020-03-27T00:00:00.000000000",
          "2020-03-30T00:00:00.000000000",
          "2020-03-31T00:00:00.000000000",
          "2020-04-01T00:00:00.000000000",
          "2020-04-02T00:00:00.000000000",
          "2020-04-03T00:00:00.000000000",
          "2020-04-06T00:00:00.000000000",
          "2020-04-07T00:00:00.000000000",
          "2020-04-08T00:00:00.000000000",
          "2020-04-09T00:00:00.000000000",
          "2020-04-13T00:00:00.000000000",
          "2020-04-14T00:00:00.000000000",
          "2020-04-15T00:00:00.000000000",
          "2020-04-16T00:00:00.000000000",
          "2020-04-17T00:00:00.000000000",
          "2020-04-20T00:00:00.000000000",
          "2020-04-21T00:00:00.000000000",
          "2020-04-22T00:00:00.000000000",
          "2020-04-23T00:00:00.000000000",
          "2020-04-24T00:00:00.000000000",
          "2020-04-27T00:00:00.000000000",
          "2020-04-28T00:00:00.000000000",
          "2020-04-29T00:00:00.000000000",
          "2020-04-30T00:00:00.000000000",
          "2020-05-01T00:00:00.000000000",
          "2020-05-04T00:00:00.000000000",
          "2020-05-05T00:00:00.000000000",
          "2020-05-06T00:00:00.000000000",
          "2020-05-07T00:00:00.000000000",
          "2020-05-08T00:00:00.000000000",
          "2020-05-11T00:00:00.000000000",
          "2020-05-12T00:00:00.000000000",
          "2020-05-13T00:00:00.000000000",
          "2020-05-14T00:00:00.000000000",
          "2020-05-15T00:00:00.000000000",
          "2020-05-18T00:00:00.000000000",
          "2020-05-19T00:00:00.000000000",
          "2020-05-20T00:00:00.000000000",
          "2020-05-21T00:00:00.000000000",
          "2020-05-22T00:00:00.000000000",
          "2020-05-26T00:00:00.000000000",
          "2020-05-27T00:00:00.000000000",
          "2020-05-28T00:00:00.000000000",
          "2020-05-29T00:00:00.000000000",
          "2020-06-01T00:00:00.000000000",
          "2020-06-02T00:00:00.000000000",
          "2020-06-03T00:00:00.000000000",
          "2020-06-04T00:00:00.000000000",
          "2020-06-05T00:00:00.000000000",
          "2020-06-08T00:00:00.000000000",
          "2020-06-09T00:00:00.000000000",
          "2020-06-10T00:00:00.000000000",
          "2020-06-11T00:00:00.000000000",
          "2020-06-12T00:00:00.000000000",
          "2020-06-15T00:00:00.000000000",
          "2020-06-16T00:00:00.000000000",
          "2020-06-17T00:00:00.000000000",
          "2020-06-18T00:00:00.000000000",
          "2020-06-19T00:00:00.000000000",
          "2020-06-22T00:00:00.000000000",
          "2020-06-23T00:00:00.000000000",
          "2020-06-24T00:00:00.000000000",
          "2020-06-25T00:00:00.000000000",
          "2020-06-26T00:00:00.000000000",
          "2020-06-29T00:00:00.000000000",
          "2020-06-30T00:00:00.000000000",
          "2020-07-01T00:00:00.000000000",
          "2020-07-02T00:00:00.000000000",
          "2020-07-06T00:00:00.000000000",
          "2020-07-07T00:00:00.000000000",
          "2020-07-08T00:00:00.000000000",
          "2020-07-09T00:00:00.000000000",
          "2020-07-10T00:00:00.000000000",
          "2020-07-13T00:00:00.000000000",
          "2020-07-14T00:00:00.000000000",
          "2020-07-15T00:00:00.000000000",
          "2020-07-16T00:00:00.000000000",
          "2020-07-17T00:00:00.000000000",
          "2020-07-20T00:00:00.000000000",
          "2020-07-21T00:00:00.000000000",
          "2020-07-22T00:00:00.000000000",
          "2020-07-23T00:00:00.000000000",
          "2020-07-24T00:00:00.000000000",
          "2020-07-27T00:00:00.000000000",
          "2020-07-28T00:00:00.000000000",
          "2020-07-29T00:00:00.000000000",
          "2020-07-30T00:00:00.000000000",
          "2020-07-31T00:00:00.000000000",
          "2020-08-03T00:00:00.000000000",
          "2020-08-04T00:00:00.000000000",
          "2020-08-05T00:00:00.000000000",
          "2020-08-06T00:00:00.000000000",
          "2020-08-07T00:00:00.000000000",
          "2020-08-10T00:00:00.000000000",
          "2020-08-11T00:00:00.000000000",
          "2020-08-12T00:00:00.000000000",
          "2020-08-13T00:00:00.000000000",
          "2020-08-14T00:00:00.000000000",
          "2020-08-17T00:00:00.000000000",
          "2020-08-18T00:00:00.000000000",
          "2020-08-19T00:00:00.000000000",
          "2020-08-20T00:00:00.000000000",
          "2020-08-21T00:00:00.000000000",
          "2020-08-24T00:00:00.000000000",
          "2020-08-25T00:00:00.000000000",
          "2020-08-26T00:00:00.000000000",
          "2020-08-27T00:00:00.000000000",
          "2020-08-28T00:00:00.000000000",
          "2020-08-31T00:00:00.000000000",
          "2020-09-01T00:00:00.000000000",
          "2020-09-02T00:00:00.000000000",
          "2020-09-03T00:00:00.000000000",
          "2020-09-04T00:00:00.000000000",
          "2020-09-08T00:00:00.000000000",
          "2020-09-09T00:00:00.000000000",
          "2020-09-10T00:00:00.000000000",
          "2020-09-11T00:00:00.000000000",
          "2020-09-14T00:00:00.000000000",
          "2020-09-15T00:00:00.000000000",
          "2020-09-16T00:00:00.000000000",
          "2020-09-17T00:00:00.000000000",
          "2020-09-18T00:00:00.000000000",
          "2020-09-21T00:00:00.000000000",
          "2020-09-22T00:00:00.000000000",
          "2020-09-23T00:00:00.000000000",
          "2020-09-24T00:00:00.000000000",
          "2020-09-25T00:00:00.000000000",
          "2020-09-28T00:00:00.000000000",
          "2020-09-29T00:00:00.000000000",
          "2020-09-30T00:00:00.000000000",
          "2020-10-01T00:00:00.000000000",
          "2020-10-02T00:00:00.000000000",
          "2020-10-05T00:00:00.000000000",
          "2020-10-06T00:00:00.000000000",
          "2020-10-07T00:00:00.000000000",
          "2020-10-08T00:00:00.000000000",
          "2020-10-09T00:00:00.000000000",
          "2020-10-12T00:00:00.000000000",
          "2020-10-13T00:00:00.000000000",
          "2020-10-14T00:00:00.000000000",
          "2020-10-15T00:00:00.000000000",
          "2020-10-16T00:00:00.000000000",
          "2020-10-19T00:00:00.000000000",
          "2020-10-20T00:00:00.000000000",
          "2020-10-21T00:00:00.000000000",
          "2020-10-22T00:00:00.000000000",
          "2020-10-23T00:00:00.000000000",
          "2020-10-26T00:00:00.000000000",
          "2020-10-27T00:00:00.000000000",
          "2020-10-28T00:00:00.000000000",
          "2020-10-29T00:00:00.000000000",
          "2020-10-30T00:00:00.000000000",
          "2020-11-02T00:00:00.000000000",
          "2020-11-03T00:00:00.000000000",
          "2020-11-04T00:00:00.000000000",
          "2020-11-05T00:00:00.000000000",
          "2020-11-06T00:00:00.000000000",
          "2020-11-09T00:00:00.000000000",
          "2020-11-10T00:00:00.000000000",
          "2020-11-11T00:00:00.000000000",
          "2020-11-12T00:00:00.000000000",
          "2020-11-13T00:00:00.000000000",
          "2020-11-16T00:00:00.000000000",
          "2020-11-17T00:00:00.000000000",
          "2020-11-18T00:00:00.000000000",
          "2020-11-19T00:00:00.000000000",
          "2020-11-20T00:00:00.000000000",
          "2020-11-23T00:00:00.000000000",
          "2020-11-24T00:00:00.000000000",
          "2020-11-25T00:00:00.000000000",
          "2020-11-27T00:00:00.000000000",
          "2020-11-30T00:00:00.000000000",
          "2020-12-01T00:00:00.000000000",
          "2020-12-02T00:00:00.000000000",
          "2020-12-03T00:00:00.000000000",
          "2020-12-04T00:00:00.000000000",
          "2020-12-07T00:00:00.000000000",
          "2020-12-08T00:00:00.000000000",
          "2020-12-09T00:00:00.000000000",
          "2020-12-10T00:00:00.000000000",
          "2020-12-11T00:00:00.000000000",
          "2020-12-14T00:00:00.000000000",
          "2020-12-15T00:00:00.000000000",
          "2020-12-16T00:00:00.000000000",
          "2020-12-17T00:00:00.000000000",
          "2020-12-18T00:00:00.000000000",
          "2020-12-21T00:00:00.000000000",
          "2020-12-22T00:00:00.000000000",
          "2020-12-23T00:00:00.000000000",
          "2020-12-24T00:00:00.000000000",
          "2020-12-28T00:00:00.000000000",
          "2020-12-29T00:00:00.000000000",
          "2020-12-30T00:00:00.000000000",
          "2020-12-31T00:00:00.000000000",
          "2021-01-04T00:00:00.000000000",
          "2021-01-05T00:00:00.000000000",
          "2021-01-06T00:00:00.000000000",
          "2021-01-07T00:00:00.000000000",
          "2021-01-08T00:00:00.000000000",
          "2021-01-11T00:00:00.000000000",
          "2021-01-12T00:00:00.000000000",
          "2021-01-13T00:00:00.000000000",
          "2021-01-14T00:00:00.000000000",
          "2021-01-15T00:00:00.000000000",
          "2021-01-19T00:00:00.000000000",
          "2021-01-20T00:00:00.000000000",
          "2021-01-21T00:00:00.000000000",
          "2021-01-22T00:00:00.000000000",
          "2021-01-25T00:00:00.000000000",
          "2021-01-26T00:00:00.000000000",
          "2021-01-27T00:00:00.000000000",
          "2021-01-28T00:00:00.000000000",
          "2021-01-29T00:00:00.000000000",
          "2021-02-01T00:00:00.000000000",
          "2021-02-02T00:00:00.000000000",
          "2021-02-03T00:00:00.000000000",
          "2021-02-04T00:00:00.000000000",
          "2021-02-05T00:00:00.000000000",
          "2021-02-08T00:00:00.000000000",
          "2021-02-09T00:00:00.000000000",
          "2021-02-10T00:00:00.000000000",
          "2021-02-11T00:00:00.000000000",
          "2021-02-12T00:00:00.000000000",
          "2021-02-16T00:00:00.000000000",
          "2021-02-17T00:00:00.000000000",
          "2021-02-18T00:00:00.000000000",
          "2021-02-19T00:00:00.000000000",
          "2021-02-22T00:00:00.000000000",
          "2021-02-23T00:00:00.000000000",
          "2021-02-24T00:00:00.000000000",
          "2021-02-25T00:00:00.000000000",
          "2021-02-26T00:00:00.000000000",
          "2021-03-01T00:00:00.000000000",
          "2021-03-02T00:00:00.000000000",
          "2021-03-03T00:00:00.000000000",
          "2021-03-04T00:00:00.000000000",
          "2021-03-05T00:00:00.000000000",
          "2021-03-08T00:00:00.000000000",
          "2021-03-09T00:00:00.000000000",
          "2021-03-10T00:00:00.000000000",
          "2021-03-11T00:00:00.000000000",
          "2021-03-12T00:00:00.000000000",
          "2021-03-15T00:00:00.000000000",
          "2021-03-16T00:00:00.000000000",
          "2021-03-17T00:00:00.000000000",
          "2021-03-18T00:00:00.000000000",
          "2021-03-19T00:00:00.000000000",
          "2021-03-22T00:00:00.000000000",
          "2021-03-23T00:00:00.000000000",
          "2021-03-24T00:00:00.000000000",
          "2021-03-25T00:00:00.000000000",
          "2021-03-26T00:00:00.000000000",
          "2021-03-29T00:00:00.000000000",
          "2021-03-30T00:00:00.000000000",
          "2021-03-31T00:00:00.000000000",
          "2021-04-01T00:00:00.000000000",
          "2021-04-05T00:00:00.000000000",
          "2021-04-06T00:00:00.000000000",
          "2021-04-07T00:00:00.000000000",
          "2021-04-08T00:00:00.000000000",
          "2021-04-09T00:00:00.000000000",
          "2021-04-12T00:00:00.000000000",
          "2021-04-13T00:00:00.000000000",
          "2021-04-14T00:00:00.000000000",
          "2021-04-15T00:00:00.000000000",
          "2021-04-16T00:00:00.000000000",
          "2021-04-19T00:00:00.000000000",
          "2021-04-20T00:00:00.000000000",
          "2021-04-21T00:00:00.000000000",
          "2021-04-22T00:00:00.000000000",
          "2021-04-23T00:00:00.000000000",
          "2021-04-26T00:00:00.000000000",
          "2021-04-27T00:00:00.000000000",
          "2021-04-28T00:00:00.000000000",
          "2021-04-29T00:00:00.000000000",
          "2021-04-30T00:00:00.000000000",
          "2021-05-03T00:00:00.000000000",
          "2021-05-04T00:00:00.000000000",
          "2021-05-05T00:00:00.000000000",
          "2021-05-06T00:00:00.000000000",
          "2021-05-07T00:00:00.000000000",
          "2021-05-10T00:00:00.000000000",
          "2021-05-11T00:00:00.000000000",
          "2021-05-12T00:00:00.000000000",
          "2021-05-13T00:00:00.000000000",
          "2021-05-14T00:00:00.000000000",
          "2021-05-17T00:00:00.000000000",
          "2021-05-18T00:00:00.000000000",
          "2021-05-19T00:00:00.000000000",
          "2021-05-20T00:00:00.000000000",
          "2021-05-21T00:00:00.000000000",
          "2021-05-24T00:00:00.000000000",
          "2021-05-25T00:00:00.000000000",
          "2021-05-26T00:00:00.000000000",
          "2021-05-27T00:00:00.000000000",
          "2021-05-28T00:00:00.000000000",
          "2021-06-01T00:00:00.000000000",
          "2021-06-02T00:00:00.000000000",
          "2021-06-03T00:00:00.000000000",
          "2021-06-04T00:00:00.000000000",
          "2021-06-07T00:00:00.000000000",
          "2021-06-08T00:00:00.000000000",
          "2021-06-09T00:00:00.000000000",
          "2021-06-10T00:00:00.000000000",
          "2021-06-11T00:00:00.000000000",
          "2021-06-14T00:00:00.000000000",
          "2021-06-15T00:00:00.000000000",
          "2021-06-16T00:00:00.000000000",
          "2021-06-17T00:00:00.000000000",
          "2021-06-18T00:00:00.000000000",
          "2021-06-21T00:00:00.000000000",
          "2021-06-22T00:00:00.000000000",
          "2021-06-23T00:00:00.000000000",
          "2021-06-24T00:00:00.000000000",
          "2021-06-25T00:00:00.000000000",
          "2021-06-28T00:00:00.000000000",
          "2021-06-29T00:00:00.000000000",
          "2021-06-30T00:00:00.000000000",
          "2021-07-01T00:00:00.000000000",
          "2021-07-02T00:00:00.000000000",
          "2021-07-06T00:00:00.000000000",
          "2021-07-07T00:00:00.000000000",
          "2021-07-08T00:00:00.000000000",
          "2021-07-09T00:00:00.000000000",
          "2021-07-12T00:00:00.000000000",
          "2021-07-13T00:00:00.000000000",
          "2021-07-14T00:00:00.000000000",
          "2021-07-15T00:00:00.000000000",
          "2021-07-16T00:00:00.000000000",
          "2021-07-19T00:00:00.000000000",
          "2021-07-20T00:00:00.000000000",
          "2021-07-21T00:00:00.000000000",
          "2021-07-22T00:00:00.000000000",
          "2021-07-23T00:00:00.000000000",
          "2021-07-26T00:00:00.000000000",
          "2021-07-27T00:00:00.000000000",
          "2021-07-28T00:00:00.000000000",
          "2021-07-29T00:00:00.000000000",
          "2021-07-30T00:00:00.000000000",
          "2021-08-02T00:00:00.000000000",
          "2021-08-03T00:00:00.000000000",
          "2021-08-04T00:00:00.000000000",
          "2021-08-05T00:00:00.000000000",
          "2021-08-06T00:00:00.000000000",
          "2021-08-09T00:00:00.000000000",
          "2021-08-10T00:00:00.000000000",
          "2021-08-11T00:00:00.000000000",
          "2021-08-12T00:00:00.000000000",
          "2021-08-13T00:00:00.000000000",
          "2021-08-16T00:00:00.000000000",
          "2021-08-17T00:00:00.000000000",
          "2021-08-18T00:00:00.000000000",
          "2021-08-19T00:00:00.000000000",
          "2021-08-20T00:00:00.000000000",
          "2021-08-23T00:00:00.000000000",
          "2021-08-24T00:00:00.000000000",
          "2021-08-25T00:00:00.000000000",
          "2021-08-26T00:00:00.000000000",
          "2021-08-27T00:00:00.000000000",
          "2021-08-30T00:00:00.000000000",
          "2021-08-31T00:00:00.000000000",
          "2021-09-01T00:00:00.000000000",
          "2021-09-02T00:00:00.000000000",
          "2021-09-03T00:00:00.000000000",
          "2021-09-07T00:00:00.000000000",
          "2021-09-08T00:00:00.000000000",
          "2021-09-09T00:00:00.000000000",
          "2021-09-10T00:00:00.000000000",
          "2021-09-13T00:00:00.000000000",
          "2021-09-14T00:00:00.000000000",
          "2021-09-15T00:00:00.000000000",
          "2021-09-16T00:00:00.000000000",
          "2021-09-17T00:00:00.000000000",
          "2021-09-20T00:00:00.000000000",
          "2021-09-21T00:00:00.000000000",
          "2021-09-22T00:00:00.000000000",
          "2021-09-23T00:00:00.000000000",
          "2021-09-24T00:00:00.000000000",
          "2021-09-27T00:00:00.000000000",
          "2021-09-28T00:00:00.000000000",
          "2021-09-29T00:00:00.000000000",
          "2021-09-30T00:00:00.000000000",
          "2021-10-01T00:00:00.000000000",
          "2021-10-04T00:00:00.000000000",
          "2021-10-05T00:00:00.000000000",
          "2021-10-06T00:00:00.000000000",
          "2021-10-07T00:00:00.000000000",
          "2021-10-08T00:00:00.000000000",
          "2021-10-11T00:00:00.000000000",
          "2021-10-12T00:00:00.000000000",
          "2021-10-13T00:00:00.000000000",
          "2021-10-14T00:00:00.000000000",
          "2021-10-15T00:00:00.000000000",
          "2021-10-18T00:00:00.000000000",
          "2021-10-19T00:00:00.000000000",
          "2021-10-20T00:00:00.000000000",
          "2021-10-21T00:00:00.000000000",
          "2021-10-22T00:00:00.000000000",
          "2021-10-25T00:00:00.000000000",
          "2021-10-26T00:00:00.000000000",
          "2021-10-27T00:00:00.000000000",
          "2021-10-28T00:00:00.000000000",
          "2021-10-29T00:00:00.000000000",
          "2021-11-01T00:00:00.000000000",
          "2021-11-02T00:00:00.000000000",
          "2021-11-03T00:00:00.000000000",
          "2021-11-04T00:00:00.000000000",
          "2021-11-05T00:00:00.000000000",
          "2021-11-08T00:00:00.000000000",
          "2021-11-09T00:00:00.000000000",
          "2021-11-10T00:00:00.000000000",
          "2021-11-11T00:00:00.000000000",
          "2021-11-12T00:00:00.000000000",
          "2021-11-15T00:00:00.000000000",
          "2021-11-16T00:00:00.000000000",
          "2021-11-17T00:00:00.000000000",
          "2021-11-18T00:00:00.000000000",
          "2021-11-19T00:00:00.000000000",
          "2021-11-22T00:00:00.000000000",
          "2021-11-23T00:00:00.000000000",
          "2021-11-24T00:00:00.000000000",
          "2021-11-26T00:00:00.000000000",
          "2021-11-29T00:00:00.000000000",
          "2021-11-30T00:00:00.000000000",
          "2021-12-01T00:00:00.000000000",
          "2021-12-02T00:00:00.000000000",
          "2021-12-03T00:00:00.000000000",
          "2021-12-06T00:00:00.000000000",
          "2021-12-07T00:00:00.000000000",
          "2021-12-08T00:00:00.000000000",
          "2021-12-09T00:00:00.000000000",
          "2021-12-10T00:00:00.000000000",
          "2021-12-13T00:00:00.000000000",
          "2021-12-14T00:00:00.000000000",
          "2021-12-15T00:00:00.000000000",
          "2021-12-16T00:00:00.000000000",
          "2021-12-17T00:00:00.000000000",
          "2021-12-20T00:00:00.000000000",
          "2021-12-21T00:00:00.000000000",
          "2021-12-22T00:00:00.000000000",
          "2021-12-23T00:00:00.000000000",
          "2021-12-27T00:00:00.000000000",
          "2021-12-28T00:00:00.000000000",
          "2021-12-29T00:00:00.000000000",
          "2021-12-30T00:00:00.000000000",
          "2021-12-31T00:00:00.000000000",
          "2022-01-03T00:00:00.000000000",
          "2022-01-04T00:00:00.000000000",
          "2022-01-05T00:00:00.000000000",
          "2022-01-06T00:00:00.000000000",
          "2022-01-07T00:00:00.000000000",
          "2022-01-10T00:00:00.000000000",
          "2022-01-11T00:00:00.000000000",
          "2022-01-12T00:00:00.000000000",
          "2022-01-13T00:00:00.000000000",
          "2022-01-14T00:00:00.000000000",
          "2022-01-18T00:00:00.000000000",
          "2022-01-19T00:00:00.000000000",
          "2022-01-20T00:00:00.000000000",
          "2022-01-21T00:00:00.000000000",
          "2022-01-24T00:00:00.000000000",
          "2022-01-25T00:00:00.000000000",
          "2022-01-26T00:00:00.000000000",
          "2022-01-27T00:00:00.000000000",
          "2022-01-28T00:00:00.000000000",
          "2022-01-31T00:00:00.000000000",
          "2022-02-01T00:00:00.000000000",
          "2022-02-02T00:00:00.000000000",
          "2022-02-03T00:00:00.000000000",
          "2022-02-04T00:00:00.000000000",
          "2022-02-07T00:00:00.000000000",
          "2022-02-08T00:00:00.000000000",
          "2022-02-09T00:00:00.000000000",
          "2022-02-10T00:00:00.000000000",
          "2022-02-11T00:00:00.000000000",
          "2022-02-14T00:00:00.000000000",
          "2022-02-15T00:00:00.000000000",
          "2022-02-16T00:00:00.000000000",
          "2022-02-17T00:00:00.000000000",
          "2022-02-18T00:00:00.000000000",
          "2022-02-22T00:00:00.000000000",
          "2022-02-23T00:00:00.000000000",
          "2022-02-24T00:00:00.000000000",
          "2022-02-25T00:00:00.000000000",
          "2022-02-28T00:00:00.000000000",
          "2022-03-01T00:00:00.000000000",
          "2022-03-02T00:00:00.000000000",
          "2022-03-03T00:00:00.000000000",
          "2022-03-04T00:00:00.000000000",
          "2022-03-07T00:00:00.000000000",
          "2022-03-08T00:00:00.000000000",
          "2022-03-09T00:00:00.000000000",
          "2022-03-10T00:00:00.000000000",
          "2022-03-11T00:00:00.000000000",
          "2022-03-14T00:00:00.000000000",
          "2022-03-15T00:00:00.000000000",
          "2022-03-16T00:00:00.000000000",
          "2022-03-17T00:00:00.000000000",
          "2022-03-18T00:00:00.000000000",
          "2022-03-21T00:00:00.000000000",
          "2022-03-22T00:00:00.000000000",
          "2022-03-23T00:00:00.000000000",
          "2022-03-24T00:00:00.000000000",
          "2022-03-25T00:00:00.000000000",
          "2022-03-28T00:00:00.000000000",
          "2022-03-29T00:00:00.000000000",
          "2022-03-30T00:00:00.000000000",
          "2022-03-31T00:00:00.000000000",
          "2022-04-01T00:00:00.000000000",
          "2022-04-04T00:00:00.000000000",
          "2022-04-05T00:00:00.000000000",
          "2022-04-06T00:00:00.000000000",
          "2022-04-07T00:00:00.000000000",
          "2022-04-08T00:00:00.000000000",
          "2022-04-11T00:00:00.000000000",
          "2022-04-12T00:00:00.000000000",
          "2022-04-13T00:00:00.000000000",
          "2022-04-14T00:00:00.000000000",
          "2022-04-18T00:00:00.000000000",
          "2022-04-19T00:00:00.000000000",
          "2022-04-20T00:00:00.000000000",
          "2022-04-21T00:00:00.000000000",
          "2022-04-22T00:00:00.000000000",
          "2022-04-25T00:00:00.000000000",
          "2022-04-26T00:00:00.000000000",
          "2022-04-27T00:00:00.000000000",
          "2022-04-28T00:00:00.000000000",
          "2022-04-29T00:00:00.000000000",
          "2022-05-02T00:00:00.000000000",
          "2022-05-03T00:00:00.000000000",
          "2022-05-04T00:00:00.000000000",
          "2022-05-05T00:00:00.000000000",
          "2022-05-06T00:00:00.000000000",
          "2022-05-09T00:00:00.000000000",
          "2022-05-10T00:00:00.000000000",
          "2022-05-11T00:00:00.000000000",
          "2022-05-12T00:00:00.000000000",
          "2022-05-13T00:00:00.000000000",
          "2022-05-16T00:00:00.000000000",
          "2022-05-17T00:00:00.000000000",
          "2022-05-18T00:00:00.000000000",
          "2022-05-19T00:00:00.000000000",
          "2022-05-20T00:00:00.000000000",
          "2022-05-23T00:00:00.000000000",
          "2022-05-24T00:00:00.000000000",
          "2022-05-25T00:00:00.000000000",
          "2022-05-26T00:00:00.000000000",
          "2022-05-27T00:00:00.000000000",
          "2022-05-31T00:00:00.000000000",
          "2022-06-01T00:00:00.000000000",
          "2022-06-02T00:00:00.000000000",
          "2022-06-03T00:00:00.000000000",
          "2022-06-06T00:00:00.000000000",
          "2022-06-07T00:00:00.000000000",
          "2022-06-08T00:00:00.000000000",
          "2022-06-09T00:00:00.000000000",
          "2022-06-10T00:00:00.000000000",
          "2022-06-13T00:00:00.000000000",
          "2022-06-14T00:00:00.000000000",
          "2022-06-15T00:00:00.000000000",
          "2022-06-16T00:00:00.000000000",
          "2022-06-17T00:00:00.000000000",
          "2022-06-21T00:00:00.000000000",
          "2022-06-22T00:00:00.000000000",
          "2022-06-23T00:00:00.000000000",
          "2022-06-24T00:00:00.000000000",
          "2022-06-27T00:00:00.000000000",
          "2022-06-28T00:00:00.000000000",
          "2022-06-29T00:00:00.000000000",
          "2022-06-30T00:00:00.000000000",
          "2022-07-01T00:00:00.000000000",
          "2022-07-05T00:00:00.000000000",
          "2022-07-06T00:00:00.000000000",
          "2022-07-07T00:00:00.000000000",
          "2022-07-08T00:00:00.000000000",
          "2022-07-11T00:00:00.000000000",
          "2022-07-12T00:00:00.000000000",
          "2022-07-13T00:00:00.000000000",
          "2022-07-14T00:00:00.000000000",
          "2022-07-15T00:00:00.000000000",
          "2022-07-18T00:00:00.000000000",
          "2022-07-19T00:00:00.000000000",
          "2022-07-20T00:00:00.000000000",
          "2022-07-21T00:00:00.000000000",
          "2022-07-22T00:00:00.000000000",
          "2022-07-25T00:00:00.000000000",
          "2022-07-26T00:00:00.000000000",
          "2022-07-27T00:00:00.000000000",
          "2022-07-28T00:00:00.000000000",
          "2022-07-29T00:00:00.000000000",
          "2022-08-01T00:00:00.000000000",
          "2022-08-02T00:00:00.000000000",
          "2022-08-03T00:00:00.000000000",
          "2022-08-04T00:00:00.000000000",
          "2022-08-05T00:00:00.000000000",
          "2022-08-08T00:00:00.000000000",
          "2022-08-09T00:00:00.000000000",
          "2022-08-10T00:00:00.000000000",
          "2022-08-11T00:00:00.000000000",
          "2022-08-12T00:00:00.000000000",
          "2022-08-15T00:00:00.000000000",
          "2022-08-16T00:00:00.000000000",
          "2022-08-17T00:00:00.000000000",
          "2022-08-18T00:00:00.000000000",
          "2022-08-19T00:00:00.000000000",
          "2022-08-22T00:00:00.000000000",
          "2022-08-23T00:00:00.000000000",
          "2022-08-24T00:00:00.000000000",
          "2022-08-25T00:00:00.000000000",
          "2022-08-26T00:00:00.000000000",
          "2022-08-29T00:00:00.000000000",
          "2022-08-30T00:00:00.000000000",
          "2022-08-31T00:00:00.000000000",
          "2022-09-01T00:00:00.000000000",
          "2022-09-02T00:00:00.000000000",
          "2022-09-06T00:00:00.000000000",
          "2022-09-07T00:00:00.000000000",
          "2022-09-08T00:00:00.000000000",
          "2022-09-09T00:00:00.000000000",
          "2022-09-12T00:00:00.000000000",
          "2022-09-13T00:00:00.000000000",
          "2022-09-14T00:00:00.000000000",
          "2022-09-15T00:00:00.000000000",
          "2022-09-16T00:00:00.000000000",
          "2022-09-19T00:00:00.000000000",
          "2022-09-20T00:00:00.000000000",
          "2022-09-21T00:00:00.000000000",
          "2022-09-22T00:00:00.000000000",
          "2022-09-23T00:00:00.000000000",
          "2022-09-26T00:00:00.000000000",
          "2022-09-27T00:00:00.000000000",
          "2022-09-28T00:00:00.000000000",
          "2022-09-29T00:00:00.000000000",
          "2022-09-30T00:00:00.000000000",
          "2022-10-03T00:00:00.000000000",
          "2022-10-04T00:00:00.000000000",
          "2022-10-05T00:00:00.000000000",
          "2022-10-06T00:00:00.000000000",
          "2022-10-07T00:00:00.000000000",
          "2022-10-10T00:00:00.000000000",
          "2022-10-11T00:00:00.000000000",
          "2022-10-12T00:00:00.000000000",
          "2022-10-13T00:00:00.000000000",
          "2022-10-14T00:00:00.000000000",
          "2022-10-17T00:00:00.000000000",
          "2022-10-18T00:00:00.000000000",
          "2022-10-19T00:00:00.000000000",
          "2022-10-20T00:00:00.000000000",
          "2022-10-21T00:00:00.000000000",
          "2022-10-24T00:00:00.000000000",
          "2022-10-25T00:00:00.000000000",
          "2022-10-26T00:00:00.000000000",
          "2022-10-27T00:00:00.000000000",
          "2022-10-28T00:00:00.000000000",
          "2022-10-31T00:00:00.000000000",
          "2022-11-01T00:00:00.000000000",
          "2022-11-02T00:00:00.000000000",
          "2022-11-03T00:00:00.000000000",
          "2022-11-04T00:00:00.000000000",
          "2022-11-07T00:00:00.000000000",
          "2022-11-08T00:00:00.000000000",
          "2022-11-09T00:00:00.000000000",
          "2022-11-10T00:00:00.000000000",
          "2022-11-11T00:00:00.000000000",
          "2022-11-14T00:00:00.000000000",
          "2022-11-15T00:00:00.000000000",
          "2022-11-16T00:00:00.000000000",
          "2022-11-17T00:00:00.000000000",
          "2022-11-18T00:00:00.000000000",
          "2022-11-21T00:00:00.000000000",
          "2022-11-22T00:00:00.000000000",
          "2022-11-23T00:00:00.000000000",
          "2022-11-25T00:00:00.000000000",
          "2022-11-28T00:00:00.000000000",
          "2022-11-29T00:00:00.000000000",
          "2022-11-30T00:00:00.000000000",
          "2022-12-01T00:00:00.000000000",
          "2022-12-02T00:00:00.000000000",
          "2022-12-05T00:00:00.000000000",
          "2022-12-06T00:00:00.000000000",
          "2022-12-07T00:00:00.000000000",
          "2022-12-08T00:00:00.000000000",
          "2022-12-09T00:00:00.000000000",
          "2022-12-12T00:00:00.000000000",
          "2022-12-13T00:00:00.000000000",
          "2022-12-14T00:00:00.000000000",
          "2022-12-15T00:00:00.000000000",
          "2022-12-16T00:00:00.000000000",
          "2022-12-19T00:00:00.000000000",
          "2022-12-20T00:00:00.000000000",
          "2022-12-21T00:00:00.000000000",
          "2022-12-22T00:00:00.000000000",
          "2022-12-23T00:00:00.000000000",
          "2022-12-27T00:00:00.000000000",
          "2022-12-28T00:00:00.000000000"
         ],
         "xaxis": "x",
         "y": {
          "bdata": "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",
          "dtype": "f8"
         },
         "yaxis": "y"
        },
        {
         "hovertemplate": "variable=Factor Model 2<br>index=%{x}<br>value=%{y}<extra></extra>",
         "legendgroup": "Factor Model 2",
         "line": {
          "color": "#EF553B",
          "dash": "solid"
         },
         "marker": {
          "symbol": "circle"
         },
         "mode": "lines",
         "name": "Factor Model 2",
         "showlegend": true,
         "type": "scattergl",
         "x": [
          "2020-01-13T00:00:00.000000000",
          "2020-01-14T00:00:00.000000000",
          "2020-01-15T00:00:00.000000000",
          "2020-01-16T00:00:00.000000000",
          "2020-01-17T00:00:00.000000000",
          "2020-01-21T00:00:00.000000000",
          "2020-01-22T00:00:00.000000000",
          "2020-01-23T00:00:00.000000000",
          "2020-01-24T00:00:00.000000000",
          "2020-01-27T00:00:00.000000000",
          "2020-01-28T00:00:00.000000000",
          "2020-01-29T00:00:00.000000000",
          "2020-01-30T00:00:00.000000000",
          "2020-01-31T00:00:00.000000000",
          "2020-02-03T00:00:00.000000000",
          "2020-02-04T00:00:00.000000000",
          "2020-02-05T00:00:00.000000000",
          "2020-02-06T00:00:00.000000000",
          "2020-02-07T00:00:00.000000000",
          "2020-02-10T00:00:00.000000000",
          "2020-02-11T00:00:00.000000000",
          "2020-02-12T00:00:00.000000000",
          "2020-02-13T00:00:00.000000000",
          "2020-02-14T00:00:00.000000000",
          "2020-02-18T00:00:00.000000000",
          "2020-02-19T00:00:00.000000000",
          "2020-02-20T00:00:00.000000000",
          "2020-02-21T00:00:00.000000000",
          "2020-02-24T00:00:00.000000000",
          "2020-02-25T00:00:00.000000000",
          "2020-02-26T00:00:00.000000000",
          "2020-02-27T00:00:00.000000000",
          "2020-02-28T00:00:00.000000000",
          "2020-03-02T00:00:00.000000000",
          "2020-03-03T00:00:00.000000000",
          "2020-03-04T00:00:00.000000000",
          "2020-03-05T00:00:00.000000000",
          "2020-03-06T00:00:00.000000000",
          "2020-03-09T00:00:00.000000000",
          "2020-03-10T00:00:00.000000000",
          "2020-03-11T00:00:00.000000000",
          "2020-03-12T00:00:00.000000000",
          "2020-03-13T00:00:00.000000000",
          "2020-03-16T00:00:00.000000000",
          "2020-03-17T00:00:00.000000000",
          "2020-03-18T00:00:00.000000000",
          "2020-03-19T00:00:00.000000000",
          "2020-03-20T00:00:00.000000000",
          "2020-03-23T00:00:00.000000000",
          "2020-03-24T00:00:00.000000000",
          "2020-03-25T00:00:00.000000000",
          "2020-03-26T00:00:00.000000000",
          "2020-03-27T00:00:00.000000000",
          "2020-03-30T00:00:00.000000000",
          "2020-03-31T00:00:00.000000000",
          "2020-04-01T00:00:00.000000000",
          "2020-04-02T00:00:00.000000000",
          "2020-04-03T00:00:00.000000000",
          "2020-04-06T00:00:00.000000000",
          "2020-04-07T00:00:00.000000000",
          "2020-04-08T00:00:00.000000000",
          "2020-04-09T00:00:00.000000000",
          "2020-04-13T00:00:00.000000000",
          "2020-04-14T00:00:00.000000000",
          "2020-04-15T00:00:00.000000000",
          "2020-04-16T00:00:00.000000000",
          "2020-04-17T00:00:00.000000000",
          "2020-04-20T00:00:00.000000000",
          "2020-04-21T00:00:00.000000000",
          "2020-04-22T00:00:00.000000000",
          "2020-04-23T00:00:00.000000000",
          "2020-04-24T00:00:00.000000000",
          "2020-04-27T00:00:00.000000000",
          "2020-04-28T00:00:00.000000000",
          "2020-04-29T00:00:00.000000000",
          "2020-04-30T00:00:00.000000000",
          "2020-05-01T00:00:00.000000000",
          "2020-05-04T00:00:00.000000000",
          "2020-05-05T00:00:00.000000000",
          "2020-05-06T00:00:00.000000000",
          "2020-05-07T00:00:00.000000000",
          "2020-05-08T00:00:00.000000000",
          "2020-05-11T00:00:00.000000000",
          "2020-05-12T00:00:00.000000000",
          "2020-05-13T00:00:00.000000000",
          "2020-05-14T00:00:00.000000000",
          "2020-05-15T00:00:00.000000000",
          "2020-05-18T00:00:00.000000000",
          "2020-05-19T00:00:00.000000000",
          "2020-05-20T00:00:00.000000000",
          "2020-05-21T00:00:00.000000000",
          "2020-05-22T00:00:00.000000000",
          "2020-05-26T00:00:00.000000000",
          "2020-05-27T00:00:00.000000000",
          "2020-05-28T00:00:00.000000000",
          "2020-05-29T00:00:00.000000000",
          "2020-06-01T00:00:00.000000000",
          "2020-06-02T00:00:00.000000000",
          "2020-06-03T00:00:00.000000000",
          "2020-06-04T00:00:00.000000000",
          "2020-06-05T00:00:00.000000000",
          "2020-06-08T00:00:00.000000000",
          "2020-06-09T00:00:00.000000000",
          "2020-06-10T00:00:00.000000000",
          "2020-06-11T00:00:00.000000000",
          "2020-06-12T00:00:00.000000000",
          "2020-06-15T00:00:00.000000000",
          "2020-06-16T00:00:00.000000000",
          "2020-06-17T00:00:00.000000000",
          "2020-06-18T00:00:00.000000000",
          "2020-06-19T00:00:00.000000000",
          "2020-06-22T00:00:00.000000000",
          "2020-06-23T00:00:00.000000000",
          "2020-06-24T00:00:00.000000000",
          "2020-06-25T00:00:00.000000000",
          "2020-06-26T00:00:00.000000000",
          "2020-06-29T00:00:00.000000000",
          "2020-06-30T00:00:00.000000000",
          "2020-07-01T00:00:00.000000000",
          "2020-07-02T00:00:00.000000000",
          "2020-07-06T00:00:00.000000000",
          "2020-07-07T00:00:00.000000000",
          "2020-07-08T00:00:00.000000000",
          "2020-07-09T00:00:00.000000000",
          "2020-07-10T00:00:00.000000000",
          "2020-07-13T00:00:00.000000000",
          "2020-07-14T00:00:00.000000000",
          "2020-07-15T00:00:00.000000000",
          "2020-07-16T00:00:00.000000000",
          "2020-07-17T00:00:00.000000000",
          "2020-07-20T00:00:00.000000000",
          "2020-07-21T00:00:00.000000000",
          "2020-07-22T00:00:00.000000000",
          "2020-07-23T00:00:00.000000000",
          "2020-07-24T00:00:00.000000000",
          "2020-07-27T00:00:00.000000000",
          "2020-07-28T00:00:00.000000000",
          "2020-07-29T00:00:00.000000000",
          "2020-07-30T00:00:00.000000000",
          "2020-07-31T00:00:00.000000000",
          "2020-08-03T00:00:00.000000000",
          "2020-08-04T00:00:00.000000000",
          "2020-08-05T00:00:00.000000000",
          "2020-08-06T00:00:00.000000000",
          "2020-08-07T00:00:00.000000000",
          "2020-08-10T00:00:00.000000000",
          "2020-08-11T00:00:00.000000000",
          "2020-08-12T00:00:00.000000000",
          "2020-08-13T00:00:00.000000000",
          "2020-08-14T00:00:00.000000000",
          "2020-08-17T00:00:00.000000000",
          "2020-08-18T00:00:00.000000000",
          "2020-08-19T00:00:00.000000000",
          "2020-08-20T00:00:00.000000000",
          "2020-08-21T00:00:00.000000000",
          "2020-08-24T00:00:00.000000000",
          "2020-08-25T00:00:00.000000000",
          "2020-08-26T00:00:00.000000000",
          "2020-08-27T00:00:00.000000000",
          "2020-08-28T00:00:00.000000000",
          "2020-08-31T00:00:00.000000000",
          "2020-09-01T00:00:00.000000000",
          "2020-09-02T00:00:00.000000000",
          "2020-09-03T00:00:00.000000000",
          "2020-09-04T00:00:00.000000000",
          "2020-09-08T00:00:00.000000000",
          "2020-09-09T00:00:00.000000000",
          "2020-09-10T00:00:00.000000000",
          "2020-09-11T00:00:00.000000000",
          "2020-09-14T00:00:00.000000000",
          "2020-09-15T00:00:00.000000000",
          "2020-09-16T00:00:00.000000000",
          "2020-09-17T00:00:00.000000000",
          "2020-09-18T00:00:00.000000000",
          "2020-09-21T00:00:00.000000000",
          "2020-09-22T00:00:00.000000000",
          "2020-09-23T00:00:00.000000000",
          "2020-09-24T00:00:00.000000000",
          "2020-09-25T00:00:00.000000000",
          "2020-09-28T00:00:00.000000000",
          "2020-09-29T00:00:00.000000000",
          "2020-09-30T00:00:00.000000000",
          "2020-10-01T00:00:00.000000000",
          "2020-10-02T00:00:00.000000000",
          "2020-10-05T00:00:00.000000000",
          "2020-10-06T00:00:00.000000000",
          "2020-10-07T00:00:00.000000000",
          "2020-10-08T00:00:00.000000000",
          "2020-10-09T00:00:00.000000000",
          "2020-10-12T00:00:00.000000000",
          "2020-10-13T00:00:00.000000000",
          "2020-10-14T00:00:00.000000000",
          "2020-10-15T00:00:00.000000000",
          "2020-10-16T00:00:00.000000000",
          "2020-10-19T00:00:00.000000000",
          "2020-10-20T00:00:00.000000000",
          "2020-10-21T00:00:00.000000000",
          "2020-10-22T00:00:00.000000000",
          "2020-10-23T00:00:00.000000000",
          "2020-10-26T00:00:00.000000000",
          "2020-10-27T00:00:00.000000000",
          "2020-10-28T00:00:00.000000000",
          "2020-10-29T00:00:00.000000000",
          "2020-10-30T00:00:00.000000000",
          "2020-11-02T00:00:00.000000000",
          "2020-11-03T00:00:00.000000000",
          "2020-11-04T00:00:00.000000000",
          "2020-11-05T00:00:00.000000000",
          "2020-11-06T00:00:00.000000000",
          "2020-11-09T00:00:00.000000000",
          "2020-11-10T00:00:00.000000000",
          "2020-11-11T00:00:00.000000000",
          "2020-11-12T00:00:00.000000000",
          "2020-11-13T00:00:00.000000000",
          "2020-11-16T00:00:00.000000000",
          "2020-11-17T00:00:00.000000000",
          "2020-11-18T00:00:00.000000000",
          "2020-11-19T00:00:00.000000000",
          "2020-11-20T00:00:00.000000000",
          "2020-11-23T00:00:00.000000000",
          "2020-11-24T00:00:00.000000000",
          "2020-11-25T00:00:00.000000000",
          "2020-11-27T00:00:00.000000000",
          "2020-11-30T00:00:00.000000000",
          "2020-12-01T00:00:00.000000000",
          "2020-12-02T00:00:00.000000000",
          "2020-12-03T00:00:00.000000000",
          "2020-12-04T00:00:00.000000000",
          "2020-12-07T00:00:00.000000000",
          "2020-12-08T00:00:00.000000000",
          "2020-12-09T00:00:00.000000000",
          "2020-12-10T00:00:00.000000000",
          "2020-12-11T00:00:00.000000000",
          "2020-12-14T00:00:00.000000000",
          "2020-12-15T00:00:00.000000000",
          "2020-12-16T00:00:00.000000000",
          "2020-12-17T00:00:00.000000000",
          "2020-12-18T00:00:00.000000000",
          "2020-12-21T00:00:00.000000000",
          "2020-12-22T00:00:00.000000000",
          "2020-12-23T00:00:00.000000000",
          "2020-12-24T00:00:00.000000000",
          "2020-12-28T00:00:00.000000000",
          "2020-12-29T00:00:00.000000000",
          "2020-12-30T00:00:00.000000000",
          "2020-12-31T00:00:00.000000000",
          "2021-01-04T00:00:00.000000000",
          "2021-01-05T00:00:00.000000000",
          "2021-01-06T00:00:00.000000000",
          "2021-01-07T00:00:00.000000000",
          "2021-01-08T00:00:00.000000000",
          "2021-01-11T00:00:00.000000000",
          "2021-01-12T00:00:00.000000000",
          "2021-01-13T00:00:00.000000000",
          "2021-01-14T00:00:00.000000000",
          "2021-01-15T00:00:00.000000000",
          "2021-01-19T00:00:00.000000000",
          "2021-01-20T00:00:00.000000000",
          "2021-01-21T00:00:00.000000000",
          "2021-01-22T00:00:00.000000000",
          "2021-01-25T00:00:00.000000000",
          "2021-01-26T00:00:00.000000000",
          "2021-01-27T00:00:00.000000000",
          "2021-01-28T00:00:00.000000000",
          "2021-01-29T00:00:00.000000000",
          "2021-02-01T00:00:00.000000000",
          "2021-02-02T00:00:00.000000000",
          "2021-02-03T00:00:00.000000000",
          "2021-02-04T00:00:00.000000000",
          "2021-02-05T00:00:00.000000000",
          "2021-02-08T00:00:00.000000000",
          "2021-02-09T00:00:00.000000000",
          "2021-02-10T00:00:00.000000000",
          "2021-02-11T00:00:00.000000000",
          "2021-02-12T00:00:00.000000000",
          "2021-02-16T00:00:00.000000000",
          "2021-02-17T00:00:00.000000000",
          "2021-02-18T00:00:00.000000000",
          "2021-02-19T00:00:00.000000000",
          "2021-02-22T00:00:00.000000000",
          "2021-02-23T00:00:00.000000000",
          "2021-02-24T00:00:00.000000000",
          "2021-02-25T00:00:00.000000000",
          "2021-02-26T00:00:00.000000000",
          "2021-03-01T00:00:00.000000000",
          "2021-03-02T00:00:00.000000000",
          "2021-03-03T00:00:00.000000000",
          "2021-03-04T00:00:00.000000000",
          "2021-03-05T00:00:00.000000000",
          "2021-03-08T00:00:00.000000000",
          "2021-03-09T00:00:00.000000000",
          "2021-03-10T00:00:00.000000000",
          "2021-03-11T00:00:00.000000000",
          "2021-03-12T00:00:00.000000000",
          "2021-03-15T00:00:00.000000000",
          "2021-03-16T00:00:00.000000000",
          "2021-03-17T00:00:00.000000000",
          "2021-03-18T00:00:00.000000000",
          "2021-03-19T00:00:00.000000000",
          "2021-03-22T00:00:00.000000000",
          "2021-03-23T00:00:00.000000000",
          "2021-03-24T00:00:00.000000000",
          "2021-03-25T00:00:00.000000000",
          "2021-03-26T00:00:00.000000000",
          "2021-03-29T00:00:00.000000000",
          "2021-03-30T00:00:00.000000000",
          "2021-03-31T00:00:00.000000000",
          "2021-04-01T00:00:00.000000000",
          "2021-04-05T00:00:00.000000000",
          "2021-04-06T00:00:00.000000000",
          "2021-04-07T00:00:00.000000000",
          "2021-04-08T00:00:00.000000000",
          "2021-04-09T00:00:00.000000000",
          "2021-04-12T00:00:00.000000000",
          "2021-04-13T00:00:00.000000000",
          "2021-04-14T00:00:00.000000000",
          "2021-04-15T00:00:00.000000000",
          "2021-04-16T00:00:00.000000000",
          "2021-04-19T00:00:00.000000000",
          "2021-04-20T00:00:00.000000000",
          "2021-04-21T00:00:00.000000000",
          "2021-04-22T00:00:00.000000000",
          "2021-04-23T00:00:00.000000000",
          "2021-04-26T00:00:00.000000000",
          "2021-04-27T00:00:00.000000000",
          "2021-04-28T00:00:00.000000000",
          "2021-04-29T00:00:00.000000000",
          "2021-04-30T00:00:00.000000000",
          "2021-05-03T00:00:00.000000000",
          "2021-05-04T00:00:00.000000000",
          "2021-05-05T00:00:00.000000000",
          "2021-05-06T00:00:00.000000000",
          "2021-05-07T00:00:00.000000000",
          "2021-05-10T00:00:00.000000000",
          "2021-05-11T00:00:00.000000000",
          "2021-05-12T00:00:00.000000000",
          "2021-05-13T00:00:00.000000000",
          "2021-05-14T00:00:00.000000000",
          "2021-05-17T00:00:00.000000000",
          "2021-05-18T00:00:00.000000000",
          "2021-05-19T00:00:00.000000000",
          "2021-05-20T00:00:00.000000000",
          "2021-05-21T00:00:00.000000000",
          "2021-05-24T00:00:00.000000000",
          "2021-05-25T00:00:00.000000000",
          "2021-05-26T00:00:00.000000000",
          "2021-05-27T00:00:00.000000000",
          "2021-05-28T00:00:00.000000000",
          "2021-06-01T00:00:00.000000000",
          "2021-06-02T00:00:00.000000000",
          "2021-06-03T00:00:00.000000000",
          "2021-06-04T00:00:00.000000000",
          "2021-06-07T00:00:00.000000000",
          "2021-06-08T00:00:00.000000000",
          "2021-06-09T00:00:00.000000000",
          "2021-06-10T00:00:00.000000000",
          "2021-06-11T00:00:00.000000000",
          "2021-06-14T00:00:00.000000000",
          "2021-06-15T00:00:00.000000000",
          "2021-06-16T00:00:00.000000000",
          "2021-06-17T00:00:00.000000000",
          "2021-06-18T00:00:00.000000000",
          "2021-06-21T00:00:00.000000000",
          "2021-06-22T00:00:00.000000000",
          "2021-06-23T00:00:00.000000000",
          "2021-06-24T00:00:00.000000000",
          "2021-06-25T00:00:00.000000000",
          "2021-06-28T00:00:00.000000000",
          "2021-06-29T00:00:00.000000000",
          "2021-06-30T00:00:00.000000000",
          "2021-07-01T00:00:00.000000000",
          "2021-07-02T00:00:00.000000000",
          "2021-07-06T00:00:00.000000000",
          "2021-07-07T00:00:00.000000000",
          "2021-07-08T00:00:00.000000000",
          "2021-07-09T00:00:00.000000000",
          "2021-07-12T00:00:00.000000000",
          "2021-07-13T00:00:00.000000000",
          "2021-07-14T00:00:00.000000000",
          "2021-07-15T00:00:00.000000000",
          "2021-07-16T00:00:00.000000000",
          "2021-07-19T00:00:00.000000000",
          "2021-07-20T00:00:00.000000000",
          "2021-07-21T00:00:00.000000000",
          "2021-07-22T00:00:00.000000000",
          "2021-07-23T00:00:00.000000000",
          "2021-07-26T00:00:00.000000000",
          "2021-07-27T00:00:00.000000000",
          "2021-07-28T00:00:00.000000000",
          "2021-07-29T00:00:00.000000000",
          "2021-07-30T00:00:00.000000000",
          "2021-08-02T00:00:00.000000000",
          "2021-08-03T00:00:00.000000000",
          "2021-08-04T00:00:00.000000000",
          "2021-08-05T00:00:00.000000000",
          "2021-08-06T00:00:00.000000000",
          "2021-08-09T00:00:00.000000000",
          "2021-08-10T00:00:00.000000000",
          "2021-08-11T00:00:00.000000000",
          "2021-08-12T00:00:00.000000000",
          "2021-08-13T00:00:00.000000000",
          "2021-08-16T00:00:00.000000000",
          "2021-08-17T00:00:00.000000000",
          "2021-08-18T00:00:00.000000000",
          "2021-08-19T00:00:00.000000000",
          "2021-08-20T00:00:00.000000000",
          "2021-08-23T00:00:00.000000000",
          "2021-08-24T00:00:00.000000000",
          "2021-08-25T00:00:00.000000000",
          "2021-08-26T00:00:00.000000000",
          "2021-08-27T00:00:00.000000000",
          "2021-08-30T00:00:00.000000000",
          "2021-08-31T00:00:00.000000000",
          "2021-09-01T00:00:00.000000000",
          "2021-09-02T00:00:00.000000000",
          "2021-09-03T00:00:00.000000000",
          "2021-09-07T00:00:00.000000000",
          "2021-09-08T00:00:00.000000000",
          "2021-09-09T00:00:00.000000000",
          "2021-09-10T00:00:00.000000000",
          "2021-09-13T00:00:00.000000000",
          "2021-09-14T00:00:00.000000000",
          "2021-09-15T00:00:00.000000000",
          "2021-09-16T00:00:00.000000000",
          "2021-09-17T00:00:00.000000000",
          "2021-09-20T00:00:00.000000000",
          "2021-09-21T00:00:00.000000000",
          "2021-09-22T00:00:00.000000000",
          "2021-09-23T00:00:00.000000000",
          "2021-09-24T00:00:00.000000000",
          "2021-09-27T00:00:00.000000000",
          "2021-09-28T00:00:00.000000000",
          "2021-09-29T00:00:00.000000000",
          "2021-09-30T00:00:00.000000000",
          "2021-10-01T00:00:00.000000000",
          "2021-10-04T00:00:00.000000000",
          "2021-10-05T00:00:00.000000000",
          "2021-10-06T00:00:00.000000000",
          "2021-10-07T00:00:00.000000000",
          "2021-10-08T00:00:00.000000000",
          "2021-10-11T00:00:00.000000000",
          "2021-10-12T00:00:00.000000000",
          "2021-10-13T00:00:00.000000000",
          "2021-10-14T00:00:00.000000000",
          "2021-10-15T00:00:00.000000000",
          "2021-10-18T00:00:00.000000000",
          "2021-10-19T00:00:00.000000000",
          "2021-10-20T00:00:00.000000000",
          "2021-10-21T00:00:00.000000000",
          "2021-10-22T00:00:00.000000000",
          "2021-10-25T00:00:00.000000000",
          "2021-10-26T00:00:00.000000000",
          "2021-10-27T00:00:00.000000000",
          "2021-10-28T00:00:00.000000000",
          "2021-10-29T00:00:00.000000000",
          "2021-11-01T00:00:00.000000000",
          "2021-11-02T00:00:00.000000000",
          "2021-11-03T00:00:00.000000000",
          "2021-11-04T00:00:00.000000000",
          "2021-11-05T00:00:00.000000000",
          "2021-11-08T00:00:00.000000000",
          "2021-11-09T00:00:00.000000000",
          "2021-11-10T00:00:00.000000000",
          "2021-11-11T00:00:00.000000000",
          "2021-11-12T00:00:00.000000000",
          "2021-11-15T00:00:00.000000000",
          "2021-11-16T00:00:00.000000000",
          "2021-11-17T00:00:00.000000000",
          "2021-11-18T00:00:00.000000000",
          "2021-11-19T00:00:00.000000000",
          "2021-11-22T00:00:00.000000000",
          "2021-11-23T00:00:00.000000000",
          "2021-11-24T00:00:00.000000000",
          "2021-11-26T00:00:00.000000000",
          "2021-11-29T00:00:00.000000000",
          "2021-11-30T00:00:00.000000000",
          "2021-12-01T00:00:00.000000000",
          "2021-12-02T00:00:00.000000000",
          "2021-12-03T00:00:00.000000000",
          "2021-12-06T00:00:00.000000000",
          "2021-12-07T00:00:00.000000000",
          "2021-12-08T00:00:00.000000000",
          "2021-12-09T00:00:00.000000000",
          "2021-12-10T00:00:00.000000000",
          "2021-12-13T00:00:00.000000000",
          "2021-12-14T00:00:00.000000000",
          "2021-12-15T00:00:00.000000000",
          "2021-12-16T00:00:00.000000000",
          "2021-12-17T00:00:00.000000000",
          "2021-12-20T00:00:00.000000000",
          "2021-12-21T00:00:00.000000000",
          "2021-12-22T00:00:00.000000000",
          "2021-12-23T00:00:00.000000000",
          "2021-12-27T00:00:00.000000000",
          "2021-12-28T00:00:00.000000000",
          "2021-12-29T00:00:00.000000000",
          "2021-12-30T00:00:00.000000000",
          "2021-12-31T00:00:00.000000000",
          "2022-01-03T00:00:00.000000000",
          "2022-01-04T00:00:00.000000000",
          "2022-01-05T00:00:00.000000000",
          "2022-01-06T00:00:00.000000000",
          "2022-01-07T00:00:00.000000000",
          "2022-01-10T00:00:00.000000000",
          "2022-01-11T00:00:00.000000000",
          "2022-01-12T00:00:00.000000000",
          "2022-01-13T00:00:00.000000000",
          "2022-01-14T00:00:00.000000000",
          "2022-01-18T00:00:00.000000000",
          "2022-01-19T00:00:00.000000000",
          "2022-01-20T00:00:00.000000000",
          "2022-01-21T00:00:00.000000000",
          "2022-01-24T00:00:00.000000000",
          "2022-01-25T00:00:00.000000000",
          "2022-01-26T00:00:00.000000000",
          "2022-01-27T00:00:00.000000000",
          "2022-01-28T00:00:00.000000000",
          "2022-01-31T00:00:00.000000000",
          "2022-02-01T00:00:00.000000000",
          "2022-02-02T00:00:00.000000000",
          "2022-02-03T00:00:00.000000000",
          "2022-02-04T00:00:00.000000000",
          "2022-02-07T00:00:00.000000000",
          "2022-02-08T00:00:00.000000000",
          "2022-02-09T00:00:00.000000000",
          "2022-02-10T00:00:00.000000000",
          "2022-02-11T00:00:00.000000000",
          "2022-02-14T00:00:00.000000000",
          "2022-02-15T00:00:00.000000000",
          "2022-02-16T00:00:00.000000000",
          "2022-02-17T00:00:00.000000000",
          "2022-02-18T00:00:00.000000000",
          "2022-02-22T00:00:00.000000000",
          "2022-02-23T00:00:00.000000000",
          "2022-02-24T00:00:00.000000000",
          "2022-02-25T00:00:00.000000000",
          "2022-02-28T00:00:00.000000000",
          "2022-03-01T00:00:00.000000000",
          "2022-03-02T00:00:00.000000000",
          "2022-03-03T00:00:00.000000000",
          "2022-03-04T00:00:00.000000000",
          "2022-03-07T00:00:00.000000000",
          "2022-03-08T00:00:00.000000000",
          "2022-03-09T00:00:00.000000000",
          "2022-03-10T00:00:00.000000000",
          "2022-03-11T00:00:00.000000000",
          "2022-03-14T00:00:00.000000000",
          "2022-03-15T00:00:00.000000000",
          "2022-03-16T00:00:00.000000000",
          "2022-03-17T00:00:00.000000000",
          "2022-03-18T00:00:00.000000000",
          "2022-03-21T00:00:00.000000000",
          "2022-03-22T00:00:00.000000000",
          "2022-03-23T00:00:00.000000000",
          "2022-03-24T00:00:00.000000000",
          "2022-03-25T00:00:00.000000000",
          "2022-03-28T00:00:00.000000000",
          "2022-03-29T00:00:00.000000000",
          "2022-03-30T00:00:00.000000000",
          "2022-03-31T00:00:00.000000000",
          "2022-04-01T00:00:00.000000000",
          "2022-04-04T00:00:00.000000000",
          "2022-04-05T00:00:00.000000000",
          "2022-04-06T00:00:00.000000000",
          "2022-04-07T00:00:00.000000000",
          "2022-04-08T00:00:00.000000000",
          "2022-04-11T00:00:00.000000000",
          "2022-04-12T00:00:00.000000000",
          "2022-04-13T00:00:00.000000000",
          "2022-04-14T00:00:00.000000000",
          "2022-04-18T00:00:00.000000000",
          "2022-04-19T00:00:00.000000000",
          "2022-04-20T00:00:00.000000000",
          "2022-04-21T00:00:00.000000000",
          "2022-04-22T00:00:00.000000000",
          "2022-04-25T00:00:00.000000000",
          "2022-04-26T00:00:00.000000000",
          "2022-04-27T00:00:00.000000000",
          "2022-04-28T00:00:00.000000000",
          "2022-04-29T00:00:00.000000000",
          "2022-05-02T00:00:00.000000000",
          "2022-05-03T00:00:00.000000000",
          "2022-05-04T00:00:00.000000000",
          "2022-05-05T00:00:00.000000000",
          "2022-05-06T00:00:00.000000000",
          "2022-05-09T00:00:00.000000000",
          "2022-05-10T00:00:00.000000000",
          "2022-05-11T00:00:00.000000000",
          "2022-05-12T00:00:00.000000000",
          "2022-05-13T00:00:00.000000000",
          "2022-05-16T00:00:00.000000000",
          "2022-05-17T00:00:00.000000000",
          "2022-05-18T00:00:00.000000000",
          "2022-05-19T00:00:00.000000000",
          "2022-05-20T00:00:00.000000000",
          "2022-05-23T00:00:00.000000000",
          "2022-05-24T00:00:00.000000000",
          "2022-05-25T00:00:00.000000000",
          "2022-05-26T00:00:00.000000000",
          "2022-05-27T00:00:00.000000000",
          "2022-05-31T00:00:00.000000000",
          "2022-06-01T00:00:00.000000000",
          "2022-06-02T00:00:00.000000000",
          "2022-06-03T00:00:00.000000000",
          "2022-06-06T00:00:00.000000000",
          "2022-06-07T00:00:00.000000000",
          "2022-06-08T00:00:00.000000000",
          "2022-06-09T00:00:00.000000000",
          "2022-06-10T00:00:00.000000000",
          "2022-06-13T00:00:00.000000000",
          "2022-06-14T00:00:00.000000000",
          "2022-06-15T00:00:00.000000000",
          "2022-06-16T00:00:00.000000000",
          "2022-06-17T00:00:00.000000000",
          "2022-06-21T00:00:00.000000000",
          "2022-06-22T00:00:00.000000000",
          "2022-06-23T00:00:00.000000000",
          "2022-06-24T00:00:00.000000000",
          "2022-06-27T00:00:00.000000000",
          "2022-06-28T00:00:00.000000000",
          "2022-06-29T00:00:00.000000000",
          "2022-06-30T00:00:00.000000000",
          "2022-07-01T00:00:00.000000000",
          "2022-07-05T00:00:00.000000000",
          "2022-07-06T00:00:00.000000000",
          "2022-07-07T00:00:00.000000000",
          "2022-07-08T00:00:00.000000000",
          "2022-07-11T00:00:00.000000000",
          "2022-07-12T00:00:00.000000000",
          "2022-07-13T00:00:00.000000000",
          "2022-07-14T00:00:00.000000000",
          "2022-07-15T00:00:00.000000000",
          "2022-07-18T00:00:00.000000000",
          "2022-07-19T00:00:00.000000000",
          "2022-07-20T00:00:00.000000000",
          "2022-07-21T00:00:00.000000000",
          "2022-07-22T00:00:00.000000000",
          "2022-07-25T00:00:00.000000000",
          "2022-07-26T00:00:00.000000000",
          "2022-07-27T00:00:00.000000000",
          "2022-07-28T00:00:00.000000000",
          "2022-07-29T00:00:00.000000000",
          "2022-08-01T00:00:00.000000000",
          "2022-08-02T00:00:00.000000000",
          "2022-08-03T00:00:00.000000000",
          "2022-08-04T00:00:00.000000000",
          "2022-08-05T00:00:00.000000000",
          "2022-08-08T00:00:00.000000000",
          "2022-08-09T00:00:00.000000000",
          "2022-08-10T00:00:00.000000000",
          "2022-08-11T00:00:00.000000000",
          "2022-08-12T00:00:00.000000000",
          "2022-08-15T00:00:00.000000000",
          "2022-08-16T00:00:00.000000000",
          "2022-08-17T00:00:00.000000000",
          "2022-08-18T00:00:00.000000000",
          "2022-08-19T00:00:00.000000000",
          "2022-08-22T00:00:00.000000000",
          "2022-08-23T00:00:00.000000000",
          "2022-08-24T00:00:00.000000000",
          "2022-08-25T00:00:00.000000000",
          "2022-08-26T00:00:00.000000000",
          "2022-08-29T00:00:00.000000000",
          "2022-08-30T00:00:00.000000000",
          "2022-08-31T00:00:00.000000000",
          "2022-09-01T00:00:00.000000000",
          "2022-09-02T00:00:00.000000000",
          "2022-09-06T00:00:00.000000000",
          "2022-09-07T00:00:00.000000000",
          "2022-09-08T00:00:00.000000000",
          "2022-09-09T00:00:00.000000000",
          "2022-09-12T00:00:00.000000000",
          "2022-09-13T00:00:00.000000000",
          "2022-09-14T00:00:00.000000000",
          "2022-09-15T00:00:00.000000000",
          "2022-09-16T00:00:00.000000000",
          "2022-09-19T00:00:00.000000000",
          "2022-09-20T00:00:00.000000000",
          "2022-09-21T00:00:00.000000000",
          "2022-09-22T00:00:00.000000000",
          "2022-09-23T00:00:00.000000000",
          "2022-09-26T00:00:00.000000000",
          "2022-09-27T00:00:00.000000000",
          "2022-09-28T00:00:00.000000000",
          "2022-09-29T00:00:00.000000000",
          "2022-09-30T00:00:00.000000000",
          "2022-10-03T00:00:00.000000000",
          "2022-10-04T00:00:00.000000000",
          "2022-10-05T00:00:00.000000000",
          "2022-10-06T00:00:00.000000000",
          "2022-10-07T00:00:00.000000000",
          "2022-10-10T00:00:00.000000000",
          "2022-10-11T00:00:00.000000000",
          "2022-10-12T00:00:00.000000000",
          "2022-10-13T00:00:00.000000000",
          "2022-10-14T00:00:00.000000000",
          "2022-10-17T00:00:00.000000000",
          "2022-10-18T00:00:00.000000000",
          "2022-10-19T00:00:00.000000000",
          "2022-10-20T00:00:00.000000000",
          "2022-10-21T00:00:00.000000000",
          "2022-10-24T00:00:00.000000000",
          "2022-10-25T00:00:00.000000000",
          "2022-10-26T00:00:00.000000000",
          "2022-10-27T00:00:00.000000000",
          "2022-10-28T00:00:00.000000000",
          "2022-10-31T00:00:00.000000000",
          "2022-11-01T00:00:00.000000000",
          "2022-11-02T00:00:00.000000000",
          "2022-11-03T00:00:00.000000000",
          "2022-11-04T00:00:00.000000000",
          "2022-11-07T00:00:00.000000000",
          "2022-11-08T00:00:00.000000000",
          "2022-11-09T00:00:00.000000000",
          "2022-11-10T00:00:00.000000000",
          "2022-11-11T00:00:00.000000000",
          "2022-11-14T00:00:00.000000000",
          "2022-11-15T00:00:00.000000000",
          "2022-11-16T00:00:00.000000000",
          "2022-11-17T00:00:00.000000000",
          "2022-11-18T00:00:00.000000000",
          "2022-11-21T00:00:00.000000000",
          "2022-11-22T00:00:00.000000000",
          "2022-11-23T00:00:00.000000000",
          "2022-11-25T00:00:00.000000000",
          "2022-11-28T00:00:00.000000000",
          "2022-11-29T00:00:00.000000000",
          "2022-11-30T00:00:00.000000000",
          "2022-12-01T00:00:00.000000000",
          "2022-12-02T00:00:00.000000000",
          "2022-12-05T00:00:00.000000000",
          "2022-12-06T00:00:00.000000000",
          "2022-12-07T00:00:00.000000000",
          "2022-12-08T00:00:00.000000000",
          "2022-12-09T00:00:00.000000000",
          "2022-12-12T00:00:00.000000000",
          "2022-12-13T00:00:00.000000000",
          "2022-12-14T00:00:00.000000000",
          "2022-12-15T00:00:00.000000000",
          "2022-12-16T00:00:00.000000000",
          "2022-12-19T00:00:00.000000000",
          "2022-12-20T00:00:00.000000000",
          "2022-12-21T00:00:00.000000000",
          "2022-12-22T00:00:00.000000000",
          "2022-12-23T00:00:00.000000000",
          "2022-12-27T00:00:00.000000000",
          "2022-12-28T00:00:00.000000000"
         ],
         "xaxis": "x",
         "y": {
          "bdata": "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",
          "dtype": "f8"
         },
         "yaxis": "y"
        },
        {
         "hovertemplate": "variable=Factor Model 3<br>index=%{x}<br>value=%{y}<extra></extra>",
         "legendgroup": "Factor Model 3",
         "line": {
          "color": "#00cc96",
          "dash": "solid"
         },
         "marker": {
          "symbol": "circle"
         },
         "mode": "lines",
         "name": "Factor Model 3",
         "showlegend": true,
         "type": "scattergl",
         "x": [
          "2020-01-13T00:00:00.000000000",
          "2020-01-14T00:00:00.000000000",
          "2020-01-15T00:00:00.000000000",
          "2020-01-16T00:00:00.000000000",
          "2020-01-17T00:00:00.000000000",
          "2020-01-21T00:00:00.000000000",
          "2020-01-22T00:00:00.000000000",
          "2020-01-23T00:00:00.000000000",
          "2020-01-24T00:00:00.000000000",
          "2020-01-27T00:00:00.000000000",
          "2020-01-28T00:00:00.000000000",
          "2020-01-29T00:00:00.000000000",
          "2020-01-30T00:00:00.000000000",
          "2020-01-31T00:00:00.000000000",
          "2020-02-03T00:00:00.000000000",
          "2020-02-04T00:00:00.000000000",
          "2020-02-05T00:00:00.000000000",
          "2020-02-06T00:00:00.000000000",
          "2020-02-07T00:00:00.000000000",
          "2020-02-10T00:00:00.000000000",
          "2020-02-11T00:00:00.000000000",
          "2020-02-12T00:00:00.000000000",
          "2020-02-13T00:00:00.000000000",
          "2020-02-14T00:00:00.000000000",
          "2020-02-18T00:00:00.000000000",
          "2020-02-19T00:00:00.000000000",
          "2020-02-20T00:00:00.000000000",
          "2020-02-21T00:00:00.000000000",
          "2020-02-24T00:00:00.000000000",
          "2020-02-25T00:00:00.000000000",
          "2020-02-26T00:00:00.000000000",
          "2020-02-27T00:00:00.000000000",
          "2020-02-28T00:00:00.000000000",
          "2020-03-02T00:00:00.000000000",
          "2020-03-03T00:00:00.000000000",
          "2020-03-04T00:00:00.000000000",
          "2020-03-05T00:00:00.000000000",
          "2020-03-06T00:00:00.000000000",
          "2020-03-09T00:00:00.000000000",
          "2020-03-10T00:00:00.000000000",
          "2020-03-11T00:00:00.000000000",
          "2020-03-12T00:00:00.000000000",
          "2020-03-13T00:00:00.000000000",
          "2020-03-16T00:00:00.000000000",
          "2020-03-17T00:00:00.000000000",
          "2020-03-18T00:00:00.000000000",
          "2020-03-19T00:00:00.000000000",
          "2020-03-20T00:00:00.000000000",
          "2020-03-23T00:00:00.000000000",
          "2020-03-24T00:00:00.000000000",
          "2020-03-25T00:00:00.000000000",
          "2020-03-26T00:00:00.000000000",
          "2020-03-27T00:00:00.000000000",
          "2020-03-30T00:00:00.000000000",
          "2020-03-31T00:00:00.000000000",
          "2020-04-01T00:00:00.000000000",
          "2020-04-02T00:00:00.000000000",
          "2020-04-03T00:00:00.000000000",
          "2020-04-06T00:00:00.000000000",
          "2020-04-07T00:00:00.000000000",
          "2020-04-08T00:00:00.000000000",
          "2020-04-09T00:00:00.000000000",
          "2020-04-13T00:00:00.000000000",
          "2020-04-14T00:00:00.000000000",
          "2020-04-15T00:00:00.000000000",
          "2020-04-16T00:00:00.000000000",
          "2020-04-17T00:00:00.000000000",
          "2020-04-20T00:00:00.000000000",
          "2020-04-21T00:00:00.000000000",
          "2020-04-22T00:00:00.000000000",
          "2020-04-23T00:00:00.000000000",
          "2020-04-24T00:00:00.000000000",
          "2020-04-27T00:00:00.000000000",
          "2020-04-28T00:00:00.000000000",
          "2020-04-29T00:00:00.000000000",
          "2020-04-30T00:00:00.000000000",
          "2020-05-01T00:00:00.000000000",
          "2020-05-04T00:00:00.000000000",
          "2020-05-05T00:00:00.000000000",
          "2020-05-06T00:00:00.000000000",
          "2020-05-07T00:00:00.000000000",
          "2020-05-08T00:00:00.000000000",
          "2020-05-11T00:00:00.000000000",
          "2020-05-12T00:00:00.000000000",
          "2020-05-13T00:00:00.000000000",
          "2020-05-14T00:00:00.000000000",
          "2020-05-15T00:00:00.000000000",
          "2020-05-18T00:00:00.000000000",
          "2020-05-19T00:00:00.000000000",
          "2020-05-20T00:00:00.000000000",
          "2020-05-21T00:00:00.000000000",
          "2020-05-22T00:00:00.000000000",
          "2020-05-26T00:00:00.000000000",
          "2020-05-27T00:00:00.000000000",
          "2020-05-28T00:00:00.000000000",
          "2020-05-29T00:00:00.000000000",
          "2020-06-01T00:00:00.000000000",
          "2020-06-02T00:00:00.000000000",
          "2020-06-03T00:00:00.000000000",
          "2020-06-04T00:00:00.000000000",
          "2020-06-05T00:00:00.000000000",
          "2020-06-08T00:00:00.000000000",
          "2020-06-09T00:00:00.000000000",
          "2020-06-10T00:00:00.000000000",
          "2020-06-11T00:00:00.000000000",
          "2020-06-12T00:00:00.000000000",
          "2020-06-15T00:00:00.000000000",
          "2020-06-16T00:00:00.000000000",
          "2020-06-17T00:00:00.000000000",
          "2020-06-18T00:00:00.000000000",
          "2020-06-19T00:00:00.000000000",
          "2020-06-22T00:00:00.000000000",
          "2020-06-23T00:00:00.000000000",
          "2020-06-24T00:00:00.000000000",
          "2020-06-25T00:00:00.000000000",
          "2020-06-26T00:00:00.000000000",
          "2020-06-29T00:00:00.000000000",
          "2020-06-30T00:00:00.000000000",
          "2020-07-01T00:00:00.000000000",
          "2020-07-02T00:00:00.000000000",
          "2020-07-06T00:00:00.000000000",
          "2020-07-07T00:00:00.000000000",
          "2020-07-08T00:00:00.000000000",
          "2020-07-09T00:00:00.000000000",
          "2020-07-10T00:00:00.000000000",
          "2020-07-13T00:00:00.000000000",
          "2020-07-14T00:00:00.000000000",
          "2020-07-15T00:00:00.000000000",
          "2020-07-16T00:00:00.000000000",
          "2020-07-17T00:00:00.000000000",
          "2020-07-20T00:00:00.000000000",
          "2020-07-21T00:00:00.000000000",
          "2020-07-22T00:00:00.000000000",
          "2020-07-23T00:00:00.000000000",
          "2020-07-24T00:00:00.000000000",
          "2020-07-27T00:00:00.000000000",
          "2020-07-28T00:00:00.000000000",
          "2020-07-29T00:00:00.000000000",
          "2020-07-30T00:00:00.000000000",
          "2020-07-31T00:00:00.000000000",
          "2020-08-03T00:00:00.000000000",
          "2020-08-04T00:00:00.000000000",
          "2020-08-05T00:00:00.000000000",
          "2020-08-06T00:00:00.000000000",
          "2020-08-07T00:00:00.000000000",
          "2020-08-10T00:00:00.000000000",
          "2020-08-11T00:00:00.000000000",
          "2020-08-12T00:00:00.000000000",
          "2020-08-13T00:00:00.000000000",
          "2020-08-14T00:00:00.000000000",
          "2020-08-17T00:00:00.000000000",
          "2020-08-18T00:00:00.000000000",
          "2020-08-19T00:00:00.000000000",
          "2020-08-20T00:00:00.000000000",
          "2020-08-21T00:00:00.000000000",
          "2020-08-24T00:00:00.000000000",
          "2020-08-25T00:00:00.000000000",
          "2020-08-26T00:00:00.000000000",
          "2020-08-27T00:00:00.000000000",
          "2020-08-28T00:00:00.000000000",
          "2020-08-31T00:00:00.000000000",
          "2020-09-01T00:00:00.000000000",
          "2020-09-02T00:00:00.000000000",
          "2020-09-03T00:00:00.000000000",
          "2020-09-04T00:00:00.000000000",
          "2020-09-08T00:00:00.000000000",
          "2020-09-09T00:00:00.000000000",
          "2020-09-10T00:00:00.000000000",
          "2020-09-11T00:00:00.000000000",
          "2020-09-14T00:00:00.000000000",
          "2020-09-15T00:00:00.000000000",
          "2020-09-16T00:00:00.000000000",
          "2020-09-17T00:00:00.000000000",
          "2020-09-18T00:00:00.000000000",
          "2020-09-21T00:00:00.000000000",
          "2020-09-22T00:00:00.000000000",
          "2020-09-23T00:00:00.000000000",
          "2020-09-24T00:00:00.000000000",
          "2020-09-25T00:00:00.000000000",
          "2020-09-28T00:00:00.000000000",
          "2020-09-29T00:00:00.000000000",
          "2020-09-30T00:00:00.000000000",
          "2020-10-01T00:00:00.000000000",
          "2020-10-02T00:00:00.000000000",
          "2020-10-05T00:00:00.000000000",
          "2020-10-06T00:00:00.000000000",
          "2020-10-07T00:00:00.000000000",
          "2020-10-08T00:00:00.000000000",
          "2020-10-09T00:00:00.000000000",
          "2020-10-12T00:00:00.000000000",
          "2020-10-13T00:00:00.000000000",
          "2020-10-14T00:00:00.000000000",
          "2020-10-15T00:00:00.000000000",
          "2020-10-16T00:00:00.000000000",
          "2020-10-19T00:00:00.000000000",
          "2020-10-20T00:00:00.000000000",
          "2020-10-21T00:00:00.000000000",
          "2020-10-22T00:00:00.000000000",
          "2020-10-23T00:00:00.000000000",
          "2020-10-26T00:00:00.000000000",
          "2020-10-27T00:00:00.000000000",
          "2020-10-28T00:00:00.000000000",
          "2020-10-29T00:00:00.000000000",
          "2020-10-30T00:00:00.000000000",
          "2020-11-02T00:00:00.000000000",
          "2020-11-03T00:00:00.000000000",
          "2020-11-04T00:00:00.000000000",
          "2020-11-05T00:00:00.000000000",
          "2020-11-06T00:00:00.000000000",
          "2020-11-09T00:00:00.000000000",
          "2020-11-10T00:00:00.000000000",
          "2020-11-11T00:00:00.000000000",
          "2020-11-12T00:00:00.000000000",
          "2020-11-13T00:00:00.000000000",
          "2020-11-16T00:00:00.000000000",
          "2020-11-17T00:00:00.000000000",
          "2020-11-18T00:00:00.000000000",
          "2020-11-19T00:00:00.000000000",
          "2020-11-20T00:00:00.000000000",
          "2020-11-23T00:00:00.000000000",
          "2020-11-24T00:00:00.000000000",
          "2020-11-25T00:00:00.000000000",
          "2020-11-27T00:00:00.000000000",
          "2020-11-30T00:00:00.000000000",
          "2020-12-01T00:00:00.000000000",
          "2020-12-02T00:00:00.000000000",
          "2020-12-03T00:00:00.000000000",
          "2020-12-04T00:00:00.000000000",
          "2020-12-07T00:00:00.000000000",
          "2020-12-08T00:00:00.000000000",
          "2020-12-09T00:00:00.000000000",
          "2020-12-10T00:00:00.000000000",
          "2020-12-11T00:00:00.000000000",
          "2020-12-14T00:00:00.000000000",
          "2020-12-15T00:00:00.000000000",
          "2020-12-16T00:00:00.000000000",
          "2020-12-17T00:00:00.000000000",
          "2020-12-18T00:00:00.000000000",
          "2020-12-21T00:00:00.000000000",
          "2020-12-22T00:00:00.000000000",
          "2020-12-23T00:00:00.000000000",
          "2020-12-24T00:00:00.000000000",
          "2020-12-28T00:00:00.000000000",
          "2020-12-29T00:00:00.000000000",
          "2020-12-30T00:00:00.000000000",
          "2020-12-31T00:00:00.000000000",
          "2021-01-04T00:00:00.000000000",
          "2021-01-05T00:00:00.000000000",
          "2021-01-06T00:00:00.000000000",
          "2021-01-07T00:00:00.000000000",
          "2021-01-08T00:00:00.000000000",
          "2021-01-11T00:00:00.000000000",
          "2021-01-12T00:00:00.000000000",
          "2021-01-13T00:00:00.000000000",
          "2021-01-14T00:00:00.000000000",
          "2021-01-15T00:00:00.000000000",
          "2021-01-19T00:00:00.000000000",
          "2021-01-20T00:00:00.000000000",
          "2021-01-21T00:00:00.000000000",
          "2021-01-22T00:00:00.000000000",
          "2021-01-25T00:00:00.000000000",
          "2021-01-26T00:00:00.000000000",
          "2021-01-27T00:00:00.000000000",
          "2021-01-28T00:00:00.000000000",
          "2021-01-29T00:00:00.000000000",
          "2021-02-01T00:00:00.000000000",
          "2021-02-02T00:00:00.000000000",
          "2021-02-03T00:00:00.000000000",
          "2021-02-04T00:00:00.000000000",
          "2021-02-05T00:00:00.000000000",
          "2021-02-08T00:00:00.000000000",
          "2021-02-09T00:00:00.000000000",
          "2021-02-10T00:00:00.000000000",
          "2021-02-11T00:00:00.000000000",
          "2021-02-12T00:00:00.000000000",
          "2021-02-16T00:00:00.000000000",
          "2021-02-17T00:00:00.000000000",
          "2021-02-18T00:00:00.000000000",
          "2021-02-19T00:00:00.000000000",
          "2021-02-22T00:00:00.000000000",
          "2021-02-23T00:00:00.000000000",
          "2021-02-24T00:00:00.000000000",
          "2021-02-25T00:00:00.000000000",
          "2021-02-26T00:00:00.000000000",
          "2021-03-01T00:00:00.000000000",
          "2021-03-02T00:00:00.000000000",
          "2021-03-03T00:00:00.000000000",
          "2021-03-04T00:00:00.000000000",
          "2021-03-05T00:00:00.000000000",
          "2021-03-08T00:00:00.000000000",
          "2021-03-09T00:00:00.000000000",
          "2021-03-10T00:00:00.000000000",
          "2021-03-11T00:00:00.000000000",
          "2021-03-12T00:00:00.000000000",
          "2021-03-15T00:00:00.000000000",
          "2021-03-16T00:00:00.000000000",
          "2021-03-17T00:00:00.000000000",
          "2021-03-18T00:00:00.000000000",
          "2021-03-19T00:00:00.000000000",
          "2021-03-22T00:00:00.000000000",
          "2021-03-23T00:00:00.000000000",
          "2021-03-24T00:00:00.000000000",
          "2021-03-25T00:00:00.000000000",
          "2021-03-26T00:00:00.000000000",
          "2021-03-29T00:00:00.000000000",
          "2021-03-30T00:00:00.000000000",
          "2021-03-31T00:00:00.000000000",
          "2021-04-01T00:00:00.000000000",
          "2021-04-05T00:00:00.000000000",
          "2021-04-06T00:00:00.000000000",
          "2021-04-07T00:00:00.000000000",
          "2021-04-08T00:00:00.000000000",
          "2021-04-09T00:00:00.000000000",
          "2021-04-12T00:00:00.000000000",
          "2021-04-13T00:00:00.000000000",
          "2021-04-14T00:00:00.000000000",
          "2021-04-15T00:00:00.000000000",
          "2021-04-16T00:00:00.000000000",
          "2021-04-19T00:00:00.000000000",
          "2021-04-20T00:00:00.000000000",
          "2021-04-21T00:00:00.000000000",
          "2021-04-22T00:00:00.000000000",
          "2021-04-23T00:00:00.000000000",
          "2021-04-26T00:00:00.000000000",
          "2021-04-27T00:00:00.000000000",
          "2021-04-28T00:00:00.000000000",
          "2021-04-29T00:00:00.000000000",
          "2021-04-30T00:00:00.000000000",
          "2021-05-03T00:00:00.000000000",
          "2021-05-04T00:00:00.000000000",
          "2021-05-05T00:00:00.000000000",
          "2021-05-06T00:00:00.000000000",
          "2021-05-07T00:00:00.000000000",
          "2021-05-10T00:00:00.000000000",
          "2021-05-11T00:00:00.000000000",
          "2021-05-12T00:00:00.000000000",
          "2021-05-13T00:00:00.000000000",
          "2021-05-14T00:00:00.000000000",
          "2021-05-17T00:00:00.000000000",
          "2021-05-18T00:00:00.000000000",
          "2021-05-19T00:00:00.000000000",
          "2021-05-20T00:00:00.000000000",
          "2021-05-21T00:00:00.000000000",
          "2021-05-24T00:00:00.000000000",
          "2021-05-25T00:00:00.000000000",
          "2021-05-26T00:00:00.000000000",
          "2021-05-27T00:00:00.000000000",
          "2021-05-28T00:00:00.000000000",
          "2021-06-01T00:00:00.000000000",
          "2021-06-02T00:00:00.000000000",
          "2021-06-03T00:00:00.000000000",
          "2021-06-04T00:00:00.000000000",
          "2021-06-07T00:00:00.000000000",
          "2021-06-08T00:00:00.000000000",
          "2021-06-09T00:00:00.000000000",
          "2021-06-10T00:00:00.000000000",
          "2021-06-11T00:00:00.000000000",
          "2021-06-14T00:00:00.000000000",
          "2021-06-15T00:00:00.000000000",
          "2021-06-16T00:00:00.000000000",
          "2021-06-17T00:00:00.000000000",
          "2021-06-18T00:00:00.000000000",
          "2021-06-21T00:00:00.000000000",
          "2021-06-22T00:00:00.000000000",
          "2021-06-23T00:00:00.000000000",
          "2021-06-24T00:00:00.000000000",
          "2021-06-25T00:00:00.000000000",
          "2021-06-28T00:00:00.000000000",
          "2021-06-29T00:00:00.000000000",
          "2021-06-30T00:00:00.000000000",
          "2021-07-01T00:00:00.000000000",
          "2021-07-02T00:00:00.000000000",
          "2021-07-06T00:00:00.000000000",
          "2021-07-07T00:00:00.000000000",
          "2021-07-08T00:00:00.000000000",
          "2021-07-09T00:00:00.000000000",
          "2021-07-12T00:00:00.000000000",
          "2021-07-13T00:00:00.000000000",
          "2021-07-14T00:00:00.000000000",
          "2021-07-15T00:00:00.000000000",
          "2021-07-16T00:00:00.000000000",
          "2021-07-19T00:00:00.000000000",
          "2021-07-20T00:00:00.000000000",
          "2021-07-21T00:00:00.000000000",
          "2021-07-22T00:00:00.000000000",
          "2021-07-23T00:00:00.000000000",
          "2021-07-26T00:00:00.000000000",
          "2021-07-27T00:00:00.000000000",
          "2021-07-28T00:00:00.000000000",
          "2021-07-29T00:00:00.000000000",
          "2021-07-30T00:00:00.000000000",
          "2021-08-02T00:00:00.000000000",
          "2021-08-03T00:00:00.000000000",
          "2021-08-04T00:00:00.000000000",
          "2021-08-05T00:00:00.000000000",
          "2021-08-06T00:00:00.000000000",
          "2021-08-09T00:00:00.000000000",
          "2021-08-10T00:00:00.000000000",
          "2021-08-11T00:00:00.000000000",
          "2021-08-12T00:00:00.000000000",
          "2021-08-13T00:00:00.000000000",
          "2021-08-16T00:00:00.000000000",
          "2021-08-17T00:00:00.000000000",
          "2021-08-18T00:00:00.000000000",
          "2021-08-19T00:00:00.000000000",
          "2021-08-20T00:00:00.000000000",
          "2021-08-23T00:00:00.000000000",
          "2021-08-24T00:00:00.000000000",
          "2021-08-25T00:00:00.000000000",
          "2021-08-26T00:00:00.000000000",
          "2021-08-27T00:00:00.000000000",
          "2021-08-30T00:00:00.000000000",
          "2021-08-31T00:00:00.000000000",
          "2021-09-01T00:00:00.000000000",
          "2021-09-02T00:00:00.000000000",
          "2021-09-03T00:00:00.000000000",
          "2021-09-07T00:00:00.000000000",
          "2021-09-08T00:00:00.000000000",
          "2021-09-09T00:00:00.000000000",
          "2021-09-10T00:00:00.000000000",
          "2021-09-13T00:00:00.000000000",
          "2021-09-14T00:00:00.000000000",
          "2021-09-15T00:00:00.000000000",
          "2021-09-16T00:00:00.000000000",
          "2021-09-17T00:00:00.000000000",
          "2021-09-20T00:00:00.000000000",
          "2021-09-21T00:00:00.000000000",
          "2021-09-22T00:00:00.000000000",
          "2021-09-23T00:00:00.000000000",
          "2021-09-24T00:00:00.000000000",
          "2021-09-27T00:00:00.000000000",
          "2021-09-28T00:00:00.000000000",
          "2021-09-29T00:00:00.000000000",
          "2021-09-30T00:00:00.000000000",
          "2021-10-01T00:00:00.000000000",
          "2021-10-04T00:00:00.000000000",
          "2021-10-05T00:00:00.000000000",
          "2021-10-06T00:00:00.000000000",
          "2021-10-07T00:00:00.000000000",
          "2021-10-08T00:00:00.000000000",
          "2021-10-11T00:00:00.000000000",
          "2021-10-12T00:00:00.000000000",
          "2021-10-13T00:00:00.000000000",
          "2021-10-14T00:00:00.000000000",
          "2021-10-15T00:00:00.000000000",
          "2021-10-18T00:00:00.000000000",
          "2021-10-19T00:00:00.000000000",
          "2021-10-20T00:00:00.000000000",
          "2021-10-21T00:00:00.000000000",
          "2021-10-22T00:00:00.000000000",
          "2021-10-25T00:00:00.000000000",
          "2021-10-26T00:00:00.000000000",
          "2021-10-27T00:00:00.000000000",
          "2021-10-28T00:00:00.000000000",
          "2021-10-29T00:00:00.000000000",
          "2021-11-01T00:00:00.000000000",
          "2021-11-02T00:00:00.000000000",
          "2021-11-03T00:00:00.000000000",
          "2021-11-04T00:00:00.000000000",
          "2021-11-05T00:00:00.000000000",
          "2021-11-08T00:00:00.000000000",
          "2021-11-09T00:00:00.000000000",
          "2021-11-10T00:00:00.000000000",
          "2021-11-11T00:00:00.000000000",
          "2021-11-12T00:00:00.000000000",
          "2021-11-15T00:00:00.000000000",
          "2021-11-16T00:00:00.000000000",
          "2021-11-17T00:00:00.000000000",
          "2021-11-18T00:00:00.000000000",
          "2021-11-19T00:00:00.000000000",
          "2021-11-22T00:00:00.000000000",
          "2021-11-23T00:00:00.000000000",
          "2021-11-24T00:00:00.000000000",
          "2021-11-26T00:00:00.000000000",
          "2021-11-29T00:00:00.000000000",
          "2021-11-30T00:00:00.000000000",
          "2021-12-01T00:00:00.000000000",
          "2021-12-02T00:00:00.000000000",
          "2021-12-03T00:00:00.000000000",
          "2021-12-06T00:00:00.000000000",
          "2021-12-07T00:00:00.000000000",
          "2021-12-08T00:00:00.000000000",
          "2021-12-09T00:00:00.000000000",
          "2021-12-10T00:00:00.000000000",
          "2021-12-13T00:00:00.000000000",
          "2021-12-14T00:00:00.000000000",
          "2021-12-15T00:00:00.000000000",
          "2021-12-16T00:00:00.000000000",
          "2021-12-17T00:00:00.000000000",
          "2021-12-20T00:00:00.000000000",
          "2021-12-21T00:00:00.000000000",
          "2021-12-22T00:00:00.000000000",
          "2021-12-23T00:00:00.000000000",
          "2021-12-27T00:00:00.000000000",
          "2021-12-28T00:00:00.000000000",
          "2021-12-29T00:00:00.000000000",
          "2021-12-30T00:00:00.000000000",
          "2021-12-31T00:00:00.000000000",
          "2022-01-03T00:00:00.000000000",
          "2022-01-04T00:00:00.000000000",
          "2022-01-05T00:00:00.000000000",
          "2022-01-06T00:00:00.000000000",
          "2022-01-07T00:00:00.000000000",
          "2022-01-10T00:00:00.000000000",
          "2022-01-11T00:00:00.000000000",
          "2022-01-12T00:00:00.000000000",
          "2022-01-13T00:00:00.000000000",
          "2022-01-14T00:00:00.000000000",
          "2022-01-18T00:00:00.000000000",
          "2022-01-19T00:00:00.000000000",
          "2022-01-20T00:00:00.000000000",
          "2022-01-21T00:00:00.000000000",
          "2022-01-24T00:00:00.000000000",
          "2022-01-25T00:00:00.000000000",
          "2022-01-26T00:00:00.000000000",
          "2022-01-27T00:00:00.000000000",
          "2022-01-28T00:00:00.000000000",
          "2022-01-31T00:00:00.000000000",
          "2022-02-01T00:00:00.000000000",
          "2022-02-02T00:00:00.000000000",
          "2022-02-03T00:00:00.000000000",
          "2022-02-04T00:00:00.000000000",
          "2022-02-07T00:00:00.000000000",
          "2022-02-08T00:00:00.000000000",
          "2022-02-09T00:00:00.000000000",
          "2022-02-10T00:00:00.000000000",
          "2022-02-11T00:00:00.000000000",
          "2022-02-14T00:00:00.000000000",
          "2022-02-15T00:00:00.000000000",
          "2022-02-16T00:00:00.000000000",
          "2022-02-17T00:00:00.000000000",
          "2022-02-18T00:00:00.000000000",
          "2022-02-22T00:00:00.000000000",
          "2022-02-23T00:00:00.000000000",
          "2022-02-24T00:00:00.000000000",
          "2022-02-25T00:00:00.000000000",
          "2022-02-28T00:00:00.000000000",
          "2022-03-01T00:00:00.000000000",
          "2022-03-02T00:00:00.000000000",
          "2022-03-03T00:00:00.000000000",
          "2022-03-04T00:00:00.000000000",
          "2022-03-07T00:00:00.000000000",
          "2022-03-08T00:00:00.000000000",
          "2022-03-09T00:00:00.000000000",
          "2022-03-10T00:00:00.000000000",
          "2022-03-11T00:00:00.000000000",
          "2022-03-14T00:00:00.000000000",
          "2022-03-15T00:00:00.000000000",
          "2022-03-16T00:00:00.000000000",
          "2022-03-17T00:00:00.000000000",
          "2022-03-18T00:00:00.000000000",
          "2022-03-21T00:00:00.000000000",
          "2022-03-22T00:00:00.000000000",
          "2022-03-23T00:00:00.000000000",
          "2022-03-24T00:00:00.000000000",
          "2022-03-25T00:00:00.000000000",
          "2022-03-28T00:00:00.000000000",
          "2022-03-29T00:00:00.000000000",
          "2022-03-30T00:00:00.000000000",
          "2022-03-31T00:00:00.000000000",
          "2022-04-01T00:00:00.000000000",
          "2022-04-04T00:00:00.000000000",
          "2022-04-05T00:00:00.000000000",
          "2022-04-06T00:00:00.000000000",
          "2022-04-07T00:00:00.000000000",
          "2022-04-08T00:00:00.000000000",
          "2022-04-11T00:00:00.000000000",
          "2022-04-12T00:00:00.000000000",
          "2022-04-13T00:00:00.000000000",
          "2022-04-14T00:00:00.000000000",
          "2022-04-18T00:00:00.000000000",
          "2022-04-19T00:00:00.000000000",
          "2022-04-20T00:00:00.000000000",
          "2022-04-21T00:00:00.000000000",
          "2022-04-22T00:00:00.000000000",
          "2022-04-25T00:00:00.000000000",
          "2022-04-26T00:00:00.000000000",
          "2022-04-27T00:00:00.000000000",
          "2022-04-28T00:00:00.000000000",
          "2022-04-29T00:00:00.000000000",
          "2022-05-02T00:00:00.000000000",
          "2022-05-03T00:00:00.000000000",
          "2022-05-04T00:00:00.000000000",
          "2022-05-05T00:00:00.000000000",
          "2022-05-06T00:00:00.000000000",
          "2022-05-09T00:00:00.000000000",
          "2022-05-10T00:00:00.000000000",
          "2022-05-11T00:00:00.000000000",
          "2022-05-12T00:00:00.000000000",
          "2022-05-13T00:00:00.000000000",
          "2022-05-16T00:00:00.000000000",
          "2022-05-17T00:00:00.000000000",
          "2022-05-18T00:00:00.000000000",
          "2022-05-19T00:00:00.000000000",
          "2022-05-20T00:00:00.000000000",
          "2022-05-23T00:00:00.000000000",
          "2022-05-24T00:00:00.000000000",
          "2022-05-25T00:00:00.000000000",
          "2022-05-26T00:00:00.000000000",
          "2022-05-27T00:00:00.000000000",
          "2022-05-31T00:00:00.000000000",
          "2022-06-01T00:00:00.000000000",
          "2022-06-02T00:00:00.000000000",
          "2022-06-03T00:00:00.000000000",
          "2022-06-06T00:00:00.000000000",
          "2022-06-07T00:00:00.000000000",
          "2022-06-08T00:00:00.000000000",
          "2022-06-09T00:00:00.000000000",
          "2022-06-10T00:00:00.000000000",
          "2022-06-13T00:00:00.000000000",
          "2022-06-14T00:00:00.000000000",
          "2022-06-15T00:00:00.000000000",
          "2022-06-16T00:00:00.000000000",
          "2022-06-17T00:00:00.000000000",
          "2022-06-21T00:00:00.000000000",
          "2022-06-22T00:00:00.000000000",
          "2022-06-23T00:00:00.000000000",
          "2022-06-24T00:00:00.000000000",
          "2022-06-27T00:00:00.000000000",
          "2022-06-28T00:00:00.000000000",
          "2022-06-29T00:00:00.000000000",
          "2022-06-30T00:00:00.000000000",
          "2022-07-01T00:00:00.000000000",
          "2022-07-05T00:00:00.000000000",
          "2022-07-06T00:00:00.000000000",
          "2022-07-07T00:00:00.000000000",
          "2022-07-08T00:00:00.000000000",
          "2022-07-11T00:00:00.000000000",
          "2022-07-12T00:00:00.000000000",
          "2022-07-13T00:00:00.000000000",
          "2022-07-14T00:00:00.000000000",
          "2022-07-15T00:00:00.000000000",
          "2022-07-18T00:00:00.000000000",
          "2022-07-19T00:00:00.000000000",
          "2022-07-20T00:00:00.000000000",
          "2022-07-21T00:00:00.000000000",
          "2022-07-22T00:00:00.000000000",
          "2022-07-25T00:00:00.000000000",
          "2022-07-26T00:00:00.000000000",
          "2022-07-27T00:00:00.000000000",
          "2022-07-28T00:00:00.000000000",
          "2022-07-29T00:00:00.000000000",
          "2022-08-01T00:00:00.000000000",
          "2022-08-02T00:00:00.000000000",
          "2022-08-03T00:00:00.000000000",
          "2022-08-04T00:00:00.000000000",
          "2022-08-05T00:00:00.000000000",
          "2022-08-08T00:00:00.000000000",
          "2022-08-09T00:00:00.000000000",
          "2022-08-10T00:00:00.000000000",
          "2022-08-11T00:00:00.000000000",
          "2022-08-12T00:00:00.000000000",
          "2022-08-15T00:00:00.000000000",
          "2022-08-16T00:00:00.000000000",
          "2022-08-17T00:00:00.000000000",
          "2022-08-18T00:00:00.000000000",
          "2022-08-19T00:00:00.000000000",
          "2022-08-22T00:00:00.000000000",
          "2022-08-23T00:00:00.000000000",
          "2022-08-24T00:00:00.000000000",
          "2022-08-25T00:00:00.000000000",
          "2022-08-26T00:00:00.000000000",
          "2022-08-29T00:00:00.000000000",
          "2022-08-30T00:00:00.000000000",
          "2022-08-31T00:00:00.000000000",
          "2022-09-01T00:00:00.000000000",
          "2022-09-02T00:00:00.000000000",
          "2022-09-06T00:00:00.000000000",
          "2022-09-07T00:00:00.000000000",
          "2022-09-08T00:00:00.000000000",
          "2022-09-09T00:00:00.000000000",
          "2022-09-12T00:00:00.000000000",
          "2022-09-13T00:00:00.000000000",
          "2022-09-14T00:00:00.000000000",
          "2022-09-15T00:00:00.000000000",
          "2022-09-16T00:00:00.000000000",
          "2022-09-19T00:00:00.000000000",
          "2022-09-20T00:00:00.000000000",
          "2022-09-21T00:00:00.000000000",
          "2022-09-22T00:00:00.000000000",
          "2022-09-23T00:00:00.000000000",
          "2022-09-26T00:00:00.000000000",
          "2022-09-27T00:00:00.000000000",
          "2022-09-28T00:00:00.000000000",
          "2022-09-29T00:00:00.000000000",
          "2022-09-30T00:00:00.000000000",
          "2022-10-03T00:00:00.000000000",
          "2022-10-04T00:00:00.000000000",
          "2022-10-05T00:00:00.000000000",
          "2022-10-06T00:00:00.000000000",
          "2022-10-07T00:00:00.000000000",
          "2022-10-10T00:00:00.000000000",
          "2022-10-11T00:00:00.000000000",
          "2022-10-12T00:00:00.000000000",
          "2022-10-13T00:00:00.000000000",
          "2022-10-14T00:00:00.000000000",
          "2022-10-17T00:00:00.000000000",
          "2022-10-18T00:00:00.000000000",
          "2022-10-19T00:00:00.000000000",
          "2022-10-20T00:00:00.000000000",
          "2022-10-21T00:00:00.000000000",
          "2022-10-24T00:00:00.000000000",
          "2022-10-25T00:00:00.000000000",
          "2022-10-26T00:00:00.000000000",
          "2022-10-27T00:00:00.000000000",
          "2022-10-28T00:00:00.000000000",
          "2022-10-31T00:00:00.000000000",
          "2022-11-01T00:00:00.000000000",
          "2022-11-02T00:00:00.000000000",
          "2022-11-03T00:00:00.000000000",
          "2022-11-04T00:00:00.000000000",
          "2022-11-07T00:00:00.000000000",
          "2022-11-08T00:00:00.000000000",
          "2022-11-09T00:00:00.000000000",
          "2022-11-10T00:00:00.000000000",
          "2022-11-11T00:00:00.000000000",
          "2022-11-14T00:00:00.000000000",
          "2022-11-15T00:00:00.000000000",
          "2022-11-16T00:00:00.000000000",
          "2022-11-17T00:00:00.000000000",
          "2022-11-18T00:00:00.000000000",
          "2022-11-21T00:00:00.000000000",
          "2022-11-22T00:00:00.000000000",
          "2022-11-23T00:00:00.000000000",
          "2022-11-25T00:00:00.000000000",
          "2022-11-28T00:00:00.000000000",
          "2022-11-29T00:00:00.000000000",
          "2022-11-30T00:00:00.000000000",
          "2022-12-01T00:00:00.000000000",
          "2022-12-02T00:00:00.000000000",
          "2022-12-05T00:00:00.000000000",
          "2022-12-06T00:00:00.000000000",
          "2022-12-07T00:00:00.000000000",
          "2022-12-08T00:00:00.000000000",
          "2022-12-09T00:00:00.000000000",
          "2022-12-12T00:00:00.000000000",
          "2022-12-13T00:00:00.000000000",
          "2022-12-14T00:00:00.000000000",
          "2022-12-15T00:00:00.000000000",
          "2022-12-16T00:00:00.000000000",
          "2022-12-19T00:00:00.000000000",
          "2022-12-20T00:00:00.000000000",
          "2022-12-21T00:00:00.000000000",
          "2022-12-22T00:00:00.000000000",
          "2022-12-23T00:00:00.000000000",
          "2022-12-27T00:00:00.000000000",
          "2022-12-28T00:00:00.000000000"
         ],
         "xaxis": "x",
         "y": {
          "bdata": "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",
          "dtype": "f8"
         },
         "yaxis": "y"
        },
        {
         "hovertemplate": "variable=Empirical<br>index=%{x}<br>value=%{y}<extra></extra>",
         "legendgroup": "Empirical",
         "line": {
          "color": "#ab63fa",
          "dash": "solid"
         },
         "marker": {
          "symbol": "circle"
         },
         "mode": "lines",
         "name": "Empirical",
         "showlegend": true,
         "type": "scattergl",
         "x": [
          "2020-01-13T00:00:00.000000000",
          "2020-01-14T00:00:00.000000000",
          "2020-01-15T00:00:00.000000000",
          "2020-01-16T00:00:00.000000000",
          "2020-01-17T00:00:00.000000000",
          "2020-01-21T00:00:00.000000000",
          "2020-01-22T00:00:00.000000000",
          "2020-01-23T00:00:00.000000000",
          "2020-01-24T00:00:00.000000000",
          "2020-01-27T00:00:00.000000000",
          "2020-01-28T00:00:00.000000000",
          "2020-01-29T00:00:00.000000000",
          "2020-01-30T00:00:00.000000000",
          "2020-01-31T00:00:00.000000000",
          "2020-02-03T00:00:00.000000000",
          "2020-02-04T00:00:00.000000000",
          "2020-02-05T00:00:00.000000000",
          "2020-02-06T00:00:00.000000000",
          "2020-02-07T00:00:00.000000000",
          "2020-02-10T00:00:00.000000000",
          "2020-02-11T00:00:00.000000000",
          "2020-02-12T00:00:00.000000000",
          "2020-02-13T00:00:00.000000000",
          "2020-02-14T00:00:00.000000000",
          "2020-02-18T00:00:00.000000000",
          "2020-02-19T00:00:00.000000000",
          "2020-02-20T00:00:00.000000000",
          "2020-02-21T00:00:00.000000000",
          "2020-02-24T00:00:00.000000000",
          "2020-02-25T00:00:00.000000000",
          "2020-02-26T00:00:00.000000000",
          "2020-02-27T00:00:00.000000000",
          "2020-02-28T00:00:00.000000000",
          "2020-03-02T00:00:00.000000000",
          "2020-03-03T00:00:00.000000000",
          "2020-03-04T00:00:00.000000000",
          "2020-03-05T00:00:00.000000000",
          "2020-03-06T00:00:00.000000000",
          "2020-03-09T00:00:00.000000000",
          "2020-03-10T00:00:00.000000000",
          "2020-03-11T00:00:00.000000000",
          "2020-03-12T00:00:00.000000000",
          "2020-03-13T00:00:00.000000000",
          "2020-03-16T00:00:00.000000000",
          "2020-03-17T00:00:00.000000000",
          "2020-03-18T00:00:00.000000000",
          "2020-03-19T00:00:00.000000000",
          "2020-03-20T00:00:00.000000000",
          "2020-03-23T00:00:00.000000000",
          "2020-03-24T00:00:00.000000000",
          "2020-03-25T00:00:00.000000000",
          "2020-03-26T00:00:00.000000000",
          "2020-03-27T00:00:00.000000000",
          "2020-03-30T00:00:00.000000000",
          "2020-03-31T00:00:00.000000000",
          "2020-04-01T00:00:00.000000000",
          "2020-04-02T00:00:00.000000000",
          "2020-04-03T00:00:00.000000000",
          "2020-04-06T00:00:00.000000000",
          "2020-04-07T00:00:00.000000000",
          "2020-04-08T00:00:00.000000000",
          "2020-04-09T00:00:00.000000000",
          "2020-04-13T00:00:00.000000000",
          "2020-04-14T00:00:00.000000000",
          "2020-04-15T00:00:00.000000000",
          "2020-04-16T00:00:00.000000000",
          "2020-04-17T00:00:00.000000000",
          "2020-04-20T00:00:00.000000000",
          "2020-04-21T00:00:00.000000000",
          "2020-04-22T00:00:00.000000000",
          "2020-04-23T00:00:00.000000000",
          "2020-04-24T00:00:00.000000000",
          "2020-04-27T00:00:00.000000000",
          "2020-04-28T00:00:00.000000000",
          "2020-04-29T00:00:00.000000000",
          "2020-04-30T00:00:00.000000000",
          "2020-05-01T00:00:00.000000000",
          "2020-05-04T00:00:00.000000000",
          "2020-05-05T00:00:00.000000000",
          "2020-05-06T00:00:00.000000000",
          "2020-05-07T00:00:00.000000000",
          "2020-05-08T00:00:00.000000000",
          "2020-05-11T00:00:00.000000000",
          "2020-05-12T00:00:00.000000000",
          "2020-05-13T00:00:00.000000000",
          "2020-05-14T00:00:00.000000000",
          "2020-05-15T00:00:00.000000000",
          "2020-05-18T00:00:00.000000000",
          "2020-05-19T00:00:00.000000000",
          "2020-05-20T00:00:00.000000000",
          "2020-05-21T00:00:00.000000000",
          "2020-05-22T00:00:00.000000000",
          "2020-05-26T00:00:00.000000000",
          "2020-05-27T00:00:00.000000000",
          "2020-05-28T00:00:00.000000000",
          "2020-05-29T00:00:00.000000000",
          "2020-06-01T00:00:00.000000000",
          "2020-06-02T00:00:00.000000000",
          "2020-06-03T00:00:00.000000000",
          "2020-06-04T00:00:00.000000000",
          "2020-06-05T00:00:00.000000000",
          "2020-06-08T00:00:00.000000000",
          "2020-06-09T00:00:00.000000000",
          "2020-06-10T00:00:00.000000000",
          "2020-06-11T00:00:00.000000000",
          "2020-06-12T00:00:00.000000000",
          "2020-06-15T00:00:00.000000000",
          "2020-06-16T00:00:00.000000000",
          "2020-06-17T00:00:00.000000000",
          "2020-06-18T00:00:00.000000000",
          "2020-06-19T00:00:00.000000000",
          "2020-06-22T00:00:00.000000000",
          "2020-06-23T00:00:00.000000000",
          "2020-06-24T00:00:00.000000000",
          "2020-06-25T00:00:00.000000000",
          "2020-06-26T00:00:00.000000000",
          "2020-06-29T00:00:00.000000000",
          "2020-06-30T00:00:00.000000000",
          "2020-07-01T00:00:00.000000000",
          "2020-07-02T00:00:00.000000000",
          "2020-07-06T00:00:00.000000000",
          "2020-07-07T00:00:00.000000000",
          "2020-07-08T00:00:00.000000000",
          "2020-07-09T00:00:00.000000000",
          "2020-07-10T00:00:00.000000000",
          "2020-07-13T00:00:00.000000000",
          "2020-07-14T00:00:00.000000000",
          "2020-07-15T00:00:00.000000000",
          "2020-07-16T00:00:00.000000000",
          "2020-07-17T00:00:00.000000000",
          "2020-07-20T00:00:00.000000000",
          "2020-07-21T00:00:00.000000000",
          "2020-07-22T00:00:00.000000000",
          "2020-07-23T00:00:00.000000000",
          "2020-07-24T00:00:00.000000000",
          "2020-07-27T00:00:00.000000000",
          "2020-07-28T00:00:00.000000000",
          "2020-07-29T00:00:00.000000000",
          "2020-07-30T00:00:00.000000000",
          "2020-07-31T00:00:00.000000000",
          "2020-08-03T00:00:00.000000000",
          "2020-08-04T00:00:00.000000000",
          "2020-08-05T00:00:00.000000000",
          "2020-08-06T00:00:00.000000000",
          "2020-08-07T00:00:00.000000000",
          "2020-08-10T00:00:00.000000000",
          "2020-08-11T00:00:00.000000000",
          "2020-08-12T00:00:00.000000000",
          "2020-08-13T00:00:00.000000000",
          "2020-08-14T00:00:00.000000000",
          "2020-08-17T00:00:00.000000000",
          "2020-08-18T00:00:00.000000000",
          "2020-08-19T00:00:00.000000000",
          "2020-08-20T00:00:00.000000000",
          "2020-08-21T00:00:00.000000000",
          "2020-08-24T00:00:00.000000000",
          "2020-08-25T00:00:00.000000000",
          "2020-08-26T00:00:00.000000000",
          "2020-08-27T00:00:00.000000000",
          "2020-08-28T00:00:00.000000000",
          "2020-08-31T00:00:00.000000000",
          "2020-09-01T00:00:00.000000000",
          "2020-09-02T00:00:00.000000000",
          "2020-09-03T00:00:00.000000000",
          "2020-09-04T00:00:00.000000000",
          "2020-09-08T00:00:00.000000000",
          "2020-09-09T00:00:00.000000000",
          "2020-09-10T00:00:00.000000000",
          "2020-09-11T00:00:00.000000000",
          "2020-09-14T00:00:00.000000000",
          "2020-09-15T00:00:00.000000000",
          "2020-09-16T00:00:00.000000000",
          "2020-09-17T00:00:00.000000000",
          "2020-09-18T00:00:00.000000000",
          "2020-09-21T00:00:00.000000000",
          "2020-09-22T00:00:00.000000000",
          "2020-09-23T00:00:00.000000000",
          "2020-09-24T00:00:00.000000000",
          "2020-09-25T00:00:00.000000000",
          "2020-09-28T00:00:00.000000000",
          "2020-09-29T00:00:00.000000000",
          "2020-09-30T00:00:00.000000000",
          "2020-10-01T00:00:00.000000000",
          "2020-10-02T00:00:00.000000000",
          "2020-10-05T00:00:00.000000000",
          "2020-10-06T00:00:00.000000000",
          "2020-10-07T00:00:00.000000000",
          "2020-10-08T00:00:00.000000000",
          "2020-10-09T00:00:00.000000000",
          "2020-10-12T00:00:00.000000000",
          "2020-10-13T00:00:00.000000000",
          "2020-10-14T00:00:00.000000000",
          "2020-10-15T00:00:00.000000000",
          "2020-10-16T00:00:00.000000000",
          "2020-10-19T00:00:00.000000000",
          "2020-10-20T00:00:00.000000000",
          "2020-10-21T00:00:00.000000000",
          "2020-10-22T00:00:00.000000000",
          "2020-10-23T00:00:00.000000000",
          "2020-10-26T00:00:00.000000000",
          "2020-10-27T00:00:00.000000000",
          "2020-10-28T00:00:00.000000000",
          "2020-10-29T00:00:00.000000000",
          "2020-10-30T00:00:00.000000000",
          "2020-11-02T00:00:00.000000000",
          "2020-11-03T00:00:00.000000000",
          "2020-11-04T00:00:00.000000000",
          "2020-11-05T00:00:00.000000000",
          "2020-11-06T00:00:00.000000000",
          "2020-11-09T00:00:00.000000000",
          "2020-11-10T00:00:00.000000000",
          "2020-11-11T00:00:00.000000000",
          "2020-11-12T00:00:00.000000000",
          "2020-11-13T00:00:00.000000000",
          "2020-11-16T00:00:00.000000000",
          "2020-11-17T00:00:00.000000000",
          "2020-11-18T00:00:00.000000000",
          "2020-11-19T00:00:00.000000000",
          "2020-11-20T00:00:00.000000000",
          "2020-11-23T00:00:00.000000000",
          "2020-11-24T00:00:00.000000000",
          "2020-11-25T00:00:00.000000000",
          "2020-11-27T00:00:00.000000000",
          "2020-11-30T00:00:00.000000000",
          "2020-12-01T00:00:00.000000000",
          "2020-12-02T00:00:00.000000000",
          "2020-12-03T00:00:00.000000000",
          "2020-12-04T00:00:00.000000000",
          "2020-12-07T00:00:00.000000000",
          "2020-12-08T00:00:00.000000000",
          "2020-12-09T00:00:00.000000000",
          "2020-12-10T00:00:00.000000000",
          "2020-12-11T00:00:00.000000000",
          "2020-12-14T00:00:00.000000000",
          "2020-12-15T00:00:00.000000000",
          "2020-12-16T00:00:00.000000000",
          "2020-12-17T00:00:00.000000000",
          "2020-12-18T00:00:00.000000000",
          "2020-12-21T00:00:00.000000000",
          "2020-12-22T00:00:00.000000000",
          "2020-12-23T00:00:00.000000000",
          "2020-12-24T00:00:00.000000000",
          "2020-12-28T00:00:00.000000000",
          "2020-12-29T00:00:00.000000000",
          "2020-12-30T00:00:00.000000000",
          "2020-12-31T00:00:00.000000000",
          "2021-01-04T00:00:00.000000000",
          "2021-01-05T00:00:00.000000000",
          "2021-01-06T00:00:00.000000000",
          "2021-01-07T00:00:00.000000000",
          "2021-01-08T00:00:00.000000000",
          "2021-01-11T00:00:00.000000000",
          "2021-01-12T00:00:00.000000000",
          "2021-01-13T00:00:00.000000000",
          "2021-01-14T00:00:00.000000000",
          "2021-01-15T00:00:00.000000000",
          "2021-01-19T00:00:00.000000000",
          "2021-01-20T00:00:00.000000000",
          "2021-01-21T00:00:00.000000000",
          "2021-01-22T00:00:00.000000000",
          "2021-01-25T00:00:00.000000000",
          "2021-01-26T00:00:00.000000000",
          "2021-01-27T00:00:00.000000000",
          "2021-01-28T00:00:00.000000000",
          "2021-01-29T00:00:00.000000000",
          "2021-02-01T00:00:00.000000000",
          "2021-02-02T00:00:00.000000000",
          "2021-02-03T00:00:00.000000000",
          "2021-02-04T00:00:00.000000000",
          "2021-02-05T00:00:00.000000000",
          "2021-02-08T00:00:00.000000000",
          "2021-02-09T00:00:00.000000000",
          "2021-02-10T00:00:00.000000000",
          "2021-02-11T00:00:00.000000000",
          "2021-02-12T00:00:00.000000000",
          "2021-02-16T00:00:00.000000000",
          "2021-02-17T00:00:00.000000000",
          "2021-02-18T00:00:00.000000000",
          "2021-02-19T00:00:00.000000000",
          "2021-02-22T00:00:00.000000000",
          "2021-02-23T00:00:00.000000000",
          "2021-02-24T00:00:00.000000000",
          "2021-02-25T00:00:00.000000000",
          "2021-02-26T00:00:00.000000000",
          "2021-03-01T00:00:00.000000000",
          "2021-03-02T00:00:00.000000000",
          "2021-03-03T00:00:00.000000000",
          "2021-03-04T00:00:00.000000000",
          "2021-03-05T00:00:00.000000000",
          "2021-03-08T00:00:00.000000000",
          "2021-03-09T00:00:00.000000000",
          "2021-03-10T00:00:00.000000000",
          "2021-03-11T00:00:00.000000000",
          "2021-03-12T00:00:00.000000000",
          "2021-03-15T00:00:00.000000000",
          "2021-03-16T00:00:00.000000000",
          "2021-03-17T00:00:00.000000000",
          "2021-03-18T00:00:00.000000000",
          "2021-03-19T00:00:00.000000000",
          "2021-03-22T00:00:00.000000000",
          "2021-03-23T00:00:00.000000000",
          "2021-03-24T00:00:00.000000000",
          "2021-03-25T00:00:00.000000000",
          "2021-03-26T00:00:00.000000000",
          "2021-03-29T00:00:00.000000000",
          "2021-03-30T00:00:00.000000000",
          "2021-03-31T00:00:00.000000000",
          "2021-04-01T00:00:00.000000000",
          "2021-04-05T00:00:00.000000000",
          "2021-04-06T00:00:00.000000000",
          "2021-04-07T00:00:00.000000000",
          "2021-04-08T00:00:00.000000000",
          "2021-04-09T00:00:00.000000000",
          "2021-04-12T00:00:00.000000000",
          "2021-04-13T00:00:00.000000000",
          "2021-04-14T00:00:00.000000000",
          "2021-04-15T00:00:00.000000000",
          "2021-04-16T00:00:00.000000000",
          "2021-04-19T00:00:00.000000000",
          "2021-04-20T00:00:00.000000000",
          "2021-04-21T00:00:00.000000000",
          "2021-04-22T00:00:00.000000000",
          "2021-04-23T00:00:00.000000000",
          "2021-04-26T00:00:00.000000000",
          "2021-04-27T00:00:00.000000000",
          "2021-04-28T00:00:00.000000000",
          "2021-04-29T00:00:00.000000000",
          "2021-04-30T00:00:00.000000000",
          "2021-05-03T00:00:00.000000000",
          "2021-05-04T00:00:00.000000000",
          "2021-05-05T00:00:00.000000000",
          "2021-05-06T00:00:00.000000000",
          "2021-05-07T00:00:00.000000000",
          "2021-05-10T00:00:00.000000000",
          "2021-05-11T00:00:00.000000000",
          "2021-05-12T00:00:00.000000000",
          "2021-05-13T00:00:00.000000000",
          "2021-05-14T00:00:00.000000000",
          "2021-05-17T00:00:00.000000000",
          "2021-05-18T00:00:00.000000000",
          "2021-05-19T00:00:00.000000000",
          "2021-05-20T00:00:00.000000000",
          "2021-05-21T00:00:00.000000000",
          "2021-05-24T00:00:00.000000000",
          "2021-05-25T00:00:00.000000000",
          "2021-05-26T00:00:00.000000000",
          "2021-05-27T00:00:00.000000000",
          "2021-05-28T00:00:00.000000000",
          "2021-06-01T00:00:00.000000000",
          "2021-06-02T00:00:00.000000000",
          "2021-06-03T00:00:00.000000000",
          "2021-06-04T00:00:00.000000000",
          "2021-06-07T00:00:00.000000000",
          "2021-06-08T00:00:00.000000000",
          "2021-06-09T00:00:00.000000000",
          "2021-06-10T00:00:00.000000000",
          "2021-06-11T00:00:00.000000000",
          "2021-06-14T00:00:00.000000000",
          "2021-06-15T00:00:00.000000000",
          "2021-06-16T00:00:00.000000000",
          "2021-06-17T00:00:00.000000000",
          "2021-06-18T00:00:00.000000000",
          "2021-06-21T00:00:00.000000000",
          "2021-06-22T00:00:00.000000000",
          "2021-06-23T00:00:00.000000000",
          "2021-06-24T00:00:00.000000000",
          "2021-06-25T00:00:00.000000000",
          "2021-06-28T00:00:00.000000000",
          "2021-06-29T00:00:00.000000000",
          "2021-06-30T00:00:00.000000000",
          "2021-07-01T00:00:00.000000000",
          "2021-07-02T00:00:00.000000000",
          "2021-07-06T00:00:00.000000000",
          "2021-07-07T00:00:00.000000000",
          "2021-07-08T00:00:00.000000000",
          "2021-07-09T00:00:00.000000000",
          "2021-07-12T00:00:00.000000000",
          "2021-07-13T00:00:00.000000000",
          "2021-07-14T00:00:00.000000000",
          "2021-07-15T00:00:00.000000000",
          "2021-07-16T00:00:00.000000000",
          "2021-07-19T00:00:00.000000000",
          "2021-07-20T00:00:00.000000000",
          "2021-07-21T00:00:00.000000000",
          "2021-07-22T00:00:00.000000000",
          "2021-07-23T00:00:00.000000000",
          "2021-07-26T00:00:00.000000000",
          "2021-07-27T00:00:00.000000000",
          "2021-07-28T00:00:00.000000000",
          "2021-07-29T00:00:00.000000000",
          "2021-07-30T00:00:00.000000000",
          "2021-08-02T00:00:00.000000000",
          "2021-08-03T00:00:00.000000000",
          "2021-08-04T00:00:00.000000000",
          "2021-08-05T00:00:00.000000000",
          "2021-08-06T00:00:00.000000000",
          "2021-08-09T00:00:00.000000000",
          "2021-08-10T00:00:00.000000000",
          "2021-08-11T00:00:00.000000000",
          "2021-08-12T00:00:00.000000000",
          "2021-08-13T00:00:00.000000000",
          "2021-08-16T00:00:00.000000000",
          "2021-08-17T00:00:00.000000000",
          "2021-08-18T00:00:00.000000000",
          "2021-08-19T00:00:00.000000000",
          "2021-08-20T00:00:00.000000000",
          "2021-08-23T00:00:00.000000000",
          "2021-08-24T00:00:00.000000000",
          "2021-08-25T00:00:00.000000000",
          "2021-08-26T00:00:00.000000000",
          "2021-08-27T00:00:00.000000000",
          "2021-08-30T00:00:00.000000000",
          "2021-08-31T00:00:00.000000000",
          "2021-09-01T00:00:00.000000000",
          "2021-09-02T00:00:00.000000000",
          "2021-09-03T00:00:00.000000000",
          "2021-09-07T00:00:00.000000000",
          "2021-09-08T00:00:00.000000000",
          "2021-09-09T00:00:00.000000000",
          "2021-09-10T00:00:00.000000000",
          "2021-09-13T00:00:00.000000000",
          "2021-09-14T00:00:00.000000000",
          "2021-09-15T00:00:00.000000000",
          "2021-09-16T00:00:00.000000000",
          "2021-09-17T00:00:00.000000000",
          "2021-09-20T00:00:00.000000000",
          "2021-09-21T00:00:00.000000000",
          "2021-09-22T00:00:00.000000000",
          "2021-09-23T00:00:00.000000000",
          "2021-09-24T00:00:00.000000000",
          "2021-09-27T00:00:00.000000000",
          "2021-09-28T00:00:00.000000000",
          "2021-09-29T00:00:00.000000000",
          "2021-09-30T00:00:00.000000000",
          "2021-10-01T00:00:00.000000000",
          "2021-10-04T00:00:00.000000000",
          "2021-10-05T00:00:00.000000000",
          "2021-10-06T00:00:00.000000000",
          "2021-10-07T00:00:00.000000000",
          "2021-10-08T00:00:00.000000000",
          "2021-10-11T00:00:00.000000000",
          "2021-10-12T00:00:00.000000000",
          "2021-10-13T00:00:00.000000000",
          "2021-10-14T00:00:00.000000000",
          "2021-10-15T00:00:00.000000000",
          "2021-10-18T00:00:00.000000000",
          "2021-10-19T00:00:00.000000000",
          "2021-10-20T00:00:00.000000000",
          "2021-10-21T00:00:00.000000000",
          "2021-10-22T00:00:00.000000000",
          "2021-10-25T00:00:00.000000000",
          "2021-10-26T00:00:00.000000000",
          "2021-10-27T00:00:00.000000000",
          "2021-10-28T00:00:00.000000000",
          "2021-10-29T00:00:00.000000000",
          "2021-11-01T00:00:00.000000000",
          "2021-11-02T00:00:00.000000000",
          "2021-11-03T00:00:00.000000000",
          "2021-11-04T00:00:00.000000000",
          "2021-11-05T00:00:00.000000000",
          "2021-11-08T00:00:00.000000000",
          "2021-11-09T00:00:00.000000000",
          "2021-11-10T00:00:00.000000000",
          "2021-11-11T00:00:00.000000000",
          "2021-11-12T00:00:00.000000000",
          "2021-11-15T00:00:00.000000000",
          "2021-11-16T00:00:00.000000000",
          "2021-11-17T00:00:00.000000000",
          "2021-11-18T00:00:00.000000000",
          "2021-11-19T00:00:00.000000000",
          "2021-11-22T00:00:00.000000000",
          "2021-11-23T00:00:00.000000000",
          "2021-11-24T00:00:00.000000000",
          "2021-11-26T00:00:00.000000000",
          "2021-11-29T00:00:00.000000000",
          "2021-11-30T00:00:00.000000000",
          "2021-12-01T00:00:00.000000000",
          "2021-12-02T00:00:00.000000000",
          "2021-12-03T00:00:00.000000000",
          "2021-12-06T00:00:00.000000000",
          "2021-12-07T00:00:00.000000000",
          "2021-12-08T00:00:00.000000000",
          "2021-12-09T00:00:00.000000000",
          "2021-12-10T00:00:00.000000000",
          "2021-12-13T00:00:00.000000000",
          "2021-12-14T00:00:00.000000000",
          "2021-12-15T00:00:00.000000000",
          "2021-12-16T00:00:00.000000000",
          "2021-12-17T00:00:00.000000000",
          "2021-12-20T00:00:00.000000000",
          "2021-12-21T00:00:00.000000000",
          "2021-12-22T00:00:00.000000000",
          "2021-12-23T00:00:00.000000000",
          "2021-12-27T00:00:00.000000000",
          "2021-12-28T00:00:00.000000000",
          "2021-12-29T00:00:00.000000000",
          "2021-12-30T00:00:00.000000000",
          "2021-12-31T00:00:00.000000000",
          "2022-01-03T00:00:00.000000000",
          "2022-01-04T00:00:00.000000000",
          "2022-01-05T00:00:00.000000000",
          "2022-01-06T00:00:00.000000000",
          "2022-01-07T00:00:00.000000000",
          "2022-01-10T00:00:00.000000000",
          "2022-01-11T00:00:00.000000000",
          "2022-01-12T00:00:00.000000000",
          "2022-01-13T00:00:00.000000000",
          "2022-01-14T00:00:00.000000000",
          "2022-01-18T00:00:00.000000000",
          "2022-01-19T00:00:00.000000000",
          "2022-01-20T00:00:00.000000000",
          "2022-01-21T00:00:00.000000000",
          "2022-01-24T00:00:00.000000000",
          "2022-01-25T00:00:00.000000000",
          "2022-01-26T00:00:00.000000000",
          "2022-01-27T00:00:00.000000000",
          "2022-01-28T00:00:00.000000000",
          "2022-01-31T00:00:00.000000000",
          "2022-02-01T00:00:00.000000000",
          "2022-02-02T00:00:00.000000000",
          "2022-02-03T00:00:00.000000000",
          "2022-02-04T00:00:00.000000000",
          "2022-02-07T00:00:00.000000000",
          "2022-02-08T00:00:00.000000000",
          "2022-02-09T00:00:00.000000000",
          "2022-02-10T00:00:00.000000000",
          "2022-02-11T00:00:00.000000000",
          "2022-02-14T00:00:00.000000000",
          "2022-02-15T00:00:00.000000000",
          "2022-02-16T00:00:00.000000000",
          "2022-02-17T00:00:00.000000000",
          "2022-02-18T00:00:00.000000000",
          "2022-02-22T00:00:00.000000000",
          "2022-02-23T00:00:00.000000000",
          "2022-02-24T00:00:00.000000000",
          "2022-02-25T00:00:00.000000000",
          "2022-02-28T00:00:00.000000000",
          "2022-03-01T00:00:00.000000000",
          "2022-03-02T00:00:00.000000000",
          "2022-03-03T00:00:00.000000000",
          "2022-03-04T00:00:00.000000000",
          "2022-03-07T00:00:00.000000000",
          "2022-03-08T00:00:00.000000000",
          "2022-03-09T00:00:00.000000000",
          "2022-03-10T00:00:00.000000000",
          "2022-03-11T00:00:00.000000000",
          "2022-03-14T00:00:00.000000000",
          "2022-03-15T00:00:00.000000000",
          "2022-03-16T00:00:00.000000000",
          "2022-03-17T00:00:00.000000000",
          "2022-03-18T00:00:00.000000000",
          "2022-03-21T00:00:00.000000000",
          "2022-03-22T00:00:00.000000000",
          "2022-03-23T00:00:00.000000000",
          "2022-03-24T00:00:00.000000000",
          "2022-03-25T00:00:00.000000000",
          "2022-03-28T00:00:00.000000000",
          "2022-03-29T00:00:00.000000000",
          "2022-03-30T00:00:00.000000000",
          "2022-03-31T00:00:00.000000000",
          "2022-04-01T00:00:00.000000000",
          "2022-04-04T00:00:00.000000000",
          "2022-04-05T00:00:00.000000000",
          "2022-04-06T00:00:00.000000000",
          "2022-04-07T00:00:00.000000000",
          "2022-04-08T00:00:00.000000000",
          "2022-04-11T00:00:00.000000000",
          "2022-04-12T00:00:00.000000000",
          "2022-04-13T00:00:00.000000000",
          "2022-04-14T00:00:00.000000000",
          "2022-04-18T00:00:00.000000000",
          "2022-04-19T00:00:00.000000000",
          "2022-04-20T00:00:00.000000000",
          "2022-04-21T00:00:00.000000000",
          "2022-04-22T00:00:00.000000000",
          "2022-04-25T00:00:00.000000000",
          "2022-04-26T00:00:00.000000000",
          "2022-04-27T00:00:00.000000000",
          "2022-04-28T00:00:00.000000000",
          "2022-04-29T00:00:00.000000000",
          "2022-05-02T00:00:00.000000000",
          "2022-05-03T00:00:00.000000000",
          "2022-05-04T00:00:00.000000000",
          "2022-05-05T00:00:00.000000000",
          "2022-05-06T00:00:00.000000000",
          "2022-05-09T00:00:00.000000000",
          "2022-05-10T00:00:00.000000000",
          "2022-05-11T00:00:00.000000000",
          "2022-05-12T00:00:00.000000000",
          "2022-05-13T00:00:00.000000000",
          "2022-05-16T00:00:00.000000000",
          "2022-05-17T00:00:00.000000000",
          "2022-05-18T00:00:00.000000000",
          "2022-05-19T00:00:00.000000000",
          "2022-05-20T00:00:00.000000000",
          "2022-05-23T00:00:00.000000000",
          "2022-05-24T00:00:00.000000000",
          "2022-05-25T00:00:00.000000000",
          "2022-05-26T00:00:00.000000000",
          "2022-05-27T00:00:00.000000000",
          "2022-05-31T00:00:00.000000000",
          "2022-06-01T00:00:00.000000000",
          "2022-06-02T00:00:00.000000000",
          "2022-06-03T00:00:00.000000000",
          "2022-06-06T00:00:00.000000000",
          "2022-06-07T00:00:00.000000000",
          "2022-06-08T00:00:00.000000000",
          "2022-06-09T00:00:00.000000000",
          "2022-06-10T00:00:00.000000000",
          "2022-06-13T00:00:00.000000000",
          "2022-06-14T00:00:00.000000000",
          "2022-06-15T00:00:00.000000000",
          "2022-06-16T00:00:00.000000000",
          "2022-06-17T00:00:00.000000000",
          "2022-06-21T00:00:00.000000000",
          "2022-06-22T00:00:00.000000000",
          "2022-06-23T00:00:00.000000000",
          "2022-06-24T00:00:00.000000000",
          "2022-06-27T00:00:00.000000000",
          "2022-06-28T00:00:00.000000000",
          "2022-06-29T00:00:00.000000000",
          "2022-06-30T00:00:00.000000000",
          "2022-07-01T00:00:00.000000000",
          "2022-07-05T00:00:00.000000000",
          "2022-07-06T00:00:00.000000000",
          "2022-07-07T00:00:00.000000000",
          "2022-07-08T00:00:00.000000000",
          "2022-07-11T00:00:00.000000000",
          "2022-07-12T00:00:00.000000000",
          "2022-07-13T00:00:00.000000000",
          "2022-07-14T00:00:00.000000000",
          "2022-07-15T00:00:00.000000000",
          "2022-07-18T00:00:00.000000000",
          "2022-07-19T00:00:00.000000000",
          "2022-07-20T00:00:00.000000000",
          "2022-07-21T00:00:00.000000000",
          "2022-07-22T00:00:00.000000000",
          "2022-07-25T00:00:00.000000000",
          "2022-07-26T00:00:00.000000000",
          "2022-07-27T00:00:00.000000000",
          "2022-07-28T00:00:00.000000000",
          "2022-07-29T00:00:00.000000000",
          "2022-08-01T00:00:00.000000000",
          "2022-08-02T00:00:00.000000000",
          "2022-08-03T00:00:00.000000000",
          "2022-08-04T00:00:00.000000000",
          "2022-08-05T00:00:00.000000000",
          "2022-08-08T00:00:00.000000000",
          "2022-08-09T00:00:00.000000000",
          "2022-08-10T00:00:00.000000000",
          "2022-08-11T00:00:00.000000000",
          "2022-08-12T00:00:00.000000000",
          "2022-08-15T00:00:00.000000000",
          "2022-08-16T00:00:00.000000000",
          "2022-08-17T00:00:00.000000000",
          "2022-08-18T00:00:00.000000000",
          "2022-08-19T00:00:00.000000000",
          "2022-08-22T00:00:00.000000000",
          "2022-08-23T00:00:00.000000000",
          "2022-08-24T00:00:00.000000000",
          "2022-08-25T00:00:00.000000000",
          "2022-08-26T00:00:00.000000000",
          "2022-08-29T00:00:00.000000000",
          "2022-08-30T00:00:00.000000000",
          "2022-08-31T00:00:00.000000000",
          "2022-09-01T00:00:00.000000000",
          "2022-09-02T00:00:00.000000000",
          "2022-09-06T00:00:00.000000000",
          "2022-09-07T00:00:00.000000000",
          "2022-09-08T00:00:00.000000000",
          "2022-09-09T00:00:00.000000000",
          "2022-09-12T00:00:00.000000000",
          "2022-09-13T00:00:00.000000000",
          "2022-09-14T00:00:00.000000000",
          "2022-09-15T00:00:00.000000000",
          "2022-09-16T00:00:00.000000000",
          "2022-09-19T00:00:00.000000000",
          "2022-09-20T00:00:00.000000000",
          "2022-09-21T00:00:00.000000000",
          "2022-09-22T00:00:00.000000000",
          "2022-09-23T00:00:00.000000000",
          "2022-09-26T00:00:00.000000000",
          "2022-09-27T00:00:00.000000000",
          "2022-09-28T00:00:00.000000000",
          "2022-09-29T00:00:00.000000000",
          "2022-09-30T00:00:00.000000000",
          "2022-10-03T00:00:00.000000000",
          "2022-10-04T00:00:00.000000000",
          "2022-10-05T00:00:00.000000000",
          "2022-10-06T00:00:00.000000000",
          "2022-10-07T00:00:00.000000000",
          "2022-10-10T00:00:00.000000000",
          "2022-10-11T00:00:00.000000000",
          "2022-10-12T00:00:00.000000000",
          "2022-10-13T00:00:00.000000000",
          "2022-10-14T00:00:00.000000000",
          "2022-10-17T00:00:00.000000000",
          "2022-10-18T00:00:00.000000000",
          "2022-10-19T00:00:00.000000000",
          "2022-10-20T00:00:00.000000000",
          "2022-10-21T00:00:00.000000000",
          "2022-10-24T00:00:00.000000000",
          "2022-10-25T00:00:00.000000000",
          "2022-10-26T00:00:00.000000000",
          "2022-10-27T00:00:00.000000000",
          "2022-10-28T00:00:00.000000000",
          "2022-10-31T00:00:00.000000000",
          "2022-11-01T00:00:00.000000000",
          "2022-11-02T00:00:00.000000000",
          "2022-11-03T00:00:00.000000000",
          "2022-11-04T00:00:00.000000000",
          "2022-11-07T00:00:00.000000000",
          "2022-11-08T00:00:00.000000000",
          "2022-11-09T00:00:00.000000000",
          "2022-11-10T00:00:00.000000000",
          "2022-11-11T00:00:00.000000000",
          "2022-11-14T00:00:00.000000000",
          "2022-11-15T00:00:00.000000000",
          "2022-11-16T00:00:00.000000000",
          "2022-11-17T00:00:00.000000000",
          "2022-11-18T00:00:00.000000000",
          "2022-11-21T00:00:00.000000000",
          "2022-11-22T00:00:00.000000000",
          "2022-11-23T00:00:00.000000000",
          "2022-11-25T00:00:00.000000000",
          "2022-11-28T00:00:00.000000000",
          "2022-11-29T00:00:00.000000000",
          "2022-11-30T00:00:00.000000000",
          "2022-12-01T00:00:00.000000000",
          "2022-12-02T00:00:00.000000000",
          "2022-12-05T00:00:00.000000000",
          "2022-12-06T00:00:00.000000000",
          "2022-12-07T00:00:00.000000000",
          "2022-12-08T00:00:00.000000000",
          "2022-12-09T00:00:00.000000000",
          "2022-12-12T00:00:00.000000000",
          "2022-12-13T00:00:00.000000000",
          "2022-12-14T00:00:00.000000000",
          "2022-12-15T00:00:00.000000000",
          "2022-12-16T00:00:00.000000000",
          "2022-12-19T00:00:00.000000000",
          "2022-12-20T00:00:00.000000000",
          "2022-12-21T00:00:00.000000000",
          "2022-12-22T00:00:00.000000000",
          "2022-12-23T00:00:00.000000000",
          "2022-12-27T00:00:00.000000000",
          "2022-12-28T00:00:00.000000000"
         ],
         "xaxis": "x",
         "y": {
          "bdata": "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",
          "dtype": "f8"
         },
         "yaxis": "y"
        }
       ],
       "layout": {
        "legend": {
         "title": {
          "text": "Portfolios"
         },
         "tracegroupgap": 0
        },
        "margin": {
         "t": 60
        },
        "template": {
         "data": {
          "bar": [
           {
            "error_x": {
             "color": "#2a3f5f"
            },
            "error_y": {
             "color": "#2a3f5f"
            },
            "marker": {
             "line": {
              "color": "#E5ECF6",
              "width": 0.5
             },
             "pattern": {
              "fillmode": "overlay",
              "size": 10,
              "solidity": 0.2
             }
            },
            "type": "bar"
           }
          ],
          "barpolar": [
           {
            "marker": {
             "line": {
              "color": "#E5ECF6",
              "width": 0.5
             },
             "pattern": {
              "fillmode": "overlay",
              "size": 10,
              "solidity": 0.2
             }
            },
            "type": "barpolar"
           }
          ],
          "carpet": [
           {
            "aaxis": {
             "endlinecolor": "#2a3f5f",
             "gridcolor": "white",
             "linecolor": "white",
             "minorgridcolor": "white",
             "startlinecolor": "#2a3f5f"
            },
            "baxis": {
             "endlinecolor": "#2a3f5f",
             "gridcolor": "white",
             "linecolor": "white",
             "minorgridcolor": "white",
             "startlinecolor": "#2a3f5f"
            },
            "type": "carpet"
           }
          ],
          "choropleth": [
           {
            "colorbar": {
             "outlinewidth": 0,
             "ticks": ""
            },
            "type": "choropleth"
           }
          ],
          "contour": [
           {
            "colorbar": {
             "outlinewidth": 0,
             "ticks": ""
            },
            "colorscale": [
             [
              0,
              "#0d0887"
             ],
             [
              0.1111111111111111,
              "#46039f"
             ],
             [
              0.2222222222222222,
              "#7201a8"
             ],
             [
              0.3333333333333333,
              "#9c179e"
             ],
             [
              0.4444444444444444,
              "#bd3786"
             ],
             [
              0.5555555555555556,
              "#d8576b"
             ],
             [
              0.6666666666666666,
              "#ed7953"
             ],
             [
              0.7777777777777778,
              "#fb9f3a"
             ],
             [
              0.8888888888888888,
              "#fdca26"
             ],
             [
              1,
              "#f0f921"
             ]
            ],
            "type": "contour"
           }
          ],
          "contourcarpet": [
           {
            "colorbar": {
             "outlinewidth": 0,
             "ticks": ""
            },
            "type": "contourcarpet"
           }
          ],
          "heatmap": [
           {
            "colorbar": {
             "outlinewidth": 0,
             "ticks": ""
            },
            "colorscale": [
             [
              0,
              "#0d0887"
             ],
             [
              0.1111111111111111,
              "#46039f"
             ],
             [
              0.2222222222222222,
              "#7201a8"
             ],
             [
              0.3333333333333333,
              "#9c179e"
             ],
             [
              0.4444444444444444,
              "#bd3786"
             ],
             [
              0.5555555555555556,
              "#d8576b"
             ],
             [
              0.6666666666666666,
              "#ed7953"
             ],
             [
              0.7777777777777778,
              "#fb9f3a"
             ],
             [
              0.8888888888888888,
              "#fdca26"
             ],
             [
              1,
              "#f0f921"
             ]
            ],
            "type": "heatmap"
           }
          ],
          "histogram": [
           {
            "marker": {
             "pattern": {
              "fillmode": "overlay",
              "size": 10,
              "solidity": 0.2
             }
            },
            "type": "histogram"
           }
          ],
          "histogram2d": [
           {
            "colorbar": {
             "outlinewidth": 0,
             "ticks": ""
            },
            "colorscale": [
             [
              0,
              "#0d0887"
             ],
             [
              0.1111111111111111,
              "#46039f"
             ],
             [
              0.2222222222222222,
              "#7201a8"
             ],
             [
              0.3333333333333333,
              "#9c179e"
             ],
             [
              0.4444444444444444,
              "#bd3786"
             ],
             [
              0.5555555555555556,
              "#d8576b"
             ],
             [
              0.6666666666666666,
              "#ed7953"
             ],
             [
              0.7777777777777778,
              "#fb9f3a"
             ],
             [
              0.8888888888888888,
              "#fdca26"
             ],
             [
              1,
              "#f0f921"
             ]
            ],
            "type": "histogram2d"
           }
          ],
          "histogram2dcontour": [
           {
            "colorbar": {
             "outlinewidth": 0,
             "ticks": ""
            },
            "colorscale": [
             [
              0,
              "#0d0887"
             ],
             [
              0.1111111111111111,
              "#46039f"
             ],
             [
              0.2222222222222222,
              "#7201a8"
             ],
             [
              0.3333333333333333,
              "#9c179e"
             ],
             [
              0.4444444444444444,
              "#bd3786"
             ],
             [
              0.5555555555555556,
              "#d8576b"
             ],
             [
              0.6666666666666666,
              "#ed7953"
             ],
             [
              0.7777777777777778,
              "#fb9f3a"
             ],
             [
              0.8888888888888888,
              "#fdca26"
             ],
             [
              1,
              "#f0f921"
             ]
            ],
            "type": "histogram2dcontour"
           }
          ],
          "mesh3d": [
           {
            "colorbar": {
             "outlinewidth": 0,
             "ticks": ""
            },
            "type": "mesh3d"
           }
          ],
          "parcoords": [
           {
            "line": {
             "colorbar": {
              "outlinewidth": 0,
              "ticks": ""
             }
            },
            "type": "parcoords"
           }
          ],
          "pie": [
           {
            "automargin": true,
            "type": "pie"
           }
          ],
          "scatter": [
           {
            "fillpattern": {
             "fillmode": "overlay",
             "size": 10,
             "solidity": 0.2
            },
            "type": "scatter"
           }
          ],
          "scatter3d": [
           {
            "line": {
             "colorbar": {
              "outlinewidth": 0,
              "ticks": ""
             }
            },
            "marker": {
             "colorbar": {
              "outlinewidth": 0,
              "ticks": ""
             }
            },
            "type": "scatter3d"
           }
          ],
          "scattercarpet": [
           {
            "marker": {
             "colorbar": {
              "outlinewidth": 0,
              "ticks": ""
             }
            },
            "type": "scattercarpet"
           }
          ],
          "scattergeo": [
           {
            "marker": {
             "colorbar": {
              "outlinewidth": 0,
              "ticks": ""
             }
            },
            "type": "scattergeo"
           }
          ],
          "scattergl": [
           {
            "marker": {
             "colorbar": {
              "outlinewidth": 0,
              "ticks": ""
             }
            },
            "type": "scattergl"
           }
          ],
          "scattermap": [
           {
            "marker": {
             "colorbar": {
              "outlinewidth": 0,
              "ticks": ""
             }
            },
            "type": "scattermap"
           }
          ],
          "scattermapbox": [
           {
            "marker": {
             "colorbar": {
              "outlinewidth": 0,
              "ticks": ""
             }
            },
            "type": "scattermapbox"
           }
          ],
          "scatterpolar": [
           {
            "marker": {
             "colorbar": {
              "outlinewidth": 0,
              "ticks": ""
             }
            },
            "type": "scatterpolar"
           }
          ],
          "scatterpolargl": [
           {
            "marker": {
             "colorbar": {
              "outlinewidth": 0,
              "ticks": ""
             }
            },
            "type": "scatterpolargl"
           }
          ],
          "scatterternary": [
           {
            "marker": {
             "colorbar": {
              "outlinewidth": 0,
              "ticks": ""
             }
            },
            "type": "scatterternary"
           }
          ],
          "surface": [
           {
            "colorbar": {
             "outlinewidth": 0,
             "ticks": ""
            },
            "colorscale": [
             [
              0,
              "#0d0887"
             ],
             [
              0.1111111111111111,
              "#46039f"
             ],
             [
              0.2222222222222222,
              "#7201a8"
             ],
             [
              0.3333333333333333,
              "#9c179e"
             ],
             [
              0.4444444444444444,
              "#bd3786"
             ],
             [
              0.5555555555555556,
              "#d8576b"
             ],
             [
              0.6666666666666666,
              "#ed7953"
             ],
             [
              0.7777777777777778,
              "#fb9f3a"
             ],
             [
              0.8888888888888888,
              "#fdca26"
             ],
             [
              1,
              "#f0f921"
             ]
            ],
            "type": "surface"
           }
          ],
          "table": [
           {
            "cells": {
             "fill": {
              "color": "#EBF0F8"
             },
             "line": {
              "color": "white"
             }
            },
            "header": {
             "fill": {
              "color": "#C8D4E3"
             },
             "line": {
              "color": "white"
             }
            },
            "type": "table"
           }
          ]
         },
         "layout": {
          "annotationdefaults": {
           "arrowcolor": "#2a3f5f",
           "arrowhead": 0,
           "arrowwidth": 1
          },
          "autotypenumbers": "strict",
          "coloraxis": {
           "colorbar": {
            "outlinewidth": 0,
            "ticks": ""
           }
          },
          "colorscale": {
           "diverging": [
            [
             0,
             "#8e0152"
            ],
            [
             0.1,
             "#c51b7d"
            ],
            [
             0.2,
             "#de77ae"
            ],
            [
             0.3,
             "#f1b6da"
            ],
            [
             0.4,
             "#fde0ef"
            ],
            [
             0.5,
             "#f7f7f7"
            ],
            [
             0.6,
             "#e6f5d0"
            ],
            [
             0.7,
             "#b8e186"
            ],
            [
             0.8,
             "#7fbc41"
            ],
            [
             0.9,
             "#4d9221"
            ],
            [
             1,
             "#276419"
            ]
           ],
           "sequential": [
            [
             0,
             "#0d0887"
            ],
            [
             0.1111111111111111,
             "#46039f"
            ],
            [
             0.2222222222222222,
             "#7201a8"
            ],
            [
             0.3333333333333333,
             "#9c179e"
            ],
            [
             0.4444444444444444,
             "#bd3786"
            ],
            [
             0.5555555555555556,
             "#d8576b"
            ],
            [
             0.6666666666666666,
             "#ed7953"
            ],
            [
             0.7777777777777778,
             "#fb9f3a"
            ],
            [
             0.8888888888888888,
             "#fdca26"
            ],
            [
             1,
             "#f0f921"
            ]
           ],
           "sequentialminus": [
            [
             0,
             "#0d0887"
            ],
            [
             0.1111111111111111,
             "#46039f"
            ],
            [
             0.2222222222222222,
             "#7201a8"
            ],
            [
             0.3333333333333333,
             "#9c179e"
            ],
            [
             0.4444444444444444,
             "#bd3786"
            ],
            [
             0.5555555555555556,
             "#d8576b"
            ],
            [
             0.6666666666666666,
             "#ed7953"
            ],
            [
             0.7777777777777778,
             "#fb9f3a"
            ],
            [
             0.8888888888888888,
             "#fdca26"
            ],
            [
             1,
             "#f0f921"
            ]
           ]
          },
          "colorway": [
           "#636efa",
           "#EF553B",
           "#00cc96",
           "#ab63fa",
           "#FFA15A",
           "#19d3f3",
           "#FF6692",
           "#B6E880",
           "#FF97FF",
           "#FECB52"
          ],
          "font": {
           "color": "#2a3f5f"
          },
          "geo": {
           "bgcolor": "white",
           "lakecolor": "white",
           "landcolor": "#E5ECF6",
           "showlakes": true,
           "showland": true,
           "subunitcolor": "white"
          },
          "hoverlabel": {
           "align": "left"
          },
          "hovermode": "closest",
          "mapbox": {
           "style": "light"
          },
          "paper_bgcolor": "white",
          "plot_bgcolor": "#E5ECF6",
          "polar": {
           "angularaxis": {
            "gridcolor": "white",
            "linecolor": "white",
            "ticks": ""
           },
           "bgcolor": "#E5ECF6",
           "radialaxis": {
            "gridcolor": "white",
            "linecolor": "white",
            "ticks": ""
           }
          },
          "scene": {
           "xaxis": {
            "backgroundcolor": "#E5ECF6",
            "gridcolor": "white",
            "gridwidth": 2,
            "linecolor": "white",
            "showbackground": true,
            "ticks": "",
            "zerolinecolor": "white"
           },
           "yaxis": {
            "backgroundcolor": "#E5ECF6",
            "gridcolor": "white",
            "gridwidth": 2,
            "linecolor": "white",
            "showbackground": true,
            "ticks": "",
            "zerolinecolor": "white"
           },
           "zaxis": {
            "backgroundcolor": "#E5ECF6",
            "gridcolor": "white",
            "gridwidth": 2,
            "linecolor": "white",
            "showbackground": true,
            "ticks": "",
            "zerolinecolor": "white"
           }
          },
          "shapedefaults": {
           "line": {
            "color": "#2a3f5f"
           }
          },
          "ternary": {
           "aaxis": {
            "gridcolor": "white",
            "linecolor": "white",
            "ticks": ""
           },
           "baxis": {
            "gridcolor": "white",
            "linecolor": "white",
            "ticks": ""
           },
           "bgcolor": "#E5ECF6",
           "caxis": {
            "gridcolor": "white",
            "linecolor": "white",
            "ticks": ""
           }
          },
          "title": {
           "x": 0.05
          },
          "xaxis": {
           "automargin": true,
           "gridcolor": "white",
           "linecolor": "white",
           "ticks": "",
           "title": {
            "standoff": 15
           },
           "zerolinecolor": "white",
           "zerolinewidth": 2
          },
          "yaxis": {
           "automargin": true,
           "gridcolor": "white",
           "linecolor": "white",
           "ticks": "",
           "title": {
            "standoff": 15
           },
           "zerolinecolor": "white",
           "zerolinewidth": 2
          }
         }
        },
        "title": {
         "text": "Cumulative Returns (non-compounded)"
        },
        "xaxis": {
         "anchor": "y",
         "domain": [
          0,
          1
         ],
         "title": {
          "text": "Observations"
         }
        },
        "yaxis": {
         "anchor": "x",
         "domain": [
          0,
          1
         ],
         "tickformat": ".2%",
         "title": {
          "text": "Cumulative Returns"
         }
        }
       }
      }
     },
     "metadata": {},
     "output_type": "display_data"
    }
   ],
   "source": [
    "population = Population(\n",
    "    [\n",
    "        pred_factor_1,\n",
    "        pred_factor_2,\n",
    "        pred_factor_3,\n",
    "        pred_benchmark\n",
    "    ]\n",
    ")\n",
    "population.plot_cumulative_returns()"
   ]
  },
  {
   "cell_type": "code",
   "execution_count": 25,
   "metadata": {},
   "outputs": [
    {
     "data": {
      "application/vnd.plotly.v1+json": {
       "config": {
        "plotlyServerURL": "https://plot.ly"
       },
       "data": [
        {
         "hovertemplate": "asset=PEP<br>index=%{x}<br>value=%{y}<extra></extra>",
         "legendgroup": "PEP",
         "marker": {
          "color": "#636efa",
          "pattern": {
           "shape": ""
          }
         },
         "name": "PEP",
         "orientation": "v",
         "showlegend": true,
         "textposition": "auto",
         "type": "bar",
         "x": [
          "Factor Model 1",
          "Factor Model 2",
          "Factor Model 3",
          "Empirical"
         ],
         "xaxis": "x",
         "y": {
          "bdata": "kBOFfWUuzT/cbdxSKA67P3adnxwTUs8/AeNmTEqfuD8=",
          "dtype": "f8"
         },
         "yaxis": "y"
        },
        {
         "hovertemplate": "asset=KO<br>index=%{x}<br>value=%{y}<extra></extra>",
         "legendgroup": "KO",
         "marker": {
          "color": "#EF553B",
          "pattern": {
           "shape": ""
          }
         },
         "name": "KO",
         "orientation": "v",
         "showlegend": true,
         "textposition": "auto",
         "type": "bar",
         "x": [
          "Factor Model 1",
          "Factor Model 2",
          "Factor Model 3",
          "Empirical"
         ],
         "xaxis": "x",
         "y": {
          "bdata": "kkUQc/Lsxj/L6MwQoAC2P4WAQRpwhrA/AAAAAAAAAAA=",
          "dtype": "f8"
         },
         "yaxis": "y"
        },
        {
         "hovertemplate": "asset=PG<br>index=%{x}<br>value=%{y}<extra></extra>",
         "legendgroup": "PG",
         "marker": {
          "color": "#00cc96",
          "pattern": {
           "shape": ""
          }
         },
         "name": "PG",
         "orientation": "v",
         "showlegend": true,
         "textposition": "auto",
         "type": "bar",
         "x": [
          "Factor Model 1",
          "Factor Model 2",
          "Factor Model 3",
          "Empirical"
         ],
         "xaxis": "x",
         "y": {
          "bdata": "9XgjN91ywj9wz0yFV1i0PwAAAAAAAAAANerZ4BPWgz8=",
          "dtype": "f8"
         },
         "yaxis": "y"
        },
        {
         "hovertemplate": "asset=MRK<br>index=%{x}<br>value=%{y}<extra></extra>",
         "legendgroup": "MRK",
         "marker": {
          "color": "#ab63fa",
          "pattern": {
           "shape": ""
          }
         },
         "name": "MRK",
         "orientation": "v",
         "showlegend": true,
         "textposition": "auto",
         "type": "bar",
         "x": [
          "Factor Model 1",
          "Factor Model 2",
          "Factor Model 3",
          "Empirical"
         ],
         "xaxis": "x",
         "y": {
          "bdata": "34WqlYdFsj9lgDhpkEyuPw2R81lGnbg/AAAAAAAAAAA=",
          "dtype": "f8"
         },
         "yaxis": "y"
        },
        {
         "hovertemplate": "asset=JNJ<br>index=%{x}<br>value=%{y}<extra></extra>",
         "legendgroup": "JNJ",
         "marker": {
          "color": "#FFA15A",
          "pattern": {
           "shape": ""
          }
         },
         "name": "JNJ",
         "orientation": "v",
         "showlegend": true,
         "textposition": "auto",
         "type": "bar",
         "x": [
          "Factor Model 1",
          "Factor Model 2",
          "Factor Model 3",
          "Empirical"
         ],
         "xaxis": "x",
         "y": {
          "bdata": "wFs7CJhFsD/mfBa2ME21PwAAAAAAAAAAAAAAAAAAAAA=",
          "dtype": "f8"
         },
         "yaxis": "y"
        },
        {
         "hovertemplate": "asset=UNH<br>index=%{x}<br>value=%{y}<extra></extra>",
         "legendgroup": "UNH",
         "marker": {
          "color": "#19d3f3",
          "pattern": {
           "shape": ""
          }
         },
         "name": "UNH",
         "orientation": "v",
         "showlegend": true,
         "textposition": "auto",
         "type": "bar",
         "x": [
          "Factor Model 1",
          "Factor Model 2",
          "Factor Model 3",
          "Empirical"
         ],
         "xaxis": "x",
         "y": {
          "bdata": "WYmjJwe7rz9oXGhRL9CqPzSq3zJ01cI/9JUB6uJMzz8=",
          "dtype": "f8"
         },
         "yaxis": "y"
        },
        {
         "hovertemplate": "asset=WMT<br>index=%{x}<br>value=%{y}<extra></extra>",
         "legendgroup": "WMT",
         "marker": {
          "color": "#FF6692",
          "pattern": {
           "shape": ""
          }
         },
         "name": "WMT",
         "orientation": "v",
         "showlegend": true,
         "textposition": "auto",
         "type": "bar",
         "x": [
          "Factor Model 1",
          "Factor Model 2",
          "Factor Model 3",
          "Empirical"
         ],
         "xaxis": "x",
         "y": {
          "bdata": "v7Z3msTYrD9p0+Czc0imPwAAAAAAAAAAAAAAAAAAAAA=",
          "dtype": "f8"
         },
         "yaxis": "y"
        },
        {
         "hovertemplate": "asset=PFE<br>index=%{x}<br>value=%{y}<extra></extra>",
         "legendgroup": "PFE",
         "marker": {
          "color": "#B6E880",
          "pattern": {
           "shape": ""
          }
         },
         "name": "PFE",
         "orientation": "v",
         "showlegend": true,
         "textposition": "auto",
         "type": "bar",
         "x": [
          "Factor Model 1",
          "Factor Model 2",
          "Factor Model 3",
          "Empirical"
         ],
         "xaxis": "x",
         "y": {
          "bdata": "QFhHK45Iqj9BTe9Be3uwPwAAAAAAAAAAAAAAAAAAAAA=",
          "dtype": "f8"
         },
         "yaxis": "y"
        },
        {
         "hovertemplate": "asset=HD<br>index=%{x}<br>value=%{y}<extra></extra>",
         "legendgroup": "HD",
         "marker": {
          "color": "#FF97FF",
          "pattern": {
           "shape": ""
          }
         },
         "name": "HD",
         "orientation": "v",
         "showlegend": true,
         "textposition": "auto",
         "type": "bar",
         "x": [
          "Factor Model 1",
          "Factor Model 2",
          "Factor Model 3",
          "Empirical"
         ],
         "xaxis": "x",
         "y": {
          "bdata": "3HOA1GdEqj/VHZLWsnu0P48sjnV1P5E/zVUTWO9PvD8=",
          "dtype": "f8"
         },
         "yaxis": "y"
        },
        {
         "hovertemplate": "asset=LLY<br>index=%{x}<br>value=%{y}<extra></extra>",
         "legendgroup": "LLY",
         "marker": {
          "color": "#FECB52",
          "pattern": {
           "shape": ""
          }
         },
         "name": "LLY",
         "orientation": "v",
         "showlegend": true,
         "textposition": "auto",
         "type": "bar",
         "x": [
          "Factor Model 1",
          "Factor Model 2",
          "Factor Model 3",
          "Empirical"
         ],
         "xaxis": "x",
         "y": {
          "bdata": "glpkMaPCqT+MN2P+YIqnP/w4q2v08q8/1SDTMRjRxD8=",
          "dtype": "f8"
         },
         "yaxis": "y"
        },
        {
         "hovertemplate": "asset=MSFT<br>index=%{x}<br>value=%{y}<extra></extra>",
         "legendgroup": "MSFT",
         "marker": {
          "color": "#636efa",
          "pattern": {
           "shape": ""
          }
         },
         "name": "MSFT",
         "orientation": "v",
         "showlegend": true,
         "textposition": "auto",
         "type": "bar",
         "x": [
          "Factor Model 1",
          "Factor Model 2",
          "Factor Model 3",
          "Empirical"
         ],
         "xaxis": "x",
         "y": {
          "bdata": "S/YJhE4lpT83akPSro+1P1AwZPK/kNc/cRxW3J3Bxj8=",
          "dtype": "f8"
         },
         "yaxis": "y"
        },
        {
         "hovertemplate": "asset=AMD<br>index=%{x}<br>value=%{y}<extra></extra>",
         "legendgroup": "AMD",
         "marker": {
          "color": "#EF553B",
          "pattern": {
           "shape": ""
          }
         },
         "name": "AMD",
         "orientation": "v",
         "showlegend": true,
         "textposition": "auto",
         "type": "bar",
         "x": [
          "Factor Model 1",
          "Factor Model 2",
          "Factor Model 3",
          "Empirical"
         ],
         "xaxis": "x",
         "y": {
          "bdata": "gPtm5wLjVD9LMZ0z/vF6PwAAAAAAAAAAbge8t3H/sz8=",
          "dtype": "f8"
         },
         "yaxis": "y"
        },
        {
         "hovertemplate": "asset=JPM<br>index=%{x}<br>value=%{y}<extra></extra>",
         "legendgroup": "JPM",
         "marker": {
          "color": "#00cc96",
          "pattern": {
           "shape": ""
          }
         },
         "name": "JPM",
         "orientation": "v",
         "showlegend": true,
         "textposition": "auto",
         "type": "bar",
         "x": [
          "Factor Model 1",
          "Factor Model 2",
          "Factor Model 3",
          "Empirical"
         ],
         "xaxis": "x",
         "y": {
          "bdata": "AAAAAAAAAACZJiUnE0+oPwAAAAAAAAAAAAAAAAAAAAA=",
          "dtype": "f8"
         },
         "yaxis": "y"
        },
        {
         "hovertemplate": "asset=XOM<br>index=%{x}<br>value=%{y}<extra></extra>",
         "legendgroup": "XOM",
         "marker": {
          "color": "#ab63fa",
          "pattern": {
           "shape": ""
          }
         },
         "name": "XOM",
         "orientation": "v",
         "showlegend": true,
         "textposition": "auto",
         "type": "bar",
         "x": [
          "Factor Model 1",
          "Factor Model 2",
          "Factor Model 3",
          "Empirical"
         ],
         "xaxis": "x",
         "y": {
          "bdata": "AAAAAAAAAACEoaI9ckenPwAAAAAAAAAAAAAAAAAAAAA=",
          "dtype": "f8"
         },
         "yaxis": "y"
        },
        {
         "hovertemplate": "asset=AAPL<br>index=%{x}<br>value=%{y}<extra></extra>",
         "legendgroup": "AAPL",
         "marker": {
          "color": "#FFA15A",
          "pattern": {
           "shape": ""
          }
         },
         "name": "AAPL",
         "orientation": "v",
         "showlegend": true,
         "textposition": "auto",
         "type": "bar",
         "x": [
          "Factor Model 1",
          "Factor Model 2",
          "Factor Model 3",
          "Empirical"
         ],
         "xaxis": "x",
         "y": {
          "bdata": "AAAAAAAAAADLQJWDf12kPwAAAAAAAAAAOmgaiO//uT8=",
          "dtype": "f8"
         },
         "yaxis": "y"
        },
        {
         "hovertemplate": "asset=CVX<br>index=%{x}<br>value=%{y}<extra></extra>",
         "legendgroup": "CVX",
         "marker": {
          "color": "#19d3f3",
          "pattern": {
           "shape": ""
          }
         },
         "name": "CVX",
         "orientation": "v",
         "showlegend": true,
         "textposition": "auto",
         "type": "bar",
         "x": [
          "Factor Model 1",
          "Factor Model 2",
          "Factor Model 3",
          "Empirical"
         ],
         "xaxis": "x",
         "y": {
          "bdata": "AAAAAAAAAACryLtXdjCgPwAAAAAAAAAAAAAAAAAAAAA=",
          "dtype": "f8"
         },
         "yaxis": "y"
        },
        {
         "hovertemplate": "asset=BAC<br>index=%{x}<br>value=%{y}<extra></extra>",
         "legendgroup": "BAC",
         "marker": {
          "color": "#FF6692",
          "pattern": {
           "shape": ""
          }
         },
         "name": "BAC",
         "orientation": "v",
         "showlegend": true,
         "textposition": "auto",
         "type": "bar",
         "x": [
          "Factor Model 1",
          "Factor Model 2",
          "Factor Model 3",
          "Empirical"
         ],
         "xaxis": "x",
         "y": {
          "bdata": "AAAAAAAAAADWbnQWXF2WPwAAAAAAAAAAAAAAAAAAAAA=",
          "dtype": "f8"
         },
         "yaxis": "y"
        },
        {
         "hovertemplate": "asset=GE<br>index=%{x}<br>value=%{y}<extra></extra>",
         "legendgroup": "GE",
         "marker": {
          "color": "#B6E880",
          "pattern": {
           "shape": ""
          }
         },
         "name": "GE",
         "orientation": "v",
         "showlegend": true,
         "textposition": "auto",
         "type": "bar",
         "x": [
          "Factor Model 1",
          "Factor Model 2",
          "Factor Model 3",
          "Empirical"
         ],
         "xaxis": "x",
         "y": {
          "bdata": "AAAAAAAAAAAcKqLnZSmNPwAAAAAAAAAAAAAAAAAAAAA=",
          "dtype": "f8"
         },
         "yaxis": "y"
        },
        {
         "hovertemplate": "asset=BBY<br>index=%{x}<br>value=%{y}<extra></extra>",
         "legendgroup": "BBY",
         "marker": {
          "color": "#FF97FF",
          "pattern": {
           "shape": ""
          }
         },
         "name": "BBY",
         "orientation": "v",
         "showlegend": true,
         "textposition": "auto",
         "type": "bar",
         "x": [
          "Factor Model 1",
          "Factor Model 2",
          "Factor Model 3",
          "Empirical"
         ],
         "xaxis": "x",
         "y": {
          "bdata": "AAAAAAAAAACUtNupdmWCPwAAAAAAAAAAtbg9XKpakz8=",
          "dtype": "f8"
         },
         "yaxis": "y"
        },
        {
         "hovertemplate": "asset=RRC<br>index=%{x}<br>value=%{y}<extra></extra>",
         "legendgroup": "RRC",
         "marker": {
          "color": "#FECB52",
          "pattern": {
           "shape": ""
          }
         },
         "name": "RRC",
         "orientation": "v",
         "showlegend": true,
         "textposition": "auto",
         "type": "bar",
         "x": [
          "Factor Model 1",
          "Factor Model 2",
          "Factor Model 3",
          "Empirical"
         ],
         "xaxis": "x",
         "y": {
          "bdata": "AAAAAAAAAADyNwNIJcEDPwAAAAAAAAAAAAAAAAAAAAA=",
          "dtype": "f8"
         },
         "yaxis": "y"
        }
       ],
       "layout": {
        "barmode": "relative",
        "legend": {
         "title": {
          "text": "asset"
         },
         "tracegroupgap": 0,
         "x": 1.15,
         "xanchor": "left",
         "y": 0.99,
         "yanchor": "top"
        },
        "margin": {
         "t": 60
        },
        "template": {
         "data": {
          "bar": [
           {
            "error_x": {
             "color": "#2a3f5f"
            },
            "error_y": {
             "color": "#2a3f5f"
            },
            "marker": {
             "line": {
              "color": "#E5ECF6",
              "width": 0.5
             },
             "pattern": {
              "fillmode": "overlay",
              "size": 10,
              "solidity": 0.2
             }
            },
            "type": "bar"
           }
          ],
          "barpolar": [
           {
            "marker": {
             "line": {
              "color": "#E5ECF6",
              "width": 0.5
             },
             "pattern": {
              "fillmode": "overlay",
              "size": 10,
              "solidity": 0.2
             }
            },
            "type": "barpolar"
           }
          ],
          "carpet": [
           {
            "aaxis": {
             "endlinecolor": "#2a3f5f",
             "gridcolor": "white",
             "linecolor": "white",
             "minorgridcolor": "white",
             "startlinecolor": "#2a3f5f"
            },
            "baxis": {
             "endlinecolor": "#2a3f5f",
             "gridcolor": "white",
             "linecolor": "white",
             "minorgridcolor": "white",
             "startlinecolor": "#2a3f5f"
            },
            "type": "carpet"
           }
          ],
          "choropleth": [
           {
            "colorbar": {
             "outlinewidth": 0,
             "ticks": ""
            },
            "type": "choropleth"
           }
          ],
          "contour": [
           {
            "colorbar": {
             "outlinewidth": 0,
             "ticks": ""
            },
            "colorscale": [
             [
              0,
              "#0d0887"
             ],
             [
              0.1111111111111111,
              "#46039f"
             ],
             [
              0.2222222222222222,
              "#7201a8"
             ],
             [
              0.3333333333333333,
              "#9c179e"
             ],
             [
              0.4444444444444444,
              "#bd3786"
             ],
             [
              0.5555555555555556,
              "#d8576b"
             ],
             [
              0.6666666666666666,
              "#ed7953"
             ],
             [
              0.7777777777777778,
              "#fb9f3a"
             ],
             [
              0.8888888888888888,
              "#fdca26"
             ],
             [
              1,
              "#f0f921"
             ]
            ],
            "type": "contour"
           }
          ],
          "contourcarpet": [
           {
            "colorbar": {
             "outlinewidth": 0,
             "ticks": ""
            },
            "type": "contourcarpet"
           }
          ],
          "heatmap": [
           {
            "colorbar": {
             "outlinewidth": 0,
             "ticks": ""
            },
            "colorscale": [
             [
              0,
              "#0d0887"
             ],
             [
              0.1111111111111111,
              "#46039f"
             ],
             [
              0.2222222222222222,
              "#7201a8"
             ],
             [
              0.3333333333333333,
              "#9c179e"
             ],
             [
              0.4444444444444444,
              "#bd3786"
             ],
             [
              0.5555555555555556,
              "#d8576b"
             ],
             [
              0.6666666666666666,
              "#ed7953"
             ],
             [
              0.7777777777777778,
              "#fb9f3a"
             ],
             [
              0.8888888888888888,
              "#fdca26"
             ],
             [
              1,
              "#f0f921"
             ]
            ],
            "type": "heatmap"
           }
          ],
          "histogram": [
           {
            "marker": {
             "pattern": {
              "fillmode": "overlay",
              "size": 10,
              "solidity": 0.2
             }
            },
            "type": "histogram"
           }
          ],
          "histogram2d": [
           {
            "colorbar": {
             "outlinewidth": 0,
             "ticks": ""
            },
            "colorscale": [
             [
              0,
              "#0d0887"
             ],
             [
              0.1111111111111111,
              "#46039f"
             ],
             [
              0.2222222222222222,
              "#7201a8"
             ],
             [
              0.3333333333333333,
              "#9c179e"
             ],
             [
              0.4444444444444444,
              "#bd3786"
             ],
             [
              0.5555555555555556,
              "#d8576b"
             ],
             [
              0.6666666666666666,
              "#ed7953"
             ],
             [
              0.7777777777777778,
              "#fb9f3a"
             ],
             [
              0.8888888888888888,
              "#fdca26"
             ],
             [
              1,
              "#f0f921"
             ]
            ],
            "type": "histogram2d"
           }
          ],
          "histogram2dcontour": [
           {
            "colorbar": {
             "outlinewidth": 0,
             "ticks": ""
            },
            "colorscale": [
             [
              0,
              "#0d0887"
             ],
             [
              0.1111111111111111,
              "#46039f"
             ],
             [
              0.2222222222222222,
              "#7201a8"
             ],
             [
              0.3333333333333333,
              "#9c179e"
             ],
             [
              0.4444444444444444,
              "#bd3786"
             ],
             [
              0.5555555555555556,
              "#d8576b"
             ],
             [
              0.6666666666666666,
              "#ed7953"
             ],
             [
              0.7777777777777778,
              "#fb9f3a"
             ],
             [
              0.8888888888888888,
              "#fdca26"
             ],
             [
              1,
              "#f0f921"
             ]
            ],
            "type": "histogram2dcontour"
           }
          ],
          "mesh3d": [
           {
            "colorbar": {
             "outlinewidth": 0,
             "ticks": ""
            },
            "type": "mesh3d"
           }
          ],
          "parcoords": [
           {
            "line": {
             "colorbar": {
              "outlinewidth": 0,
              "ticks": ""
             }
            },
            "type": "parcoords"
           }
          ],
          "pie": [
           {
            "automargin": true,
            "type": "pie"
           }
          ],
          "scatter": [
           {
            "fillpattern": {
             "fillmode": "overlay",
             "size": 10,
             "solidity": 0.2
            },
            "type": "scatter"
           }
          ],
          "scatter3d": [
           {
            "line": {
             "colorbar": {
              "outlinewidth": 0,
              "ticks": ""
             }
            },
            "marker": {
             "colorbar": {
              "outlinewidth": 0,
              "ticks": ""
             }
            },
            "type": "scatter3d"
           }
          ],
          "scattercarpet": [
           {
            "marker": {
             "colorbar": {
              "outlinewidth": 0,
              "ticks": ""
             }
            },
            "type": "scattercarpet"
           }
          ],
          "scattergeo": [
           {
            "marker": {
             "colorbar": {
              "outlinewidth": 0,
              "ticks": ""
             }
            },
            "type": "scattergeo"
           }
          ],
          "scattergl": [
           {
            "marker": {
             "colorbar": {
              "outlinewidth": 0,
              "ticks": ""
             }
            },
            "type": "scattergl"
           }
          ],
          "scattermap": [
           {
            "marker": {
             "colorbar": {
              "outlinewidth": 0,
              "ticks": ""
             }
            },
            "type": "scattermap"
           }
          ],
          "scattermapbox": [
           {
            "marker": {
             "colorbar": {
              "outlinewidth": 0,
              "ticks": ""
             }
            },
            "type": "scattermapbox"
           }
          ],
          "scatterpolar": [
           {
            "marker": {
             "colorbar": {
              "outlinewidth": 0,
              "ticks": ""
             }
            },
            "type": "scatterpolar"
           }
          ],
          "scatterpolargl": [
           {
            "marker": {
             "colorbar": {
              "outlinewidth": 0,
              "ticks": ""
             }
            },
            "type": "scatterpolargl"
           }
          ],
          "scatterternary": [
           {
            "marker": {
             "colorbar": {
              "outlinewidth": 0,
              "ticks": ""
             }
            },
            "type": "scatterternary"
           }
          ],
          "surface": [
           {
            "colorbar": {
             "outlinewidth": 0,
             "ticks": ""
            },
            "colorscale": [
             [
              0,
              "#0d0887"
             ],
             [
              0.1111111111111111,
              "#46039f"
             ],
             [
              0.2222222222222222,
              "#7201a8"
             ],
             [
              0.3333333333333333,
              "#9c179e"
             ],
             [
              0.4444444444444444,
              "#bd3786"
             ],
             [
              0.5555555555555556,
              "#d8576b"
             ],
             [
              0.6666666666666666,
              "#ed7953"
             ],
             [
              0.7777777777777778,
              "#fb9f3a"
             ],
             [
              0.8888888888888888,
              "#fdca26"
             ],
             [
              1,
              "#f0f921"
             ]
            ],
            "type": "surface"
           }
          ],
          "table": [
           {
            "cells": {
             "fill": {
              "color": "#EBF0F8"
             },
             "line": {
              "color": "white"
             }
            },
            "header": {
             "fill": {
              "color": "#C8D4E3"
             },
             "line": {
              "color": "white"
             }
            },
            "type": "table"
           }
          ]
         },
         "layout": {
          "annotationdefaults": {
           "arrowcolor": "#2a3f5f",
           "arrowhead": 0,
           "arrowwidth": 1
          },
          "autotypenumbers": "strict",
          "coloraxis": {
           "colorbar": {
            "outlinewidth": 0,
            "ticks": ""
           }
          },
          "colorscale": {
           "diverging": [
            [
             0,
             "#8e0152"
            ],
            [
             0.1,
             "#c51b7d"
            ],
            [
             0.2,
             "#de77ae"
            ],
            [
             0.3,
             "#f1b6da"
            ],
            [
             0.4,
             "#fde0ef"
            ],
            [
             0.5,
             "#f7f7f7"
            ],
            [
             0.6,
             "#e6f5d0"
            ],
            [
             0.7,
             "#b8e186"
            ],
            [
             0.8,
             "#7fbc41"
            ],
            [
             0.9,
             "#4d9221"
            ],
            [
             1,
             "#276419"
            ]
           ],
           "sequential": [
            [
             0,
             "#0d0887"
            ],
            [
             0.1111111111111111,
             "#46039f"
            ],
            [
             0.2222222222222222,
             "#7201a8"
            ],
            [
             0.3333333333333333,
             "#9c179e"
            ],
            [
             0.4444444444444444,
             "#bd3786"
            ],
            [
             0.5555555555555556,
             "#d8576b"
            ],
            [
             0.6666666666666666,
             "#ed7953"
            ],
            [
             0.7777777777777778,
             "#fb9f3a"
            ],
            [
             0.8888888888888888,
             "#fdca26"
            ],
            [
             1,
             "#f0f921"
            ]
           ],
           "sequentialminus": [
            [
             0,
             "#0d0887"
            ],
            [
             0.1111111111111111,
             "#46039f"
            ],
            [
             0.2222222222222222,
             "#7201a8"
            ],
            [
             0.3333333333333333,
             "#9c179e"
            ],
            [
             0.4444444444444444,
             "#bd3786"
            ],
            [
             0.5555555555555556,
             "#d8576b"
            ],
            [
             0.6666666666666666,
             "#ed7953"
            ],
            [
             0.7777777777777778,
             "#fb9f3a"
            ],
            [
             0.8888888888888888,
             "#fdca26"
            ],
            [
             1,
             "#f0f921"
            ]
           ]
          },
          "colorway": [
           "#636efa",
           "#EF553B",
           "#00cc96",
           "#ab63fa",
           "#FFA15A",
           "#19d3f3",
           "#FF6692",
           "#B6E880",
           "#FF97FF",
           "#FECB52"
          ],
          "font": {
           "color": "#2a3f5f"
          },
          "geo": {
           "bgcolor": "white",
           "lakecolor": "white",
           "landcolor": "#E5ECF6",
           "showlakes": true,
           "showland": true,
           "subunitcolor": "white"
          },
          "hoverlabel": {
           "align": "left"
          },
          "hovermode": "closest",
          "mapbox": {
           "style": "light"
          },
          "paper_bgcolor": "white",
          "plot_bgcolor": "#E5ECF6",
          "polar": {
           "angularaxis": {
            "gridcolor": "white",
            "linecolor": "white",
            "ticks": ""
           },
           "bgcolor": "#E5ECF6",
           "radialaxis": {
            "gridcolor": "white",
            "linecolor": "white",
            "ticks": ""
           }
          },
          "scene": {
           "xaxis": {
            "backgroundcolor": "#E5ECF6",
            "gridcolor": "white",
            "gridwidth": 2,
            "linecolor": "white",
            "showbackground": true,
            "ticks": "",
            "zerolinecolor": "white"
           },
           "yaxis": {
            "backgroundcolor": "#E5ECF6",
            "gridcolor": "white",
            "gridwidth": 2,
            "linecolor": "white",
            "showbackground": true,
            "ticks": "",
            "zerolinecolor": "white"
           },
           "zaxis": {
            "backgroundcolor": "#E5ECF6",
            "gridcolor": "white",
            "gridwidth": 2,
            "linecolor": "white",
            "showbackground": true,
            "ticks": "",
            "zerolinecolor": "white"
           }
          },
          "shapedefaults": {
           "line": {
            "color": "#2a3f5f"
           }
          },
          "ternary": {
           "aaxis": {
            "gridcolor": "white",
            "linecolor": "white",
            "ticks": ""
           },
           "baxis": {
            "gridcolor": "white",
            "linecolor": "white",
            "ticks": ""
           },
           "bgcolor": "#E5ECF6",
           "caxis": {
            "gridcolor": "white",
            "linecolor": "white",
            "ticks": ""
           }
          },
          "title": {
           "x": 0.05
          },
          "xaxis": {
           "automargin": true,
           "gridcolor": "white",
           "linecolor": "white",
           "ticks": "",
           "title": {
            "standoff": 15
           },
           "zerolinecolor": "white",
           "zerolinewidth": 2
          },
          "yaxis": {
           "automargin": true,
           "gridcolor": "white",
           "linecolor": "white",
           "ticks": "",
           "title": {
            "standoff": 15
           },
           "zerolinecolor": "white",
           "zerolinewidth": 2
          }
         }
        },
        "title": {
         "text": "Portfolios Composition"
        },
        "xaxis": {
         "anchor": "y",
         "domain": [
          0,
          1
         ],
         "title": {
          "text": "Portfolios"
         }
        },
        "yaxis": {
         "anchor": "x",
         "domain": [
          0,
          1
         ],
         "tickformat": ",.0%",
         "title": {
          "text": "Weight"
         }
        }
       }
      }
     },
     "metadata": {},
     "output_type": "display_data"
    }
   ],
   "source": [
    "population.plot_composition()"
   ]
  },
  {
   "cell_type": "code",
   "execution_count": null,
   "metadata": {},
   "outputs": [],
   "source": []
  }
 ],
 "metadata": {
  "kernelspec": {
   "display_name": "quant-portfolio",
   "language": "python",
   "name": "quant-portfolio"
  },
  "language_info": {
   "codemirror_mode": {
    "name": "ipython",
    "version": 3
   },
   "file_extension": ".py",
   "mimetype": "text/x-python",
   "name": "python",
   "nbconvert_exporter": "python",
   "pygments_lexer": "ipython3",
   "version": "3.12.3"
  }
 },
 "nbformat": 4,
 "nbformat_minor": 2
}
